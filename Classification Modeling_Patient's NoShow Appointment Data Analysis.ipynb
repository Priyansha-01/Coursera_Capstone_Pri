{
 "cells": [
  {
   "cell_type": "code",
   "execution_count": 250,
   "metadata": {},
   "outputs": [],
   "source": [
    "import pandas as pd\n",
    "import numpy as np\n",
    "import os\n",
    "import matplotlib.pyplot as plt\n",
    "import seaborn as sns\n",
    "from datetime import datetime\n",
    "import datetime\n",
    "import seaborn as sbs\n",
    "import matplotlib.pyplot as plt\n",
    "from sklearn.ensemble import RandomForestClassifier\n",
    "from sklearn.tree import DecisionTreeClassifier\n",
    "from sklearn.model_selection import cross_val_score\n",
    "from sklearn.linear_model import LogisticRegression\n",
    "from sklearn.neighbors import KNeighborsClassifier\n",
    "from sklearn.model_selection import  GridSearchCV, KFold\n",
    "from sklearn.linear_model import LogisticRegression\n",
    "from sklearn.metrics import confusion_matrix\n",
    "from sklearn.metrics import roc_curve, auc\n",
    "import warnings\n",
    "warnings.filterwarnings('ignore')"
   ]
  },
  {
   "cell_type": "code",
   "execution_count": 251,
   "metadata": {},
   "outputs": [],
   "source": [
    "df=pd.read_csv('589Data.csv')"
   ]
  },
  {
   "cell_type": "code",
   "execution_count": 252,
   "metadata": {},
   "outputs": [
    {
     "data": {
      "text/plain": [
       "0.0     67483\n",
       "1.0     28508\n",
       "2.0      8984\n",
       "3.0      2923\n",
       "4.0      1215\n",
       "5.0       552\n",
       "6.0       337\n",
       "7.0       161\n",
       "8.0       114\n",
       "11.0       65\n",
       "10.0       50\n",
       "9.0        31\n",
       "12.0       23\n",
       "15.0       20\n",
       "18.0       18\n",
       "16.0       16\n",
       "14.0       14\n",
       "13.0       13\n",
       "Name: NoShowHistory, dtype: int64"
      ]
     },
     "execution_count": 252,
     "metadata": {},
     "output_type": "execute_result"
    }
   ],
   "source": [
    "df['NoShowHistory'].value_counts()"
   ]
  },
  {
   "cell_type": "markdown",
   "metadata": {},
   "source": [
    "Ques 1. Check for imbalance in data"
   ]
  },
  {
   "cell_type": "code",
   "execution_count": 253,
   "metadata": {},
   "outputs": [
    {
     "data": {
      "image/png": "[encoded data removed]",
      "text/plain": [
       "<Figure size 432x288 with 1 Axes>"
      ]
     },
     "metadata": {},
     "output_type": "display_data"
    }
   ],
   "source": [
    "groups = df.groupby(['No-show'])\n",
    "gps = groups.size()\n",
    "ax = sbs.barplot(x=gps.index.tolist(), y=gps.values)\n",
    "plt.show()"
   ]
  },
  {
   "cell_type": "code",
   "execution_count": 254,
   "metadata": {},
   "outputs": [
    {
     "data": {
      "text/plain": [
       "No-show\n",
       "No              88208.000000\n",
       "Yes             22319.000000\n",
       "Prop_no_show       79.806744\n",
       "Prop_show          20.193256\n",
       "dtype: float64"
      ]
     },
     "execution_count": 254,
     "metadata": {},
     "output_type": "execute_result"
    }
   ],
   "source": [
    "gps = groups.size()\n",
    "total= gps['No']+gps['Yes']\n",
    "gps['Prop_no_show']= (gps['No']/total*100)\n",
    "gps['Prop_show']=(gps['Yes']/total*100)\n",
    "gps"
   ]
  },
  {
   "cell_type": "code",
   "execution_count": 255,
   "metadata": {},
   "outputs": [
    {
     "data": {
      "text/plain": [
       "<matplotlib.legend.Legend at 0x1a25a42ba8>"
      ]
     },
     "execution_count": 255,
     "metadata": {},
     "output_type": "execute_result"
    },
    {
     "data": {
      "image/png": "[encoded data removed]",
      "text/plain": [
       "<Figure size 720x360 with 1 Axes>"
      ]
     },
     "metadata": {},
     "output_type": "display_data"
    }
   ],
   "source": [
    "#check number of not showing up patinets to an appointment on scale of 100\n",
    "#group by no-show column\n",
    "no_show_percentage = pd.DataFrame(df.groupby([\"No-show\"])[\"PatientId\"].count())\n",
    "#calculate percentage of show up and no show and store it in column No-Show\n",
    "no_show_percentage[\"No-show\"] = no_show_percentage[\"PatientId\"] / sum(no_show_percentage[\"PatientId\"]) * 100\n",
    "no_show_percentage.drop(columns=\"PatientId\", inplace=True)\n",
    "#plot the dataframe \n",
    "no_show_percentage.plot.bar(figsize=(10,5))\n",
    "plt.ylim(top=100)\n",
    "plt.title(\"Medical Appointments\",{'fontsize': 20},pad=20)\n",
    "plt.xlabel(\"Appointment Status\")\n",
    "plt.xticks(np.arange(2), ('Show-Up', 'No-Show'), rotation=0)\n",
    "plt.legend([\"Appointment Status Rate\"])"
   ]
  },
  {
   "cell_type": "code",
   "execution_count": 256,
   "metadata": {},
   "outputs": [],
   "source": [
    "from sklearn.utils import resample"
   ]
  },
  {
   "cell_type": "code",
   "execution_count": 257,
   "metadata": {},
   "outputs": [
    {
     "data": {
      "text/plain": [
       "0    88208\n",
       "1    22319\n",
       "Name: No-show, dtype: int64"
      ]
     },
     "execution_count": 257,
     "metadata": {},
     "output_type": "execute_result"
    }
   ],
   "source": [
    "# Transform into binary classification\n",
    "df['No-show'] = [1 if b=='Yes' else 0 for b in df['No-show']] \n",
    "df['No-show'].value_counts()\n"
   ]
  },
  {
   "cell_type": "markdown",
   "metadata": {},
   "source": [
    "Balancing the data by using Oversampling method"
   ]
  },
  {
   "cell_type": "code",
   "execution_count": 258,
   "metadata": {},
   "outputs": [
    {
     "data": {
      "text/plain": [
       "1    88208\n",
       "0    88208\n",
       "Name: No-show, dtype: int64"
      ]
     },
     "execution_count": 258,
     "metadata": {},
     "output_type": "execute_result"
    }
   ],
   "source": [
    "# Separate majority and minority classes\n",
    "df_majority = df[df['No-show']==0]\n",
    "df_minority = df[df['No-show']==1]\n",
    " \n",
    "# Oversample minority class\n",
    "df_minority_upsampled = resample(df_minority, \n",
    "                                 replace=True,     # sample with replacement\n",
    "                                 n_samples=88208,    # to match majority class\n",
    "                                 random_state=123) # reproducible results\n",
    " \n",
    "# Combine majority class with Oversampled minority class\n",
    "df_oversampled = pd.concat([df_majority, df_minority_upsampled])\n",
    " \n",
    "# Display new class counts\n",
    "df_oversampled['No-show'].value_counts()"
   ]
  },
  {
   "cell_type": "markdown",
   "metadata": {},
   "source": [
    "Ques 3. Dropping unnecessary variables"
   ]
  },
  {
   "cell_type": "code",
   "execution_count": 259,
   "metadata": {},
   "outputs": [
    {
     "data": {
      "text/plain": [
       "Index(['Gender', 'ScheduledDay', 'AppointmentDay', 'Age', 'Neighbourhood',\n",
       "       'Scholarship', 'Hipertension', 'Diabetes', 'Alcoholism', 'Handcap',\n",
       "       'SMS_received', 'No-show', 'Age_cat', 'WeekdayAppointment',\n",
       "       'NoShowHistory', 'AwaitingTime'],\n",
       "      dtype='object')"
      ]
     },
     "execution_count": 259,
     "metadata": {},
     "output_type": "execute_result"
    }
   ],
   "source": [
    "#dropping patient_id and appointment_id\n",
    "df_oversampled.drop(columns=['PatientId', 'AppointmentID'], inplace=True)\n",
    "df_oversampled.columns"
   ]
  },
  {
   "cell_type": "markdown",
   "metadata": {},
   "source": [
    "Ques2. Getting dummies of categorical variables"
   ]
  },
  {
   "cell_type": "code",
   "execution_count": null,
   "metadata": {},
   "outputs": [],
   "source": [
    "def one_hot_encode(data):\n",
    "    return pd.get_dummies(data)\n",
    "\n"
   ]
  },
  {
   "cell_type": "markdown",
   "metadata": {},
   "source": [
    "Ques 4. Splitting Data into training and test set"
   ]
  },
  {
   "cell_type": "code",
   "execution_count": 284,
   "metadata": {},
   "outputs": [],
   "source": [
    "from sklearn.model_selection import train_test_split\n",
    "encoded_data = one_hot_encode(df_oversampled)\n",
    "\n",
    "X = encoded_data.drop(columns='No-show')\n",
    "y = encoded_data['No-show']\n",
    "X_train, X_test,y_train, y_test = train_test_split(X, y, test_size=.5, random_state=7)"
   ]
  },
  {
   "cell_type": "code",
   "execution_count": 285,
   "metadata": {},
   "outputs": [
    {
     "data": {
      "text/plain": [
       "((88208, 238), (88208,))"
      ]
     },
     "execution_count": 285,
     "metadata": {},
     "output_type": "execute_result"
    }
   ],
   "source": [
    "X_train.shape, y_train.shape"
   ]
  },
  {
   "cell_type": "markdown",
   "metadata": {},
   "source": [
    "Ques 5. Applying Logistic Regression and generating report"
   ]
  },
  {
   "cell_type": "code",
   "execution_count": 288,
   "metadata": {},
   "outputs": [
    {
     "name": "stdout",
     "output_type": "stream",
     "text": [
      "Logistic Regression\n",
      "test accuracy 89.35\n",
      "             precision    recall  f1-score   support\n",
      "\n",
      "          0       0.84      0.95      0.89     38901\n",
      "          1       0.95      0.86      0.90     49307\n",
      "\n",
      "avg / total       0.90      0.90      0.90     88208\n",
      "\n"
     ]
    }
   ],
   "source": [
    "# logistic regression\n",
    "logreg = LogisticRegression()\n",
    "logreg.fit(X_train, y_train)\n",
    "y_pred = logreg.predict(X_test)\n",
    "acc_log = round(logreg.score(X_train, y_train) * 100, 2)\n",
    "print('Logistic Regression')\n",
    "print('test accuracy',acc_log)\n",
    "from sklearn.metrics import classification_report\n",
    "print(classification_report(y_pred,y_test))\n",
    "\n"
   ]
  },
  {
   "cell_type": "markdown",
   "metadata": {},
   "source": [
    "Using 5-fold crossvalidation on training set"
   ]
  },
  {
   "cell_type": "code",
   "execution_count": 290,
   "metadata": {},
   "outputs": [
    {
     "name": "stdout",
     "output_type": "stream",
     "text": [
      "Accuracy at each fold [0.89411631 0.89332275 0.89224578 0.89156558 0.894161  ]\n",
      "AUC at each fold [0.91016612 0.91094532 0.90970922 0.90815977 0.91169609]\n",
      "Precision at each fold [0.85158399 0.84987303 0.84823601 0.84755727 0.85115475]\n",
      "Recall at each fold [0.95314103 0.95393912 0.95393912 0.95336906 0.95393387]\n",
      "F-1 score at each fold [0.89950506 0.89890417 0.89798766 0.89735472 0.89961826]\n"
     ]
    }
   ],
   "source": [
    "logreg = LogisticRegression()\n",
    "print('Accuracy at each fold',cross_val_score(logreg, X_train,y_train, scoring='accuracy', cv = 5))\n",
    "print('AUC at each fold',cross_val_score(logreg, X_train,y_train, scoring='roc_auc', cv = 5))\n",
    "print('Precision at each fold',cross_val_score(logreg, X_train,y_train, scoring='precision', cv = 5))\n",
    "print('Recall at each fold',cross_val_score(logreg, X_train,y_train, scoring='recall', cv = 5))\n",
    "print('F-1 score at each fold',cross_val_score(logreg, X_train,y_train, scoring='f1', cv = 5))"
   ]
  },
  {
   "cell_type": "code",
   "execution_count": null,
   "metadata": {},
   "outputs": [],
   "source": []
  },
  {
   "cell_type": "code",
   "execution_count": 265,
   "metadata": {},
   "outputs": [
    {
     "data": {
      "text/plain": [
       "GridSearchCV(cv=KFold(n_splits=5, random_state=None, shuffle=True),\n",
       "       error_score='raise',\n",
       "       estimator=LogisticRegression(C=1.0, class_weight='balanced', dual=False,\n",
       "          fit_intercept=True, intercept_scaling=1, max_iter=100,\n",
       "          multi_class='ovr', n_jobs=1, penalty='l2', random_state=None,\n",
       "          solver='liblinear', tol=0.0001, verbose=0, warm_start=False),\n",
       "       fit_params=None, iid=True, n_jobs=-1,\n",
       "       param_grid={'C': array([1.00000e-03, 1.83298e-03, 3.35982e-03, 6.15848e-03, 1.12884e-02,\n",
       "       2.06914e-02, 3.79269e-02, 6.95193e-02, 1.27427e-01, 2.33572e-01,\n",
       "       4.28133e-01, 7.84760e-01, 1.43845e+00, 2.63665e+00, 4.83293e+00,\n",
       "       8.85867e+00, 1.62378e+01, 2.97635e+01, 5.45559e+01, 1.00000e+02])},\n",
       "       pre_dispatch='2*n_jobs', refit=True, return_train_score='warn',\n",
       "       scoring='roc_auc', verbose=0)"
      ]
     },
     "execution_count": 265,
     "metadata": {},
     "output_type": "execute_result"
    }
   ],
   "source": [
    "clf = LogisticRegression(class_weight=\"balanced\")\n",
    "\n",
    "clf_grid = GridSearchCV(estimator=clf,\n",
    "                        param_grid={\n",
    "                            \"C\": np.logspace(-3, 2, num=20),\n",
    "                        },\n",
    "                        cv=KFold(n_splits=5, shuffle=True),\n",
    "                        scoring='roc_auc',\n",
    "                        n_jobs=-1,\n",
    "                        refit=True\n",
    ")\n",
    "clf_grid.fit(X_train, y_train)"
   ]
  },
  {
   "cell_type": "code",
   "execution_count": 266,
   "metadata": {},
   "outputs": [
    {
     "data": {
      "image/png": "[encoded data removed]",
      "text/plain": [
       "<Figure size 792x432 with 1 Axes>"
      ]
     },
     "metadata": {},
     "output_type": "display_data"
    }
   ],
   "source": [
    "plt.figure(figsize=(11,6))\n",
    "plt.fill_between(\n",
    "    list(clf_grid.cv_results_['param_C']),\n",
    "    [(mean - std) for mean, std in zip(clf_grid.cv_results_[\"mean_test_score\"], clf_grid.cv_results_[\"std_test_score\"])],\n",
    "    [(mean + std) for mean, std in zip(clf_grid.cv_results_[\"mean_test_score\"], clf_grid.cv_results_[\"std_test_score\"])],\n",
    "    alpha=0.2\n",
    ")\n",
    "plt.plot(\n",
    "    list(clf_grid.cv_results_['param_C']),\n",
    "    [x for x in clf_grid.cv_results_[\"mean_test_score\"]],\n",
    "    '-o'\n",
    ")\n",
    "plt.axvline(clf_grid.best_params_[\"C\"], color='r', alpha=0.5)\n",
    "plt.xscale(\"log\")\n",
    "plt.xlabel(\"C\")\n",
    "plt.ylabel(\"Average AUC\")\n",
    "plt.title(\"Cross-validation search for C\")\n",
    "plt.show()"
   ]
  },
  {
   "cell_type": "code",
   "execution_count": 296,
   "metadata": {},
   "outputs": [
    {
     "data": {
      "image/png": "[encoded data removed]",
      "text/plain": [
       "<Figure size 432x432 with 1 Axes>"
      ]
     },
     "metadata": {},
     "output_type": "display_data"
    }
   ],
   "source": [
    "clf = clf_grid.best_estimator_\n",
    "plt.figure(figsize=(6,6))\n",
    "fpr_test, tpr_test, thresh = roc_curve(y_test, clf.predict_proba(X_test)[:,1])\n",
    "roc_auc_test = auc(fpr_test, tpr_test)\n",
    "\n",
    "fpr, tpr, thresh = roc_curve(y_train, clf.predict_proba(X_train)[:,1])\n",
    "roc_auc = auc(fpr, tpr)\n",
    "\n",
    "plt.title('ROC Curve')\n",
    "plt.plot(fpr, tpr, 'r-',label ='Train AUC:'.format(roc_auc))\n",
    "plt.plot(fpr_test, tpr_test, 'g-',label ='Test AUC:'.format(roc_auc_test))\n",
    "plt.legend(loc='lower right')\n",
    "plt.plot([0,1],[0,1],'k--')\n",
    "plt.xlim([0,1])\n",
    "plt.ylim([0,1])\n",
    "plt.xlabel('False Positive Rate')\n",
    "plt.ylabel('True Positive Rate')\n",
    "plt.tight_layout()\n",
    "plt.legend()\n",
    "plt.show()\n"
   ]
  },
  {
   "cell_type": "code",
   "execution_count": 271,
   "metadata": {},
   "outputs": [],
   "source": []
  },
  {
   "cell_type": "markdown",
   "metadata": {},
   "source": [
    "Ques 6. "
   ]
  },
  {
   "cell_type": "markdown",
   "metadata": {},
   "source": [
    "- predict class with majority (No-show==0) for all cases"
   ]
  },
  {
   "cell_type": "code",
   "execution_count": 282,
   "metadata": {},
   "outputs": [
    {
     "name": "stdout",
     "output_type": "stream",
     "text": [
      "All data - Naive predictor accuracy: 50.00%\n"
     ]
    },
    {
     "data": {
      "text/plain": [
       "(88208, 0, 88208, 0)"
      ]
     },
     "execution_count": 282,
     "metadata": {},
     "output_type": "execute_result"
    }
   ],
   "source": [
    "print('All data - Naive predictor accuracy: {:2.2f}%'.format(100 - (100*y.sum()/X.shape[0])))\n",
    "# row: true label ; columns: predictions\n",
    "tn, fp, fn, tp = confusion_matrix(y, np.zeros(X.shape[0])).ravel()\n",
    "(tn, fp, fn, tp)"
   ]
  },
  {
   "cell_type": "markdown",
   "metadata": {},
   "source": [
    "It seems that the naive model does not classify correctly any of out positivies entries. The 88208 false negatives (this model have poor recall). Data needed to be scaled to improve the model.\n",
    "\n"
   ]
  },
  {
   "cell_type": "code",
   "execution_count": 305,
   "metadata": {},
   "outputs": [
    {
     "name": "stdout",
     "output_type": "stream",
     "text": [
      "AUC on test set [0.91064535 0.91209281]\n"
     ]
    }
   ],
   "source": [
    "print('AUC on test set',cross_val_score(logreg, X_test,y_test, scoring='roc_auc', cv = 2))"
   ]
  },
  {
   "cell_type": "markdown",
   "metadata": {},
   "source": [
    "Higher AUC is better, therefore the result is good"
   ]
  },
  {
   "cell_type": "code",
   "execution_count": null,
   "metadata": {},
   "outputs": [],
   "source": []
  }
 ],
 "metadata": {
  "kernelspec": {
   "display_name": "Python 3",
   "language": "python",
   "name": "python3"
  },
  "language_info": {
   "codemirror_mode": {
    "name": "ipython",
    "version": 3
   },
   "file_extension": ".py",
   "mimetype": "text/x-python",
   "name": "python",
   "nbconvert_exporter": "python",
   "pygments_lexer": "ipython3",
   "version": "3.6.9"
  }
 },
 "nbformat": 4,
 "nbformat_minor": 2
}
