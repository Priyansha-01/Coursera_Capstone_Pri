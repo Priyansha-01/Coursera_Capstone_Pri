{
  "nbformat": 4,
  "nbformat_minor": 0,
  "metadata": {
    "kernelspec": {
      "display_name": "Python 3",
      "language": "python",
      "name": "python3"
    },
    "language_info": {
      "codemirror_mode": {
        "name": "ipython",
        "version": 3
      },
      "file_extension": ".py",
      "mimetype": "text/x-python",
      "name": "python",
      "nbconvert_exporter": "python",
      "pygments_lexer": "ipython3",
      "version": "3.7.6"
    },
    "colab": {
      "name": "Capstone Project Analysis.ipynb",
      "provenance": [],
      "include_colab_link": true
    }
  },
  "cells": [
    {
      "cell_type": "markdown",
      "metadata": {
        "id": "view-in-github",
        "colab_type": "text"
      },
      "source": [
        "<a href=\"https://colab.research.google.com/github/Priyansha-01/DataScience_Pri/blob/master/Capstone_Project_Analysis.ipynb\" target=\"_parent\"><img src=\"https://colab.research.google.com/assets/colab-badge.svg\" alt=\"Open In Colab\"/></a>"
      ]
    },
    {
      "cell_type": "markdown",
      "metadata": {
        "id": "ueLYV4e30GoR",
        "colab_type": "text"
      },
      "source": [
        "# Comparison of High-rated Restaurants in Raleigh and Charlotte"
      ]
    },
    {
      "cell_type": "markdown",
      "metadata": {
        "id": "9E1h2Bpr0GoU",
        "colab_type": "text"
      },
      "source": [
        "## **Introduction**:\n",
        "The city of Raleigh, NC and Charlotte, NC have amazing restaurants of different types. These cities are major cities of NC. Comparison between these two cities is being made to see best places to go to in both cities and what type of restaurant are popular in both cities. \n",
        "\n",
        "\n",
        "## **Business Problem**:\n",
        "Analysis is done based on Foursquare likes, restaurant category and geographic location data for restaurants in Charlotte and Raleigh. Then with the help of visualization and cluster analysis will discover category popularity in both cities and their specialities based on Foursquare user feedback."
      ]
    },
    {
      "cell_type": "markdown",
      "metadata": {
        "id": "NfIOkc1k0GoW",
        "colab_type": "text"
      },
      "source": [
        "## **About Data**\n",
        "The Foursquare API is used to pull the following location data on restaurants in Raleigh, NC and Charlotte, NC:\n",
        "- Venue Name\n",
        "- Venue ID\n",
        "- Venue Location\n",
        "- Venue Category\n",
        "- No. of Likes\n",
        "\n",
        "## **Data Acquisition Approach**\n",
        "\n",
        "For Data Acquisition, Geolocator latitude and longitude coordinates for Raleigh, NC and Charlotte, NC is used. Then with the help of Foursquare API I extracted list of all venues in Raleigh, NC and Charlotte, NC and filtered for venues of category Restaurant.\n",
        "\n",
        "**Algorithm Used:**\n",
        "\n",
        "Used gathered data to create a k-means clustering that groups restaurants into different clusters so that comparison can be made to see which type is popular and which restaurants are the best to eat at in Raleigh and Charlotte. "
      ]
    },
    {
      "cell_type": "markdown",
      "metadata": {
        "id": "hi0mkheY0GoX",
        "colab_type": "text"
      },
      "source": [
        "## Importing Libraries"
      ]
    },
    {
      "cell_type": "code",
      "metadata": {
        "id": "ZOh3EJs90GoZ",
        "colab_type": "code",
        "colab": {},
        "outputId": "1df86ef3-45ef-4e1c-bca0-5517fb52b8a8"
      },
      "source": [
        "import pandas as pd \n",
        "pd.set_option('display.max_columns', None)\n",
        "pd.set_option('display.max_rows', None)\n",
        "import json \n",
        "from geopy.geocoders import Nominatim \n",
        "import requests \n",
        "from pandas.io.json import json_normalize \n",
        "import matplotlib.cm as cm\n",
        "import matplotlib.colors as colors\n",
        "from sklearn.cluster import KMeans\n",
        "import folium \n",
        "from urllib.request import urlopen\n",
        "from bs4 import BeautifulSoup\n",
        "import numpy as np\n",
        "print('Libraries imported.')"
      ],
      "execution_count": 0,
      "outputs": [
        {
          "output_type": "stream",
          "text": [
            "Libraries imported.\n"
          ],
          "name": "stdout"
        }
      ]
    },
    {
      "cell_type": "markdown",
      "metadata": {
        "id": "fxr_tBIY0Gog",
        "colab_type": "text"
      },
      "source": [
        "**Extracting Geographical coordinate for Charlotte and Raleigh**"
      ]
    },
    {
      "cell_type": "code",
      "metadata": {
        "id": "RsV2G0ae0Goh",
        "colab_type": "code",
        "colab": {},
        "outputId": "0360b675-cb6e-4534-cfb5-71917ef1bfb1"
      },
      "source": [
        "address_c = 'Charlotte North Carolina'\n",
        "address_r = 'Raleigh North Carolina'\n",
        "geolocator = Nominatim()\n",
        "location_c = geolocator.geocode(address_c)\n",
        "location_r = geolocator.geocode(address_r)\n",
        "latitude_c = location_c.latitude\n",
        "longitude_c = location_c.longitude\n",
        "latitude_r = location_r.latitude\n",
        "longitude_r = location_r.longitude\n",
        "print('The geograpical coordinate of Charlotte are {}, {}.'.format(latitude_c, longitude_c))\n",
        "print('The geograpical coordinate of Raleigh are {}, {}.'.format(latitude_r, longitude_r))"
      ],
      "execution_count": 0,
      "outputs": [
        {
          "output_type": "stream",
          "text": [
            "/opt/anaconda3/lib/python3.7/site-packages/ipykernel_launcher.py:3: DeprecationWarning: Using Nominatim with the default \"geopy/1.22.0\" `user_agent` is strongly discouraged, as it violates Nominatim's ToS https://operations.osmfoundation.org/policies/nominatim/ and may possibly cause 403 and 429 HTTP errors. Please specify a custom `user_agent` with `Nominatim(user_agent=\"my-application\")` or by overriding the default `user_agent`: `geopy.geocoders.options.default_user_agent = \"my-application\"`. In geopy 2.0 this will become an exception.\n",
            "  This is separate from the ipykernel package so we can avoid doing imports until\n"
          ],
          "name": "stderr"
        },
        {
          "output_type": "stream",
          "text": [
            "The geograpical coordinate of Charlotte are 35.2270869, -80.8431268.\n",
            "The geograpical coordinate of Raleigh are 35.7803977, -78.6390989.\n"
          ],
          "name": "stdout"
        }
      ]
    },
    {
      "cell_type": "markdown",
      "metadata": {
        "id": "ni7UcOpV0Gom",
        "colab_type": "text"
      },
      "source": [
        "**Accessing Foursquare API by my information.**"
      ]
    },
    {
      "cell_type": "code",
      "metadata": {
        "id": "QnvUhJGY0Gon",
        "colab_type": "code",
        "colab": {},
        "outputId": "5f9e10f1-38c3-42d9-a2eb-1451563e2d38"
      },
      "source": [
        "CLIENT_ID = '4TP5THCRKCPKNM3IRLBQO0PP2GXRJ0IIMZWLBZAMGDZ3Z0AO' \n",
        "CLIENT_SECRET = 'OQ4YZ1PVSDJDQKZYLRYYEC2H3AAU5Q3SARJVVGG1B1RI2DVR' \n",
        "VERSION = '20180605' \n",
        "\n",
        "print('My credentails:')\n",
        "print('CLIENT_ID: ' + CLIENT_ID)\n",
        "print('CLIENT_SECRET:' + CLIENT_SECRET)"
      ],
      "execution_count": 0,
      "outputs": [
        {
          "output_type": "stream",
          "text": [
            "My credentails:\n",
            "CLIENT_ID: 4TP5THCRKCPKNM3IRLBQO0PP2GXRJ0IIMZWLBZAMGDZ3Z0AO\n",
            "CLIENT_SECRET:OQ4YZ1PVSDJDQKZYLRYYEC2H3AAU5Q3SARJVVGG1B1RI2DVR\n"
          ],
          "name": "stdout"
        }
      ]
    },
    {
      "cell_type": "markdown",
      "metadata": {
        "id": "UyaSQQuB0Goq",
        "colab_type": "text"
      },
      "source": [
        "**Creating a URL for all of the venues in Charlotte and Raleigh**"
      ]
    },
    {
      "cell_type": "code",
      "metadata": {
        "id": "o3dOolNE0Gos",
        "colab_type": "code",
        "colab": {},
        "outputId": "a96c0c2b-412a-4cac-e510-54c2b859c3b6"
      },
      "source": [
        "LIMIT = 1000 # limit of number of venues returned by Foursquare API\n",
        "radius = 1000 # define radius\n",
        "\n",
        "# create URL for Charlotte\n",
        "url_c = 'https://api.foursquare.com/v2/venues/explore?&client_id={}&client_secret={}&v={}&ll={},{}&radius={}&limit={}'.format(\n",
        "    CLIENT_ID, \n",
        "    CLIENT_SECRET, \n",
        "    VERSION, \n",
        "    latitude_c, \n",
        "    longitude_c, \n",
        "    radius, \n",
        "    LIMIT)\n",
        "url_c"
      ],
      "execution_count": 0,
      "outputs": [
        {
          "output_type": "execute_result",
          "data": {
            "text/plain": [
              "'https://api.foursquare.com/v2/venues/explore?&client_id=4TP5THCRKCPKNM3IRLBQO0PP2GXRJ0IIMZWLBZAMGDZ3Z0AO&client_secret=OQ4YZ1PVSDJDQKZYLRYYEC2H3AAU5Q3SARJVVGG1B1RI2DVR&v=20180605&ll=35.2270869,-80.8431268&radius=1000&limit=1000'"
            ]
          },
          "metadata": {
            "tags": []
          },
          "execution_count": 4
        }
      ]
    },
    {
      "cell_type": "code",
      "metadata": {
        "id": "N6MSXefC0Gox",
        "colab_type": "code",
        "colab": {},
        "outputId": "60f69dec-0b7c-401f-903b-8c46f3cae855"
      },
      "source": [
        "# create URL\n",
        "url_r = 'https://api.foursquare.com/v2/venues/explore?&client_id={}&client_secret={}&v={}&ll={},{}&radius={}&limit={}'.format(\n",
        "    CLIENT_ID, \n",
        "    CLIENT_SECRET, \n",
        "    VERSION, \n",
        "    latitude_r, \n",
        "    longitude_r, \n",
        "    radius, \n",
        "    LIMIT)\n",
        "url_r"
      ],
      "execution_count": 0,
      "outputs": [
        {
          "output_type": "execute_result",
          "data": {
            "text/plain": [
              "'https://api.foursquare.com/v2/venues/explore?&client_id=4TP5THCRKCPKNM3IRLBQO0PP2GXRJ0IIMZWLBZAMGDZ3Z0AO&client_secret=OQ4YZ1PVSDJDQKZYLRYYEC2H3AAU5Q3SARJVVGG1B1RI2DVR&v=20180605&ll=35.7803977,-78.6390989&radius=1000&limit=1000'"
            ]
          },
          "metadata": {
            "tags": []
          },
          "execution_count": 5
        }
      ]
    },
    {
      "cell_type": "markdown",
      "metadata": {
        "id": "rJOFZI_F0Go2",
        "colab_type": "text"
      },
      "source": [
        "**Requesting JSON file for the venues URL of Raleigh and Charlotte using beautiful soup library**"
      ]
    },
    {
      "cell_type": "code",
      "metadata": {
        "id": "1zMJMlbD0Go3",
        "colab_type": "code",
        "colab": {}
      },
      "source": [
        "results_c = requests.get(url_c).json()"
      ],
      "execution_count": 0,
      "outputs": []
    },
    {
      "cell_type": "code",
      "metadata": {
        "id": "Aaz_BwRu0Go6",
        "colab_type": "code",
        "colab": {}
      },
      "source": [
        "results_r = requests.get(url_r).json()"
      ],
      "execution_count": 0,
      "outputs": []
    },
    {
      "cell_type": "markdown",
      "metadata": {
        "id": "c4WIWosO0Go8",
        "colab_type": "text"
      },
      "source": [
        "**Extracting data from Foursquare into a dataframe.**"
      ]
    },
    {
      "cell_type": "code",
      "metadata": {
        "id": "t5O0aDRa0Go8",
        "colab_type": "code",
        "colab": {}
      },
      "source": [
        "def get_category_type(row):\n",
        "    try:\n",
        "        categories_list = row['categories']\n",
        "    except:\n",
        "        categories_list = row['venue.categories']\n",
        "        \n",
        "    if len(categories_list) == 0:\n",
        "        return None\n",
        "    else:\n",
        "        return categories_list[0]['name']"
      ],
      "execution_count": 0,
      "outputs": []
    },
    {
      "cell_type": "markdown",
      "metadata": {
        "id": "OVoaiJqN0Go-",
        "colab_type": "text"
      },
      "source": [
        "**Pulling the data from the Foursquare API for Raleigh and Charlotte  and filtering the category for each row**"
      ]
    },
    {
      "cell_type": "code",
      "metadata": {
        "id": "6yvZwUmh0Go_",
        "colab_type": "code",
        "colab": {},
        "outputId": "21cebad9-56a5-417a-c7c6-d16e453f7ae9"
      },
      "source": [
        "\n",
        "venues_c = results_c['response']['groups'][0]['items']\n",
        "nearby_venues_c = json_normalize(venues_c)\n",
        "filtered_columns_c = ['venue.name', 'venue.id', 'venue.categories', 'venue.location.lat', 'venue.location.lng']\n",
        "nearby_venues_c\n",
        "nearby_venues_char =nearby_venues_c.loc[:, filtered_columns_c]\n",
        "\n",
        "\n",
        "nearby_venues_char['venue.categories'] = nearby_venues_c.apply(get_category_type, axis=1)\n",
        "\n"
      ],
      "execution_count": 0,
      "outputs": [
        {
          "output_type": "stream",
          "text": [
            "/opt/anaconda3/lib/python3.7/site-packages/ipykernel_launcher.py:2: FutureWarning: pandas.io.json.json_normalize is deprecated, use pandas.json_normalize instead\n",
            "  \n"
          ],
          "name": "stderr"
        }
      ]
    },
    {
      "cell_type": "code",
      "metadata": {
        "id": "Uh25qTyl0GpB",
        "colab_type": "code",
        "colab": {},
        "outputId": "2cbb88a9-a900-44b0-edb3-0d5604bbdf49"
      },
      "source": [
        "nearby_venues_char.head()"
      ],
      "execution_count": 0,
      "outputs": [
        {
          "output_type": "execute_result",
          "data": {
            "text/html": [
              "<div>\n",
              "<style scoped>\n",
              "    .dataframe tbody tr th:only-of-type {\n",
              "        vertical-align: middle;\n",
              "    }\n",
              "\n",
              "    .dataframe tbody tr th {\n",
              "        vertical-align: top;\n",
              "    }\n",
              "\n",
              "    .dataframe thead th {\n",
              "        text-align: right;\n",
              "    }\n",
              "</style>\n",
              "<table border=\"1\" class=\"dataframe\">\n",
              "  <thead>\n",
              "    <tr style=\"text-align: right;\">\n",
              "      <th></th>\n",
              "      <th>venue.name</th>\n",
              "      <th>venue.id</th>\n",
              "      <th>venue.categories</th>\n",
              "      <th>venue.location.lat</th>\n",
              "      <th>venue.location.lng</th>\n",
              "    </tr>\n",
              "  </thead>\n",
              "  <tbody>\n",
              "    <tr>\n",
              "      <th>0</th>\n",
              "      <td>Blumenthal Performing Arts Center</td>\n",
              "      <td>4bad5829f964a52071483be3</td>\n",
              "      <td>Performing Arts Venue</td>\n",
              "      <td>35.227930</td>\n",
              "      <td>-80.841951</td>\n",
              "    </tr>\n",
              "    <tr>\n",
              "      <th>1</th>\n",
              "      <td>Belk Theater</td>\n",
              "      <td>4b058640f964a520495a22e3</td>\n",
              "      <td>Concert Hall</td>\n",
              "      <td>35.227711</td>\n",
              "      <td>-80.841663</td>\n",
              "    </tr>\n",
              "    <tr>\n",
              "      <th>2</th>\n",
              "      <td>The Capital Grille</td>\n",
              "      <td>4b05863ef964a520f45922e3</td>\n",
              "      <td>American Restaurant</td>\n",
              "      <td>35.228216</td>\n",
              "      <td>-80.841974</td>\n",
              "    </tr>\n",
              "    <tr>\n",
              "      <th>3</th>\n",
              "      <td>The Punch Room</td>\n",
              "      <td>549af5b3498e3a660685323b</td>\n",
              "      <td>Hotel Bar</td>\n",
              "      <td>35.226354</td>\n",
              "      <td>-80.841747</td>\n",
              "    </tr>\n",
              "    <tr>\n",
              "      <th>4</th>\n",
              "      <td>Dandelion Market</td>\n",
              "      <td>4b466381f964a5206f1f26e3</td>\n",
              "      <td>Tapas Restaurant</td>\n",
              "      <td>35.228656</td>\n",
              "      <td>-80.842479</td>\n",
              "    </tr>\n",
              "  </tbody>\n",
              "</table>\n",
              "</div>"
            ],
            "text/plain": [
              "                          venue.name                  venue.id  \\\n",
              "0  Blumenthal Performing Arts Center  4bad5829f964a52071483be3   \n",
              "1                       Belk Theater  4b058640f964a520495a22e3   \n",
              "2                 The Capital Grille  4b05863ef964a520f45922e3   \n",
              "3                     The Punch Room  549af5b3498e3a660685323b   \n",
              "4                   Dandelion Market  4b466381f964a5206f1f26e3   \n",
              "\n",
              "        venue.categories  venue.location.lat  venue.location.lng  \n",
              "0  Performing Arts Venue           35.227930          -80.841951  \n",
              "1           Concert Hall           35.227711          -80.841663  \n",
              "2    American Restaurant           35.228216          -80.841974  \n",
              "3              Hotel Bar           35.226354          -80.841747  \n",
              "4       Tapas Restaurant           35.228656          -80.842479  "
            ]
          },
          "metadata": {
            "tags": []
          },
          "execution_count": 10
        }
      ]
    },
    {
      "cell_type": "code",
      "metadata": {
        "id": "WtAGzgsq0GpD",
        "colab_type": "code",
        "colab": {},
        "outputId": "a2cdd558-babb-4961-cde0-58bb2ae49189"
      },
      "source": [
        "\n",
        "venues_r = results_r['response']['groups'][0]['items']\n",
        "nearby_venues_r = json_normalize(venues_r)\n",
        "filtered_columns_r = ['venue.name', 'venue.id', 'venue.categories', 'venue.location.lat', 'venue.location.lng']\n",
        "nearby_venues_r\n",
        "nearby_venues_raleigh =nearby_venues_r.loc[:, filtered_columns_r]\n",
        "\n",
        "\n",
        "nearby_venues_raleigh['venue.categories'] = nearby_venues_r.apply(get_category_type, axis=1)"
      ],
      "execution_count": 0,
      "outputs": [
        {
          "output_type": "stream",
          "text": [
            "/opt/anaconda3/lib/python3.7/site-packages/ipykernel_launcher.py:2: FutureWarning: pandas.io.json.json_normalize is deprecated, use pandas.json_normalize instead\n",
            "  \n"
          ],
          "name": "stderr"
        }
      ]
    },
    {
      "cell_type": "code",
      "metadata": {
        "id": "pqtEKFqu0GpG",
        "colab_type": "code",
        "colab": {},
        "outputId": "5435df79-caf8-4ce8-cf13-a0336c0da692"
      },
      "source": [
        "nearby_venues_raleigh.head()"
      ],
      "execution_count": 0,
      "outputs": [
        {
          "output_type": "execute_result",
          "data": {
            "text/html": [
              "<div>\n",
              "<style scoped>\n",
              "    .dataframe tbody tr th:only-of-type {\n",
              "        vertical-align: middle;\n",
              "    }\n",
              "\n",
              "    .dataframe tbody tr th {\n",
              "        vertical-align: top;\n",
              "    }\n",
              "\n",
              "    .dataframe thead th {\n",
              "        text-align: right;\n",
              "    }\n",
              "</style>\n",
              "<table border=\"1\" class=\"dataframe\">\n",
              "  <thead>\n",
              "    <tr style=\"text-align: right;\">\n",
              "      <th></th>\n",
              "      <th>venue.name</th>\n",
              "      <th>venue.id</th>\n",
              "      <th>venue.categories</th>\n",
              "      <th>venue.location.lat</th>\n",
              "      <th>venue.location.lng</th>\n",
              "    </tr>\n",
              "  </thead>\n",
              "  <tbody>\n",
              "    <tr>\n",
              "      <th>0</th>\n",
              "      <td>North Carolina Museum of Natural Sciences</td>\n",
              "      <td>4ad4c009f964a520eeec20e3</td>\n",
              "      <td>Science Museum</td>\n",
              "      <td>35.782217</td>\n",
              "      <td>-78.639375</td>\n",
              "    </tr>\n",
              "    <tr>\n",
              "      <th>1</th>\n",
              "      <td>North Carolina Museum of History</td>\n",
              "      <td>4ad4c009f964a520edec20e3</td>\n",
              "      <td>History Museum</td>\n",
              "      <td>35.781516</td>\n",
              "      <td>-78.638747</td>\n",
              "    </tr>\n",
              "    <tr>\n",
              "      <th>2</th>\n",
              "      <td>Gallo Pelón</td>\n",
              "      <td>53c2e7a1498e06db62294821</td>\n",
              "      <td>Cocktail Bar</td>\n",
              "      <td>35.779320</td>\n",
              "      <td>-78.638517</td>\n",
              "    </tr>\n",
              "    <tr>\n",
              "      <th>3</th>\n",
              "      <td>Nature Research Center</td>\n",
              "      <td>4e00a3737d8beaa1649d0690</td>\n",
              "      <td>Science Museum</td>\n",
              "      <td>35.782486</td>\n",
              "      <td>-78.640745</td>\n",
              "    </tr>\n",
              "    <tr>\n",
              "      <th>4</th>\n",
              "      <td>Raleigh Raw</td>\n",
              "      <td>56d20a97498e40011a57fbaa</td>\n",
              "      <td>Juice Bar</td>\n",
              "      <td>35.778308</td>\n",
              "      <td>-78.639610</td>\n",
              "    </tr>\n",
              "  </tbody>\n",
              "</table>\n",
              "</div>"
            ],
            "text/plain": [
              "                                  venue.name                  venue.id  \\\n",
              "0  North Carolina Museum of Natural Sciences  4ad4c009f964a520eeec20e3   \n",
              "1           North Carolina Museum of History  4ad4c009f964a520edec20e3   \n",
              "2                                Gallo Pelón  53c2e7a1498e06db62294821   \n",
              "3                     Nature Research Center  4e00a3737d8beaa1649d0690   \n",
              "4                                Raleigh Raw  56d20a97498e40011a57fbaa   \n",
              "\n",
              "  venue.categories  venue.location.lat  venue.location.lng  \n",
              "0   Science Museum           35.782217          -78.639375  \n",
              "1   History Museum           35.781516          -78.638747  \n",
              "2     Cocktail Bar           35.779320          -78.638517  \n",
              "3   Science Museum           35.782486          -78.640745  \n",
              "4        Juice Bar           35.778308          -78.639610  "
            ]
          },
          "metadata": {
            "tags": []
          },
          "execution_count": 12
        }
      ]
    },
    {
      "cell_type": "markdown",
      "metadata": {
        "id": "dwf6FlnO0GpI",
        "colab_type": "text"
      },
      "source": [
        "**Venues term was removed from column names**"
      ]
    },
    {
      "cell_type": "code",
      "metadata": {
        "id": "ObKXwgdp0GpJ",
        "colab_type": "code",
        "colab": {},
        "outputId": "9a1bb5ad-6e8a-4fbd-ae3a-f6dd36a21bf9"
      },
      "source": [
        "nearby_venues_char.columns = [col.split(\".\")[-1] for col in nearby_venues_char.columns]\n",
        "nearby_venues_raleigh.columns = [col.split(\".\")[-1] for col in nearby_venues_raleigh.columns]\n",
        "nearby_venues_char.head()"
      ],
      "execution_count": 0,
      "outputs": [
        {
          "output_type": "execute_result",
          "data": {
            "text/html": [
              "<div>\n",
              "<style scoped>\n",
              "    .dataframe tbody tr th:only-of-type {\n",
              "        vertical-align: middle;\n",
              "    }\n",
              "\n",
              "    .dataframe tbody tr th {\n",
              "        vertical-align: top;\n",
              "    }\n",
              "\n",
              "    .dataframe thead th {\n",
              "        text-align: right;\n",
              "    }\n",
              "</style>\n",
              "<table border=\"1\" class=\"dataframe\">\n",
              "  <thead>\n",
              "    <tr style=\"text-align: right;\">\n",
              "      <th></th>\n",
              "      <th>name</th>\n",
              "      <th>id</th>\n",
              "      <th>categories</th>\n",
              "      <th>lat</th>\n",
              "      <th>lng</th>\n",
              "    </tr>\n",
              "  </thead>\n",
              "  <tbody>\n",
              "    <tr>\n",
              "      <th>0</th>\n",
              "      <td>Blumenthal Performing Arts Center</td>\n",
              "      <td>4bad5829f964a52071483be3</td>\n",
              "      <td>Performing Arts Venue</td>\n",
              "      <td>35.227930</td>\n",
              "      <td>-80.841951</td>\n",
              "    </tr>\n",
              "    <tr>\n",
              "      <th>1</th>\n",
              "      <td>Belk Theater</td>\n",
              "      <td>4b058640f964a520495a22e3</td>\n",
              "      <td>Concert Hall</td>\n",
              "      <td>35.227711</td>\n",
              "      <td>-80.841663</td>\n",
              "    </tr>\n",
              "    <tr>\n",
              "      <th>2</th>\n",
              "      <td>The Capital Grille</td>\n",
              "      <td>4b05863ef964a520f45922e3</td>\n",
              "      <td>American Restaurant</td>\n",
              "      <td>35.228216</td>\n",
              "      <td>-80.841974</td>\n",
              "    </tr>\n",
              "    <tr>\n",
              "      <th>3</th>\n",
              "      <td>The Punch Room</td>\n",
              "      <td>549af5b3498e3a660685323b</td>\n",
              "      <td>Hotel Bar</td>\n",
              "      <td>35.226354</td>\n",
              "      <td>-80.841747</td>\n",
              "    </tr>\n",
              "    <tr>\n",
              "      <th>4</th>\n",
              "      <td>Dandelion Market</td>\n",
              "      <td>4b466381f964a5206f1f26e3</td>\n",
              "      <td>Tapas Restaurant</td>\n",
              "      <td>35.228656</td>\n",
              "      <td>-80.842479</td>\n",
              "    </tr>\n",
              "  </tbody>\n",
              "</table>\n",
              "</div>"
            ],
            "text/plain": [
              "                                name                        id  \\\n",
              "0  Blumenthal Performing Arts Center  4bad5829f964a52071483be3   \n",
              "1                       Belk Theater  4b058640f964a520495a22e3   \n",
              "2                 The Capital Grille  4b05863ef964a520f45922e3   \n",
              "3                     The Punch Room  549af5b3498e3a660685323b   \n",
              "4                   Dandelion Market  4b466381f964a5206f1f26e3   \n",
              "\n",
              "              categories        lat        lng  \n",
              "0  Performing Arts Venue  35.227930 -80.841951  \n",
              "1           Concert Hall  35.227711 -80.841663  \n",
              "2    American Restaurant  35.228216 -80.841974  \n",
              "3              Hotel Bar  35.226354 -80.841747  \n",
              "4       Tapas Restaurant  35.228656 -80.842479  "
            ]
          },
          "metadata": {
            "tags": []
          },
          "execution_count": 13
        }
      ]
    },
    {
      "cell_type": "code",
      "metadata": {
        "id": "Z5vzpOkK0GpL",
        "colab_type": "code",
        "colab": {},
        "outputId": "78038aa9-1541-4926-c156-1ed62b71997c"
      },
      "source": [
        "nearby_venues_raleigh.head()"
      ],
      "execution_count": 0,
      "outputs": [
        {
          "output_type": "execute_result",
          "data": {
            "text/html": [
              "<div>\n",
              "<style scoped>\n",
              "    .dataframe tbody tr th:only-of-type {\n",
              "        vertical-align: middle;\n",
              "    }\n",
              "\n",
              "    .dataframe tbody tr th {\n",
              "        vertical-align: top;\n",
              "    }\n",
              "\n",
              "    .dataframe thead th {\n",
              "        text-align: right;\n",
              "    }\n",
              "</style>\n",
              "<table border=\"1\" class=\"dataframe\">\n",
              "  <thead>\n",
              "    <tr style=\"text-align: right;\">\n",
              "      <th></th>\n",
              "      <th>name</th>\n",
              "      <th>id</th>\n",
              "      <th>categories</th>\n",
              "      <th>lat</th>\n",
              "      <th>lng</th>\n",
              "    </tr>\n",
              "  </thead>\n",
              "  <tbody>\n",
              "    <tr>\n",
              "      <th>0</th>\n",
              "      <td>North Carolina Museum of Natural Sciences</td>\n",
              "      <td>4ad4c009f964a520eeec20e3</td>\n",
              "      <td>Science Museum</td>\n",
              "      <td>35.782217</td>\n",
              "      <td>-78.639375</td>\n",
              "    </tr>\n",
              "    <tr>\n",
              "      <th>1</th>\n",
              "      <td>North Carolina Museum of History</td>\n",
              "      <td>4ad4c009f964a520edec20e3</td>\n",
              "      <td>History Museum</td>\n",
              "      <td>35.781516</td>\n",
              "      <td>-78.638747</td>\n",
              "    </tr>\n",
              "    <tr>\n",
              "      <th>2</th>\n",
              "      <td>Gallo Pelón</td>\n",
              "      <td>53c2e7a1498e06db62294821</td>\n",
              "      <td>Cocktail Bar</td>\n",
              "      <td>35.779320</td>\n",
              "      <td>-78.638517</td>\n",
              "    </tr>\n",
              "    <tr>\n",
              "      <th>3</th>\n",
              "      <td>Nature Research Center</td>\n",
              "      <td>4e00a3737d8beaa1649d0690</td>\n",
              "      <td>Science Museum</td>\n",
              "      <td>35.782486</td>\n",
              "      <td>-78.640745</td>\n",
              "    </tr>\n",
              "    <tr>\n",
              "      <th>4</th>\n",
              "      <td>Raleigh Raw</td>\n",
              "      <td>56d20a97498e40011a57fbaa</td>\n",
              "      <td>Juice Bar</td>\n",
              "      <td>35.778308</td>\n",
              "      <td>-78.639610</td>\n",
              "    </tr>\n",
              "  </tbody>\n",
              "</table>\n",
              "</div>"
            ],
            "text/plain": [
              "                                        name                        id  \\\n",
              "0  North Carolina Museum of Natural Sciences  4ad4c009f964a520eeec20e3   \n",
              "1           North Carolina Museum of History  4ad4c009f964a520edec20e3   \n",
              "2                                Gallo Pelón  53c2e7a1498e06db62294821   \n",
              "3                     Nature Research Center  4e00a3737d8beaa1649d0690   \n",
              "4                                Raleigh Raw  56d20a97498e40011a57fbaa   \n",
              "\n",
              "       categories        lat        lng  \n",
              "0  Science Museum  35.782217 -78.639375  \n",
              "1  History Museum  35.781516 -78.638747  \n",
              "2    Cocktail Bar  35.779320 -78.638517  \n",
              "3  Science Museum  35.782486 -78.640745  \n",
              "4       Juice Bar  35.778308 -78.639610  "
            ]
          },
          "metadata": {
            "tags": []
          },
          "execution_count": 14
        }
      ]
    },
    {
      "cell_type": "markdown",
      "metadata": {
        "id": "V8caZ3z10GpN",
        "colab_type": "text"
      },
      "source": [
        "**Finding a list of unique categories from the API**"
      ]
    },
    {
      "cell_type": "code",
      "metadata": {
        "id": "iwY_v14F0GpN",
        "colab_type": "code",
        "colab": {},
        "outputId": "d32696c9-3e0e-4474-c1f6-3fbeba424f8a"
      },
      "source": [
        "print(nearby_venues_char['categories'].unique())\n",
        "print(nearby_venues_raleigh['categories'].unique())"
      ],
      "execution_count": 0,
      "outputs": [
        {
          "output_type": "stream",
          "text": [
            "['Performing Arts Venue' 'Concert Hall' 'American Restaurant' 'Hotel Bar'\n",
            " 'Tapas Restaurant' 'Italian Restaurant' 'Steakhouse'\n",
            " 'New American Restaurant' 'Theater' 'Burger Joint' 'Shopping Mall'\n",
            " 'Gym / Fitness Center' 'Pizza Place' 'Science Museum' 'Café' 'Creperie'\n",
            " 'Park' 'Gym' 'Bakery' 'Southern / Soul Food Restaurant' 'Restaurant'\n",
            " 'Irish Pub' 'Burrito Place' 'Souvenir Shop' 'Hotel' 'Lounge'\n",
            " 'Sandwich Place' 'Sports Bar' 'Basketball Stadium' 'Seafood Restaurant'\n",
            " 'Coffee Shop' 'Farmers Market' 'Neighborhood' 'French Restaurant' 'Plaza'\n",
            " 'Pub' 'Mexican Restaurant' 'History Museum' 'Cocktail Bar' 'Wine Shop'\n",
            " 'Baseball Stadium' 'Art Museum' 'BBQ Joint' 'Art Gallery' 'Library'\n",
            " 'Cheese Shop' 'Deli / Bodega' 'Grocery Store' 'Greek Restaurant'\n",
            " 'Gift Shop' 'Movie Theater' 'Salon / Barbershop' 'Supermarket' 'Museum'\n",
            " 'Football Stadium' 'Japanese Restaurant' 'Hot Dog Joint']\n",
            "['Science Museum' 'History Museum' 'Cocktail Bar' 'Juice Bar'\n",
            " 'Mediterranean Restaurant' 'Event Space' 'Mexican Restaurant'\n",
            " 'Italian Restaurant' 'Gift Shop' 'American Restaurant' 'Museum' 'Bakery'\n",
            " 'Movie Theater' 'Asian Restaurant' 'Antique Shop' 'Coffee Shop'\n",
            " 'Gastropub' 'Southern / Soul Food Restaurant' 'Brewery' 'Jewelry Store'\n",
            " 'Park' 'Speakeasy' 'Lounge' 'Sushi Restaurant' 'Beer Store' 'Beer Garden'\n",
            " 'Seafood Restaurant' 'Greek Restaurant' 'Art Gallery' 'Café'\n",
            " 'Deli / Bodega' 'Plaza' 'Music Venue' 'Ice Cream Shop' 'Breakfast Spot'\n",
            " 'Tiki Bar' 'Clothing Store' 'BBQ Joint' 'Historic Site' 'Diner'\n",
            " 'Korean Restaurant' 'Candy Store' 'Bar' 'Vegetarian / Vegan Restaurant'\n",
            " 'Steakhouse' 'Food Court' 'Yoga Studio' 'Salad Place'\n",
            " 'Gym / Fitness Center' 'Wine Shop' 'Burger Joint' 'Hot Dog Joint'\n",
            " 'Whisky Bar' 'Ramen Restaurant' 'Dance Studio' 'Art Museum' 'Nail Salon'\n",
            " 'Donut Shop' 'Tapas Restaurant']\n"
          ],
          "name": "stdout"
        }
      ]
    },
    {
      "cell_type": "markdown",
      "metadata": {
        "id": "nztqEKW40GpP",
        "colab_type": "text"
      },
      "source": [
        "**Filtering out the data having cateogory of Restaurants for Charlotter and Raleigh**"
      ]
    },
    {
      "cell_type": "code",
      "metadata": {
        "id": "y0t-DtGo0GpP",
        "colab_type": "code",
        "colab": {},
        "outputId": "94c046d4-c316-4311-987a-af712271be7e"
      },
      "source": [
        "\n",
        "Restaurant_list = ['American Restaurant','Italian Restaurant','Tapas Restaurant','Restaurant','Thai Restaurant','New American Restaurant',\n",
        "                   'Southern / Soul Food Restaurant','Seafood Restaurant','Mexican Restaurant','Mediterranean Restaurant','Asian Restaurant',\n",
        "                   'Sushi Restaurant','Fast Food Restaurant','French Restaurant','Chinese Restaurant',\n",
        "                   'Korean Restaurant','Vegetarian / Vegan Restaurant' ,'Greek Restaurant','Cuban Restaurant','French Restaurant']\n",
        "                   \n",
        "\n",
        "\n",
        "nearby_venues_char = nearby_venues_char.copy()\n",
        "nearby_venues_raleigh = nearby_venues_raleigh.copy()\n",
        "\n",
        "\n",
        "nearby_venues_char = nearby_venues_char[nearby_venues_char['categories'].isin(Restaurant_list)]\n",
        "\n",
        "nearby_venues_raleigh = nearby_venues_raleigh[nearby_venues_raleigh['categories'].isin(Restaurant_list)]\n",
        "nearby_venues_char.shape"
      ],
      "execution_count": 0,
      "outputs": [
        {
          "output_type": "execute_result",
          "data": {
            "text/plain": [
              "(22, 5)"
            ]
          },
          "metadata": {
            "tags": []
          },
          "execution_count": 16
        }
      ]
    },
    {
      "cell_type": "code",
      "metadata": {
        "id": "5tblnzq60GpR",
        "colab_type": "code",
        "colab": {},
        "outputId": "31ae8044-e47a-4835-a119-3b69d0a58505"
      },
      "source": [
        "nearby_venues_raleigh.shape"
      ],
      "execution_count": 0,
      "outputs": [
        {
          "output_type": "execute_result",
          "data": {
            "text/plain": [
              "(24, 5)"
            ]
          },
          "metadata": {
            "tags": []
          },
          "execution_count": 17
        }
      ]
    },
    {
      "cell_type": "markdown",
      "metadata": {
        "id": "GWMbOicQ0GpT",
        "colab_type": "text"
      },
      "source": [
        "**Extracting Venue's ID for the restaurant category**"
      ]
    },
    {
      "cell_type": "code",
      "metadata": {
        "id": "scHeHZGl0GpT",
        "colab_type": "code",
        "colab": {},
        "outputId": "7b7979d9-2ddd-47e6-d96b-a1d04582a240"
      },
      "source": [
        "RestaurantId_raleigh = nearby_venues_raleigh['id'].tolist()\n",
        "print(RestaurantId_raleigh)"
      ],
      "execution_count": 0,
      "outputs": [
        {
          "output_type": "stream",
          "text": [
            "['4ad93789f964a520261921e3', '4ad90386f964a5201d1721e3', '4a592915f964a520d6b81fe3', '54a1adbe498e54b4407ce331', '4ee404309911944900b07ad5', '4e091acc1f6e21103396e069', '588663ddd60c8b2e0e1b1527', '4ad90968f964a520651721e3', '51940a5d498e9111bc706456', '590a66230f013c70e0a0c5f1', '58581f96076be1032aaa07f4', '5577a05f498e75efda31c6a9', '527e482c498e9cdc1c97aefc', '4aeb2a4cf964a52033bf21e3', '57f2d3e8498e33363fc556f5', '516798e0e4b0cda68217b5ed', '57a7bf38498ea30d9431bde1', '4ae6edcaf964a5208ea721e3', '4ad9fa9af964a520ab1c21e3', '5916326a396de017a362ff17', '50a5647be4b079eb079361fa', '52251fd611d21c8d037f3127', '4ad4c008f964a520c4ec20e3', '4ae0fa5df964a5203f8421e3']\n"
          ],
          "name": "stdout"
        }
      ]
    },
    {
      "cell_type": "code",
      "metadata": {
        "id": "sSPSGVEP0GpV",
        "colab_type": "code",
        "colab": {},
        "outputId": "92d9e262-9a58-45b3-bfbc-238b89246a02"
      },
      "source": [
        "RestaurantId_char = nearby_venues_char['id'].tolist()\n",
        "print(RestaurantId_char)"
      ],
      "execution_count": 0,
      "outputs": [
        {
          "output_type": "stream",
          "text": [
            "['4b05863ef964a520f45922e3', '4b466381f964a5206f1f26e3', '4e2ffb921838f1c552ca5f70', '4f8b5454e4b00a6263a38774', '4bb14a46f964a520fa893ce3', '4f516ba8e4b063296bf04765', '4bd07af1caff952185dfcef0', '57a56d1f498e5952a14f86f4', '55a42c96498e793e0e13b18c', '5ae7e6746bdee6002c84ed22', '57a85cb7498ebb2205737e6d', '5b639c99cabcff002cbe11b1', '4b05863ef964a520e95922e3', '584365c79850a03d8398144e', '4b05863ff964a520345a22e3', '4f02453e30f899233495e903', '4b2ac7a6f964a52079af24e3', '54ecae87498ec256aee9450d', '4b05863bf964a520775922e3', '4b21405cf964a520033924e3', '4b05863ef964a520f35922e3', '53113efb498e59275ccb1fdd']\n"
          ],
          "name": "stdout"
        }
      ]
    },
    {
      "cell_type": "markdown",
      "metadata": {
        "id": "uoEleGOn0GpX",
        "colab_type": "text"
      },
      "source": [
        "**Creating empty list to extract likes from the API corresponding to Venue ID**"
      ]
    },
    {
      "cell_type": "code",
      "metadata": {
        "id": "TTF4hKUY0GpX",
        "colab_type": "code",
        "colab": {}
      },
      "source": [
        "#set up to pull the likes from the API based on venue ID\n",
        "\n",
        "url_list = []\n",
        "url_list2 = []\n",
        "like_Charlist = []\n",
        "like_Raleighlist=[]\n",
        "json_list = []"
      ],
      "execution_count": 0,
      "outputs": []
    },
    {
      "cell_type": "code",
      "metadata": {
        "id": "_1UI0eiA0GpY",
        "colab_type": "code",
        "colab": {},
        "outputId": "0a34d243-583d-48b3-e121-558f140c27d1"
      },
      "source": [
        "for i in RestaurantId_char:\n",
        "    venue_url = 'https://api.foursquare.com/v2/venues/{}/likes?client_id={}&client_secret={}&v={}'.format(i, CLIENT_ID, CLIENT_SECRET, VERSION)\n",
        "    url_list.append(venue_url)\n",
        "for link in url_list:\n",
        "    resultChar = requests.get(link).json()\n",
        "    likesChar = resultChar['response']['likes']['count']\n",
        "    like_Charlist.append(likesChar)\n",
        "print(like_Charlist)"
      ],
      "execution_count": 0,
      "outputs": [
        {
          "output_type": "stream",
          "text": [
            "[96, 236, 208, 212, 85, 90, 98, 33, 44, 9, 37, 18, 24, 16, 168, 24, 67, 121, 101, 82, 110, 178]\n"
          ],
          "name": "stdout"
        }
      ]
    },
    {
      "cell_type": "code",
      "metadata": {
        "id": "xnZSd-k_0Gpa",
        "colab_type": "code",
        "colab": {},
        "outputId": "3e91b389-a7e6-4306-a2aa-3584d9e3d8ad"
      },
      "source": [
        "for i in RestaurantId_raleigh:\n",
        "    venue_url = 'https://api.foursquare.com/v2/venues/{}/likes?client_id={}&client_secret={}&v={}'.format(i, CLIENT_ID, CLIENT_SECRET, VERSION)\n",
        "    url_list2.append(venue_url)\n",
        "for link in url_list2:\n",
        "    resultRaleigh = requests.get(link).json()\n",
        "    likesRaleigh = resultRaleigh['response']['likes']['count']\n",
        "    like_Raleighlist.append(likesRaleigh)\n",
        "print(like_Raleighlist)"
      ],
      "execution_count": 0,
      "outputs": [
        {
          "output_type": "stream",
          "text": [
            "[231, 125, 139, 64, 262, 453, 46, 146, 64, 16, 31, 93, 39, 54, 23, 126, 89, 202, 55, 22, 123, 149, 123, 87]\n"
          ],
          "name": "stdout"
        }
      ]
    },
    {
      "cell_type": "markdown",
      "metadata": {
        "id": "KmnVrSZ20Gpb",
        "colab_type": "text"
      },
      "source": [
        "**Creating new variable in the dataframe containing total no. of likes for each restaurant**"
      ]
    },
    {
      "cell_type": "code",
      "metadata": {
        "id": "ifSd1zBs0Gpb",
        "colab_type": "code",
        "colab": {},
        "outputId": "2dc996e1-a51d-4175-a738-9f8a3e5d7a7e"
      },
      "source": [
        "# add in the list of likes\n",
        "nearby_venues_raleigh['total likes'] = like_Raleighlist\n",
        "nearby_venues_char['total likes'] = like_Charlist\n",
        "nearby_venues_char.shape"
      ],
      "execution_count": 0,
      "outputs": [
        {
          "output_type": "execute_result",
          "data": {
            "text/plain": [
              "(22, 6)"
            ]
          },
          "metadata": {
            "tags": []
          },
          "execution_count": 23
        }
      ]
    },
    {
      "cell_type": "code",
      "metadata": {
        "id": "nIJuWK_V0Gpe",
        "colab_type": "code",
        "colab": {},
        "outputId": "8aea0ef6-8e27-43c0-d658-91bd89d0d503"
      },
      "source": [
        "nearby_venues_raleigh.shape"
      ],
      "execution_count": 0,
      "outputs": [
        {
          "output_type": "execute_result",
          "data": {
            "text/plain": [
              "(24, 6)"
            ]
          },
          "metadata": {
            "tags": []
          },
          "execution_count": 24
        }
      ]
    },
    {
      "cell_type": "markdown",
      "metadata": {
        "id": "Y-pKWTpQ0Gpf",
        "colab_type": "text"
      },
      "source": [
        "**Descriptive Analysis of obtained dataframe for further analysis of restaurants in Raleigh and Charlotte**"
      ]
    },
    {
      "cell_type": "markdown",
      "metadata": {
        "id": "W-LPtiiV0Gpf",
        "colab_type": "text"
      },
      "source": [
        "For Raleigh"
      ]
    },
    {
      "cell_type": "code",
      "metadata": {
        "id": "wk5bI4IJ0Gpg",
        "colab_type": "code",
        "colab": {},
        "outputId": "ee52e989-db49-4b28-819a-05c1c796570b"
      },
      "source": [
        "nearby_venues_raleigh.describe()"
      ],
      "execution_count": 0,
      "outputs": [
        {
          "output_type": "execute_result",
          "data": {
            "text/html": [
              "<div>\n",
              "<style scoped>\n",
              "    .dataframe tbody tr th:only-of-type {\n",
              "        vertical-align: middle;\n",
              "    }\n",
              "\n",
              "    .dataframe tbody tr th {\n",
              "        vertical-align: top;\n",
              "    }\n",
              "\n",
              "    .dataframe thead th {\n",
              "        text-align: right;\n",
              "    }\n",
              "</style>\n",
              "<table border=\"1\" class=\"dataframe\">\n",
              "  <thead>\n",
              "    <tr style=\"text-align: right;\">\n",
              "      <th></th>\n",
              "      <th>lat</th>\n",
              "      <th>lng</th>\n",
              "      <th>total likes</th>\n",
              "    </tr>\n",
              "  </thead>\n",
              "  <tbody>\n",
              "    <tr>\n",
              "      <th>count</th>\n",
              "      <td>24.000000</td>\n",
              "      <td>24.000000</td>\n",
              "      <td>24.000000</td>\n",
              "    </tr>\n",
              "    <tr>\n",
              "      <th>mean</th>\n",
              "      <td>35.777894</td>\n",
              "      <td>-78.640282</td>\n",
              "      <td>115.083333</td>\n",
              "    </tr>\n",
              "    <tr>\n",
              "      <th>std</th>\n",
              "      <td>0.002084</td>\n",
              "      <td>0.003674</td>\n",
              "      <td>97.555744</td>\n",
              "    </tr>\n",
              "    <tr>\n",
              "      <th>min</th>\n",
              "      <td>35.774581</td>\n",
              "      <td>-78.646640</td>\n",
              "      <td>16.000000</td>\n",
              "    </tr>\n",
              "    <tr>\n",
              "      <th>25%</th>\n",
              "      <td>35.776346</td>\n",
              "      <td>-78.643910</td>\n",
              "      <td>52.000000</td>\n",
              "    </tr>\n",
              "    <tr>\n",
              "      <th>50%</th>\n",
              "      <td>35.777456</td>\n",
              "      <td>-78.638414</td>\n",
              "      <td>91.000000</td>\n",
              "    </tr>\n",
              "    <tr>\n",
              "      <th>75%</th>\n",
              "      <td>35.778702</td>\n",
              "      <td>-78.637916</td>\n",
              "      <td>140.750000</td>\n",
              "    </tr>\n",
              "    <tr>\n",
              "      <th>max</th>\n",
              "      <td>35.782864</td>\n",
              "      <td>-78.634479</td>\n",
              "      <td>453.000000</td>\n",
              "    </tr>\n",
              "  </tbody>\n",
              "</table>\n",
              "</div>"
            ],
            "text/plain": [
              "             lat        lng  total likes\n",
              "count  24.000000  24.000000    24.000000\n",
              "mean   35.777894 -78.640282   115.083333\n",
              "std     0.002084   0.003674    97.555744\n",
              "min    35.774581 -78.646640    16.000000\n",
              "25%    35.776346 -78.643910    52.000000\n",
              "50%    35.777456 -78.638414    91.000000\n",
              "75%    35.778702 -78.637916   140.750000\n",
              "max    35.782864 -78.634479   453.000000"
            ]
          },
          "metadata": {
            "tags": []
          },
          "execution_count": 25
        }
      ]
    },
    {
      "cell_type": "markdown",
      "metadata": {
        "id": "hLpmNzPD0Gph",
        "colab_type": "text"
      },
      "source": [
        "For Charlotte"
      ]
    },
    {
      "cell_type": "code",
      "metadata": {
        "id": "o6IhBVmy0Gph",
        "colab_type": "code",
        "colab": {},
        "outputId": "cbd98b82-fb01-4451-f7c4-44651e4b6f3d"
      },
      "source": [
        "nearby_venues_char.describe()"
      ],
      "execution_count": 0,
      "outputs": [
        {
          "output_type": "execute_result",
          "data": {
            "text/html": [
              "<div>\n",
              "<style scoped>\n",
              "    .dataframe tbody tr th:only-of-type {\n",
              "        vertical-align: middle;\n",
              "    }\n",
              "\n",
              "    .dataframe tbody tr th {\n",
              "        vertical-align: top;\n",
              "    }\n",
              "\n",
              "    .dataframe thead th {\n",
              "        text-align: right;\n",
              "    }\n",
              "</style>\n",
              "<table border=\"1\" class=\"dataframe\">\n",
              "  <thead>\n",
              "    <tr style=\"text-align: right;\">\n",
              "      <th></th>\n",
              "      <th>lat</th>\n",
              "      <th>lng</th>\n",
              "      <th>total likes</th>\n",
              "    </tr>\n",
              "  </thead>\n",
              "  <tbody>\n",
              "    <tr>\n",
              "      <th>count</th>\n",
              "      <td>22.000000</td>\n",
              "      <td>22.000000</td>\n",
              "      <td>22.000000</td>\n",
              "    </tr>\n",
              "    <tr>\n",
              "      <th>mean</th>\n",
              "      <td>35.227684</td>\n",
              "      <td>-80.843010</td>\n",
              "      <td>93.500000</td>\n",
              "    </tr>\n",
              "    <tr>\n",
              "      <th>std</th>\n",
              "      <td>0.002366</td>\n",
              "      <td>0.002264</td>\n",
              "      <td>69.002933</td>\n",
              "    </tr>\n",
              "    <tr>\n",
              "      <th>min</th>\n",
              "      <td>35.222547</td>\n",
              "      <td>-80.848767</td>\n",
              "      <td>9.000000</td>\n",
              "    </tr>\n",
              "    <tr>\n",
              "      <th>25%</th>\n",
              "      <td>35.226482</td>\n",
              "      <td>-80.844186</td>\n",
              "      <td>34.000000</td>\n",
              "    </tr>\n",
              "    <tr>\n",
              "      <th>50%</th>\n",
              "      <td>35.227870</td>\n",
              "      <td>-80.843157</td>\n",
              "      <td>87.500000</td>\n",
              "    </tr>\n",
              "    <tr>\n",
              "      <th>75%</th>\n",
              "      <td>35.228629</td>\n",
              "      <td>-80.841273</td>\n",
              "      <td>118.250000</td>\n",
              "    </tr>\n",
              "    <tr>\n",
              "      <th>max</th>\n",
              "      <td>35.233657</td>\n",
              "      <td>-80.839710</td>\n",
              "      <td>236.000000</td>\n",
              "    </tr>\n",
              "  </tbody>\n",
              "</table>\n",
              "</div>"
            ],
            "text/plain": [
              "             lat        lng  total likes\n",
              "count  22.000000  22.000000    22.000000\n",
              "mean   35.227684 -80.843010    93.500000\n",
              "std     0.002366   0.002264    69.002933\n",
              "min    35.222547 -80.848767     9.000000\n",
              "25%    35.226482 -80.844186    34.000000\n",
              "50%    35.227870 -80.843157    87.500000\n",
              "75%    35.228629 -80.841273   118.250000\n",
              "max    35.233657 -80.839710   236.000000"
            ]
          },
          "metadata": {
            "tags": []
          },
          "execution_count": 26
        }
      ]
    },
    {
      "cell_type": "markdown",
      "metadata": {
        "id": "-9D5TfCO0Gpj",
        "colab_type": "text"
      },
      "source": [
        "**Visualizing the distribution of total likes**"
      ]
    },
    {
      "cell_type": "markdown",
      "metadata": {
        "id": "A8cN5QbS0Gpj",
        "colab_type": "text"
      },
      "source": [
        "Charlotte Dataframe"
      ]
    },
    {
      "cell_type": "code",
      "metadata": {
        "id": "ro0D7T330Gpj",
        "colab_type": "code",
        "colab": {},
        "outputId": "a8f7777f-c59f-4333-8c30-ca52cb01c61c"
      },
      "source": [
        "\n",
        "\n",
        "import matplotlib.pyplot as plt\n",
        "nearby_venues_char['total likes'].hist(bins=4)\n",
        "plt.show()"
      ],
      "execution_count": 0,
      "outputs": [
        {
          "output_type": "display_data",
          "data": {
            "image/png": "[encoded data removed]",
            "text/plain": [
              "<Figure size 432x288 with 1 Axes>"
            ]
          },
          "metadata": {
            "tags": [],
            "needs_background": "light"
          }
        }
      ]
    },
    {
      "cell_type": "markdown",
      "metadata": {
        "id": "Eol1N50P0Gpl",
        "colab_type": "text"
      },
      "source": [
        "Raleigh Dataframe"
      ]
    },
    {
      "cell_type": "code",
      "metadata": {
        "id": "2y-tr0ad0Gpl",
        "colab_type": "code",
        "colab": {},
        "outputId": "0b56bd0b-f491-43ff-92d0-e116d4698232"
      },
      "source": [
        "nearby_venues_raleigh['total likes'].hist(bins=4)\n",
        "plt.show()"
      ],
      "execution_count": 0,
      "outputs": [
        {
          "output_type": "display_data",
          "data": {
            "image/png": "[encoded data removed]",
            "text/plain": [
              "<Figure size 432x288 with 1 Axes>"
            ]
          },
          "metadata": {
            "tags": [],
            "needs_background": "light"
          }
        }
      ]
    },
    {
      "cell_type": "markdown",
      "metadata": {
        "id": "zypSKW030Gpm",
        "colab_type": "text"
      },
      "source": [
        "Based on no. of counts for each type of category, bar plot is drawn to see which type of restaurants are more common in both cities based on the data we obtained."
      ]
    },
    {
      "cell_type": "markdown",
      "metadata": {
        "id": "YW7mnIkx0Gpn",
        "colab_type": "text"
      },
      "source": [
        "Below is the Bar plot for Raleigh. We can see that Italian type of Restaurant is found to be most common in Raleigh"
      ]
    },
    {
      "cell_type": "code",
      "metadata": {
        "id": "FM-bYgeN0Gpn",
        "colab_type": "code",
        "colab": {},
        "outputId": "0a7bae2d-a38b-4320-de80-b5fe6818952b"
      },
      "source": [
        "nearby_venues_raleigh['categories'].value_counts().plot(kind='bar')"
      ],
      "execution_count": 0,
      "outputs": [
        {
          "output_type": "execute_result",
          "data": {
            "text/plain": [
              "<matplotlib.axes._subplots.AxesSubplot at 0x1a1e65ba10>"
            ]
          },
          "metadata": {
            "tags": []
          },
          "execution_count": 29
        },
        {
          "output_type": "display_data",
          "data": {
            "image/png": "[encoded data removed]",
            "text/plain": [
              "<Figure size 432x288 with 1 Axes>"
            ]
          },
          "metadata": {
            "tags": [],
            "needs_background": "light"
          }
        }
      ]
    },
    {
      "cell_type": "markdown",
      "metadata": {
        "id": "W3kTj9bA0Gpo",
        "colab_type": "text"
      },
      "source": [
        "Below is bar plot based on Charlotte data, we found American type and general restaurant with no particular category  are common in Charlotte"
      ]
    },
    {
      "cell_type": "code",
      "metadata": {
        "id": "a5nODokb0Gpo",
        "colab_type": "code",
        "colab": {},
        "outputId": "848b43e2-dda7-48c3-a523-689828cbc9f7"
      },
      "source": [
        "nearby_venues_char['categories'].value_counts().plot(kind='bar')"
      ],
      "execution_count": 0,
      "outputs": [
        {
          "output_type": "execute_result",
          "data": {
            "text/plain": [
              "<matplotlib.axes._subplots.AxesSubplot at 0x1a1e77f490>"
            ]
          },
          "metadata": {
            "tags": []
          },
          "execution_count": 30
        },
        {
          "output_type": "display_data",
          "data": {
            "image/png": "[encoded data removed]",
            "text/plain": [
              "<Figure size 432x288 with 1 Axes>"
            ]
          },
          "metadata": {
            "tags": [],
            "needs_background": "light"
          }
        }
      ]
    },
    {
      "cell_type": "markdown",
      "metadata": {
        "id": "u97gG3_p0Gpq",
        "colab_type": "text"
      },
      "source": [
        "**Making 4 categories to categorize Raleigh and Charlotte data based on no. of Likes Restaurants received. Here, High rated, above avg rated, below average rated and poor rated category are used for the no. of likes falling in the range of 80<, 50-80,25-50, 25>.**\n",
        " "
      ]
    },
    {
      "cell_type": "code",
      "metadata": {
        "id": "UHF-B-f80Gpq",
        "colab_type": "code",
        "colab": {},
        "outputId": "ce1a0065-cfd2-479a-948f-6d7ea8e0ca28"
      },
      "source": [
        "# let's set up a function that will re-categorize our restaurants based on likes\n",
        "\n",
        "def conditions(s):\n",
        "    if s['total likes']<=25:\n",
        "        return 'poor rated'\n",
        "    if s['total likes']<=50:\n",
        "        return 'below avg rated'\n",
        "    if s['total likes']<=80:\n",
        "        return 'above avg rated'\n",
        "    if s['total likes']>80:\n",
        "        return 'high rated'\n",
        "\n",
        "nearby_venues_char['Rating']=nearby_venues_char.apply(conditions, axis=1)\n",
        "nearby_venues_char.head()"
      ],
      "execution_count": 0,
      "outputs": [
        {
          "output_type": "execute_result",
          "data": {
            "text/html": [
              "<div>\n",
              "<style scoped>\n",
              "    .dataframe tbody tr th:only-of-type {\n",
              "        vertical-align: middle;\n",
              "    }\n",
              "\n",
              "    .dataframe tbody tr th {\n",
              "        vertical-align: top;\n",
              "    }\n",
              "\n",
              "    .dataframe thead th {\n",
              "        text-align: right;\n",
              "    }\n",
              "</style>\n",
              "<table border=\"1\" class=\"dataframe\">\n",
              "  <thead>\n",
              "    <tr style=\"text-align: right;\">\n",
              "      <th></th>\n",
              "      <th>name</th>\n",
              "      <th>id</th>\n",
              "      <th>categories</th>\n",
              "      <th>lat</th>\n",
              "      <th>lng</th>\n",
              "      <th>total likes</th>\n",
              "      <th>Rating</th>\n",
              "    </tr>\n",
              "  </thead>\n",
              "  <tbody>\n",
              "    <tr>\n",
              "      <th>2</th>\n",
              "      <td>The Capital Grille</td>\n",
              "      <td>4b05863ef964a520f45922e3</td>\n",
              "      <td>American Restaurant</td>\n",
              "      <td>35.228216</td>\n",
              "      <td>-80.841974</td>\n",
              "      <td>96</td>\n",
              "      <td>high rated</td>\n",
              "    </tr>\n",
              "    <tr>\n",
              "      <th>4</th>\n",
              "      <td>Dandelion Market</td>\n",
              "      <td>4b466381f964a5206f1f26e3</td>\n",
              "      <td>Tapas Restaurant</td>\n",
              "      <td>35.228656</td>\n",
              "      <td>-80.842479</td>\n",
              "      <td>236</td>\n",
              "      <td>high rated</td>\n",
              "    </tr>\n",
              "    <tr>\n",
              "      <th>5</th>\n",
              "      <td>Vapiano</td>\n",
              "      <td>4e2ffb921838f1c552ca5f70</td>\n",
              "      <td>Italian Restaurant</td>\n",
              "      <td>35.226234</td>\n",
              "      <td>-80.844124</td>\n",
              "      <td>208</td>\n",
              "      <td>high rated</td>\n",
              "    </tr>\n",
              "    <tr>\n",
              "      <th>7</th>\n",
              "      <td>5 Church</td>\n",
              "      <td>4f8b5454e4b00a6263a38774</td>\n",
              "      <td>New American Restaurant</td>\n",
              "      <td>35.228548</td>\n",
              "      <td>-80.843054</td>\n",
              "      <td>212</td>\n",
              "      <td>high rated</td>\n",
              "    </tr>\n",
              "    <tr>\n",
              "      <th>11</th>\n",
              "      <td>Aria Tuscan Grill</td>\n",
              "      <td>4bb14a46f964a520fa893ce3</td>\n",
              "      <td>Italian Restaurant</td>\n",
              "      <td>35.226615</td>\n",
              "      <td>-80.842317</td>\n",
              "      <td>85</td>\n",
              "      <td>high rated</td>\n",
              "    </tr>\n",
              "  </tbody>\n",
              "</table>\n",
              "</div>"
            ],
            "text/plain": [
              "                  name                        id               categories  \\\n",
              "2   The Capital Grille  4b05863ef964a520f45922e3      American Restaurant   \n",
              "4     Dandelion Market  4b466381f964a5206f1f26e3         Tapas Restaurant   \n",
              "5              Vapiano  4e2ffb921838f1c552ca5f70       Italian Restaurant   \n",
              "7             5 Church  4f8b5454e4b00a6263a38774  New American Restaurant   \n",
              "11   Aria Tuscan Grill  4bb14a46f964a520fa893ce3       Italian Restaurant   \n",
              "\n",
              "          lat        lng  total likes      Rating  \n",
              "2   35.228216 -80.841974           96  high rated  \n",
              "4   35.228656 -80.842479          236  high rated  \n",
              "5   35.226234 -80.844124          208  high rated  \n",
              "7   35.228548 -80.843054          212  high rated  \n",
              "11  35.226615 -80.842317           85  high rated  "
            ]
          },
          "metadata": {
            "tags": []
          },
          "execution_count": 31
        }
      ]
    },
    {
      "cell_type": "code",
      "metadata": {
        "id": "QHObYktE0Gpr",
        "colab_type": "code",
        "colab": {},
        "outputId": "b4e694a4-1da2-4743-a511-238535400e76"
      },
      "source": [
        "nearby_venues_raleigh['Rating']=nearby_venues_raleigh.apply(conditions, axis=1)\n",
        "nearby_venues_raleigh.head()"
      ],
      "execution_count": 0,
      "outputs": [
        {
          "output_type": "execute_result",
          "data": {
            "text/html": [
              "<div>\n",
              "<style scoped>\n",
              "    .dataframe tbody tr th:only-of-type {\n",
              "        vertical-align: middle;\n",
              "    }\n",
              "\n",
              "    .dataframe tbody tr th {\n",
              "        vertical-align: top;\n",
              "    }\n",
              "\n",
              "    .dataframe thead th {\n",
              "        text-align: right;\n",
              "    }\n",
              "</style>\n",
              "<table border=\"1\" class=\"dataframe\">\n",
              "  <thead>\n",
              "    <tr style=\"text-align: right;\">\n",
              "      <th></th>\n",
              "      <th>name</th>\n",
              "      <th>id</th>\n",
              "      <th>categories</th>\n",
              "      <th>lat</th>\n",
              "      <th>lng</th>\n",
              "      <th>total likes</th>\n",
              "      <th>Rating</th>\n",
              "    </tr>\n",
              "  </thead>\n",
              "  <tbody>\n",
              "    <tr>\n",
              "      <th>5</th>\n",
              "      <td>Sitti</td>\n",
              "      <td>4ad93789f964a520261921e3</td>\n",
              "      <td>Mediterranean Restaurant</td>\n",
              "      <td>35.778237</td>\n",
              "      <td>-78.638266</td>\n",
              "      <td>231</td>\n",
              "      <td>high rated</td>\n",
              "    </tr>\n",
              "    <tr>\n",
              "      <th>7</th>\n",
              "      <td>Centro</td>\n",
              "      <td>4ad90386f964a5201d1721e3</td>\n",
              "      <td>Mexican Restaurant</td>\n",
              "      <td>35.779236</td>\n",
              "      <td>-78.638264</td>\n",
              "      <td>125</td>\n",
              "      <td>high rated</td>\n",
              "    </tr>\n",
              "    <tr>\n",
              "      <th>8</th>\n",
              "      <td>Gravy</td>\n",
              "      <td>4a592915f964a520d6b81fe3</td>\n",
              "      <td>Italian Restaurant</td>\n",
              "      <td>35.778482</td>\n",
              "      <td>-78.638143</td>\n",
              "      <td>139</td>\n",
              "      <td>high rated</td>\n",
              "    </tr>\n",
              "    <tr>\n",
              "      <th>10</th>\n",
              "      <td>Death &amp; Taxes</td>\n",
              "      <td>54a1adbe498e54b4407ce331</td>\n",
              "      <td>American Restaurant</td>\n",
              "      <td>35.778245</td>\n",
              "      <td>-78.640375</td>\n",
              "      <td>64</td>\n",
              "      <td>above avg rated</td>\n",
              "    </tr>\n",
              "    <tr>\n",
              "      <th>14</th>\n",
              "      <td>Bida Manda Laotian Restaurant and Bar</td>\n",
              "      <td>4ee404309911944900b07ad5</td>\n",
              "      <td>Asian Restaurant</td>\n",
              "      <td>35.777227</td>\n",
              "      <td>-78.636812</td>\n",
              "      <td>262</td>\n",
              "      <td>high rated</td>\n",
              "    </tr>\n",
              "  </tbody>\n",
              "</table>\n",
              "</div>"
            ],
            "text/plain": [
              "                                     name                        id  \\\n",
              "5                                   Sitti  4ad93789f964a520261921e3   \n",
              "7                                  Centro  4ad90386f964a5201d1721e3   \n",
              "8                                   Gravy  4a592915f964a520d6b81fe3   \n",
              "10                          Death & Taxes  54a1adbe498e54b4407ce331   \n",
              "14  Bida Manda Laotian Restaurant and Bar  4ee404309911944900b07ad5   \n",
              "\n",
              "                  categories        lat        lng  total likes  \\\n",
              "5   Mediterranean Restaurant  35.778237 -78.638266          231   \n",
              "7         Mexican Restaurant  35.779236 -78.638264          125   \n",
              "8         Italian Restaurant  35.778482 -78.638143          139   \n",
              "10       American Restaurant  35.778245 -78.640375           64   \n",
              "14          Asian Restaurant  35.777227 -78.636812          262   \n",
              "\n",
              "             Rating  \n",
              "5        high rated  \n",
              "7        high rated  \n",
              "8        high rated  \n",
              "10  above avg rated  \n",
              "14       high rated  "
            ]
          },
          "metadata": {
            "tags": []
          },
          "execution_count": 32
        }
      ]
    },
    {
      "cell_type": "markdown",
      "metadata": {
        "id": "2WN5w3C60Gpt",
        "colab_type": "text"
      },
      "source": [
        "Below visualization represents that there are more differences in high rated restaurants and restaurant with other 3 rated group in Raleigh as compared to Charlotte. Most of the restaurants received high rating in both the cities."
      ]
    },
    {
      "cell_type": "code",
      "metadata": {
        "id": "vhb33Fcp0Gpt",
        "colab_type": "code",
        "colab": {},
        "outputId": "c0ae0151-433e-4ec1-8569-86a61f4a63af"
      },
      "source": [
        "nearby_venues_char['Rating'].value_counts().plot(kind='bar')"
      ],
      "execution_count": 0,
      "outputs": [
        {
          "output_type": "execute_result",
          "data": {
            "text/plain": [
              "<matplotlib.axes._subplots.AxesSubplot at 0x1a1e8d1a50>"
            ]
          },
          "metadata": {
            "tags": []
          },
          "execution_count": 33
        },
        {
          "output_type": "display_data",
          "data": {
            "image/png": "[encoded data removed]",
            "text/plain": [
              "<Figure size 432x288 with 1 Axes>"
            ]
          },
          "metadata": {
            "tags": [],
            "needs_background": "light"
          }
        }
      ]
    },
    {
      "cell_type": "code",
      "metadata": {
        "id": "UIKV-Fgk0Gpu",
        "colab_type": "code",
        "colab": {},
        "outputId": "648b7d76-2e70-403e-bb00-57d4543ab204"
      },
      "source": [
        "nearby_venues_raleigh['Rating'].value_counts().plot(kind='bar')"
      ],
      "execution_count": 0,
      "outputs": [
        {
          "output_type": "execute_result",
          "data": {
            "text/plain": [
              "<matplotlib.axes._subplots.AxesSubplot at 0x1a1e9df8d0>"
            ]
          },
          "metadata": {
            "tags": []
          },
          "execution_count": 34
        },
        {
          "output_type": "display_data",
          "data": {
            "image/png": "[encoded data removed]",
            "text/plain": [
              "<Figure size 432x288 with 1 Axes>"
            ]
          },
          "metadata": {
            "tags": [],
            "needs_background": "light"
          }
        }
      ]
    },
    {
      "cell_type": "markdown",
      "metadata": {
        "id": "Jpgba8D30Gpw",
        "colab_type": "text"
      },
      "source": [
        "Creating dummy variables for the no. of likes and the restaurant categories in Raleigh."
      ]
    },
    {
      "cell_type": "code",
      "metadata": {
        "id": "CGVzl6IK0Gpw",
        "colab_type": "code",
        "colab": {},
        "outputId": "004d5927-be0d-4e06-8b2a-5e52131c2ee0"
      },
      "source": [
        "# one hot encoding\n",
        "Raleigh_onehot = pd.get_dummies(nearby_venues_raleigh[['categories', 'Rating']], prefix=\"\", prefix_sep=\"\")\n",
        "\n",
        "# adding neighborhood column back to dataframe\n",
        "Raleigh_onehot['Name'] = nearby_venues_raleigh['name'] \n",
        "\n",
        "# moving neighborhood column to the first column\n",
        "fixed_columns1 = [Raleigh_onehot.columns[-1]] + list(Raleigh_onehot.columns[:-1])\n",
        "Raleigh_onehot = Raleigh_onehot[fixed_columns1]\n",
        "\n",
        "Raleigh_onehot.head()"
      ],
      "execution_count": 0,
      "outputs": [
        {
          "output_type": "execute_result",
          "data": {
            "text/html": [
              "<div>\n",
              "<style scoped>\n",
              "    .dataframe tbody tr th:only-of-type {\n",
              "        vertical-align: middle;\n",
              "    }\n",
              "\n",
              "    .dataframe tbody tr th {\n",
              "        vertical-align: top;\n",
              "    }\n",
              "\n",
              "    .dataframe thead th {\n",
              "        text-align: right;\n",
              "    }\n",
              "</style>\n",
              "<table border=\"1\" class=\"dataframe\">\n",
              "  <thead>\n",
              "    <tr style=\"text-align: right;\">\n",
              "      <th></th>\n",
              "      <th>Name</th>\n",
              "      <th>American Restaurant</th>\n",
              "      <th>Asian Restaurant</th>\n",
              "      <th>Greek Restaurant</th>\n",
              "      <th>Italian Restaurant</th>\n",
              "      <th>Korean Restaurant</th>\n",
              "      <th>Mediterranean Restaurant</th>\n",
              "      <th>Mexican Restaurant</th>\n",
              "      <th>Seafood Restaurant</th>\n",
              "      <th>Southern / Soul Food Restaurant</th>\n",
              "      <th>Sushi Restaurant</th>\n",
              "      <th>Tapas Restaurant</th>\n",
              "      <th>Vegetarian / Vegan Restaurant</th>\n",
              "      <th>above avg rated</th>\n",
              "      <th>below avg rated</th>\n",
              "      <th>high rated</th>\n",
              "      <th>poor rated</th>\n",
              "    </tr>\n",
              "  </thead>\n",
              "  <tbody>\n",
              "    <tr>\n",
              "      <th>5</th>\n",
              "      <td>Sitti</td>\n",
              "      <td>0</td>\n",
              "      <td>0</td>\n",
              "      <td>0</td>\n",
              "      <td>0</td>\n",
              "      <td>0</td>\n",
              "      <td>1</td>\n",
              "      <td>0</td>\n",
              "      <td>0</td>\n",
              "      <td>0</td>\n",
              "      <td>0</td>\n",
              "      <td>0</td>\n",
              "      <td>0</td>\n",
              "      <td>0</td>\n",
              "      <td>0</td>\n",
              "      <td>1</td>\n",
              "      <td>0</td>\n",
              "    </tr>\n",
              "    <tr>\n",
              "      <th>7</th>\n",
              "      <td>Centro</td>\n",
              "      <td>0</td>\n",
              "      <td>0</td>\n",
              "      <td>0</td>\n",
              "      <td>0</td>\n",
              "      <td>0</td>\n",
              "      <td>0</td>\n",
              "      <td>1</td>\n",
              "      <td>0</td>\n",
              "      <td>0</td>\n",
              "      <td>0</td>\n",
              "      <td>0</td>\n",
              "      <td>0</td>\n",
              "      <td>0</td>\n",
              "      <td>0</td>\n",
              "      <td>1</td>\n",
              "      <td>0</td>\n",
              "    </tr>\n",
              "    <tr>\n",
              "      <th>8</th>\n",
              "      <td>Gravy</td>\n",
              "      <td>0</td>\n",
              "      <td>0</td>\n",
              "      <td>0</td>\n",
              "      <td>1</td>\n",
              "      <td>0</td>\n",
              "      <td>0</td>\n",
              "      <td>0</td>\n",
              "      <td>0</td>\n",
              "      <td>0</td>\n",
              "      <td>0</td>\n",
              "      <td>0</td>\n",
              "      <td>0</td>\n",
              "      <td>0</td>\n",
              "      <td>0</td>\n",
              "      <td>1</td>\n",
              "      <td>0</td>\n",
              "    </tr>\n",
              "    <tr>\n",
              "      <th>10</th>\n",
              "      <td>Death &amp; Taxes</td>\n",
              "      <td>1</td>\n",
              "      <td>0</td>\n",
              "      <td>0</td>\n",
              "      <td>0</td>\n",
              "      <td>0</td>\n",
              "      <td>0</td>\n",
              "      <td>0</td>\n",
              "      <td>0</td>\n",
              "      <td>0</td>\n",
              "      <td>0</td>\n",
              "      <td>0</td>\n",
              "      <td>0</td>\n",
              "      <td>1</td>\n",
              "      <td>0</td>\n",
              "      <td>0</td>\n",
              "      <td>0</td>\n",
              "    </tr>\n",
              "    <tr>\n",
              "      <th>14</th>\n",
              "      <td>Bida Manda Laotian Restaurant and Bar</td>\n",
              "      <td>0</td>\n",
              "      <td>1</td>\n",
              "      <td>0</td>\n",
              "      <td>0</td>\n",
              "      <td>0</td>\n",
              "      <td>0</td>\n",
              "      <td>0</td>\n",
              "      <td>0</td>\n",
              "      <td>0</td>\n",
              "      <td>0</td>\n",
              "      <td>0</td>\n",
              "      <td>0</td>\n",
              "      <td>0</td>\n",
              "      <td>0</td>\n",
              "      <td>1</td>\n",
              "      <td>0</td>\n",
              "    </tr>\n",
              "  </tbody>\n",
              "</table>\n",
              "</div>"
            ],
            "text/plain": [
              "                                     Name  American Restaurant  \\\n",
              "5                                   Sitti                    0   \n",
              "7                                  Centro                    0   \n",
              "8                                   Gravy                    0   \n",
              "10                          Death & Taxes                    1   \n",
              "14  Bida Manda Laotian Restaurant and Bar                    0   \n",
              "\n",
              "    Asian Restaurant  Greek Restaurant  Italian Restaurant  Korean Restaurant  \\\n",
              "5                  0                 0                   0                  0   \n",
              "7                  0                 0                   0                  0   \n",
              "8                  0                 0                   1                  0   \n",
              "10                 0                 0                   0                  0   \n",
              "14                 1                 0                   0                  0   \n",
              "\n",
              "    Mediterranean Restaurant  Mexican Restaurant  Seafood Restaurant  \\\n",
              "5                          1                   0                   0   \n",
              "7                          0                   1                   0   \n",
              "8                          0                   0                   0   \n",
              "10                         0                   0                   0   \n",
              "14                         0                   0                   0   \n",
              "\n",
              "    Southern / Soul Food Restaurant  Sushi Restaurant  Tapas Restaurant  \\\n",
              "5                                 0                 0                 0   \n",
              "7                                 0                 0                 0   \n",
              "8                                 0                 0                 0   \n",
              "10                                0                 0                 0   \n",
              "14                                0                 0                 0   \n",
              "\n",
              "    Vegetarian / Vegan Restaurant  above avg rated  below avg rated  \\\n",
              "5                               0                0                0   \n",
              "7                               0                0                0   \n",
              "8                               0                0                0   \n",
              "10                              0                1                0   \n",
              "14                              0                0                0   \n",
              "\n",
              "    high rated  poor rated  \n",
              "5            1           0  \n",
              "7            1           0  \n",
              "8            1           0  \n",
              "10           0           0  \n",
              "14           1           0  "
            ]
          },
          "metadata": {
            "tags": []
          },
          "execution_count": 35
        }
      ]
    },
    {
      "cell_type": "markdown",
      "metadata": {
        "id": "88Xeh0YP0Gpx",
        "colab_type": "text"
      },
      "source": [
        "Creating dummy variables for the no. of likes and the restaurant categories in Charlotte."
      ]
    },
    {
      "cell_type": "code",
      "metadata": {
        "id": "qsjjHrzB0Gpy",
        "colab_type": "code",
        "colab": {},
        "outputId": "c8cdc7ad-404c-423d-82be-26622a9b195c"
      },
      "source": [
        "# one hot encoding\n",
        "Char_onehot = pd.get_dummies(nearby_venues_char[['categories', 'Rating']], prefix=\"\", prefix_sep=\"\")\n",
        "\n",
        "# adding neighborhood column back to dataframe\n",
        "Char_onehot['Name'] = nearby_venues_char['name'] \n",
        "\n",
        "# moving neighborhood column to the first column\n",
        "fixed_columns2 = [Char_onehot.columns[-1]] + list(Char_onehot.columns[:-1])\n",
        "Char_onehot = Char_onehot[fixed_columns2]\n",
        "\n",
        "Char_onehot"
      ],
      "execution_count": 0,
      "outputs": [
        {
          "output_type": "execute_result",
          "data": {
            "text/html": [
              "<div>\n",
              "<style scoped>\n",
              "    .dataframe tbody tr th:only-of-type {\n",
              "        vertical-align: middle;\n",
              "    }\n",
              "\n",
              "    .dataframe tbody tr th {\n",
              "        vertical-align: top;\n",
              "    }\n",
              "\n",
              "    .dataframe thead th {\n",
              "        text-align: right;\n",
              "    }\n",
              "</style>\n",
              "<table border=\"1\" class=\"dataframe\">\n",
              "  <thead>\n",
              "    <tr style=\"text-align: right;\">\n",
              "      <th></th>\n",
              "      <th>Name</th>\n",
              "      <th>American Restaurant</th>\n",
              "      <th>French Restaurant</th>\n",
              "      <th>Greek Restaurant</th>\n",
              "      <th>Italian Restaurant</th>\n",
              "      <th>Mexican Restaurant</th>\n",
              "      <th>New American Restaurant</th>\n",
              "      <th>Restaurant</th>\n",
              "      <th>Seafood Restaurant</th>\n",
              "      <th>Southern / Soul Food Restaurant</th>\n",
              "      <th>Tapas Restaurant</th>\n",
              "      <th>above avg rated</th>\n",
              "      <th>below avg rated</th>\n",
              "      <th>high rated</th>\n",
              "      <th>poor rated</th>\n",
              "    </tr>\n",
              "  </thead>\n",
              "  <tbody>\n",
              "    <tr>\n",
              "      <th>2</th>\n",
              "      <td>The Capital Grille</td>\n",
              "      <td>1</td>\n",
              "      <td>0</td>\n",
              "      <td>0</td>\n",
              "      <td>0</td>\n",
              "      <td>0</td>\n",
              "      <td>0</td>\n",
              "      <td>0</td>\n",
              "      <td>0</td>\n",
              "      <td>0</td>\n",
              "      <td>0</td>\n",
              "      <td>0</td>\n",
              "      <td>0</td>\n",
              "      <td>1</td>\n",
              "      <td>0</td>\n",
              "    </tr>\n",
              "    <tr>\n",
              "      <th>4</th>\n",
              "      <td>Dandelion Market</td>\n",
              "      <td>0</td>\n",
              "      <td>0</td>\n",
              "      <td>0</td>\n",
              "      <td>0</td>\n",
              "      <td>0</td>\n",
              "      <td>0</td>\n",
              "      <td>0</td>\n",
              "      <td>0</td>\n",
              "      <td>0</td>\n",
              "      <td>1</td>\n",
              "      <td>0</td>\n",
              "      <td>0</td>\n",
              "      <td>1</td>\n",
              "      <td>0</td>\n",
              "    </tr>\n",
              "    <tr>\n",
              "      <th>5</th>\n",
              "      <td>Vapiano</td>\n",
              "      <td>0</td>\n",
              "      <td>0</td>\n",
              "      <td>0</td>\n",
              "      <td>1</td>\n",
              "      <td>0</td>\n",
              "      <td>0</td>\n",
              "      <td>0</td>\n",
              "      <td>0</td>\n",
              "      <td>0</td>\n",
              "      <td>0</td>\n",
              "      <td>0</td>\n",
              "      <td>0</td>\n",
              "      <td>1</td>\n",
              "      <td>0</td>\n",
              "    </tr>\n",
              "    <tr>\n",
              "      <th>7</th>\n",
              "      <td>5 Church</td>\n",
              "      <td>0</td>\n",
              "      <td>0</td>\n",
              "      <td>0</td>\n",
              "      <td>0</td>\n",
              "      <td>0</td>\n",
              "      <td>1</td>\n",
              "      <td>0</td>\n",
              "      <td>0</td>\n",
              "      <td>0</td>\n",
              "      <td>0</td>\n",
              "      <td>0</td>\n",
              "      <td>0</td>\n",
              "      <td>1</td>\n",
              "      <td>0</td>\n",
              "    </tr>\n",
              "    <tr>\n",
              "      <th>11</th>\n",
              "      <td>Aria Tuscan Grill</td>\n",
              "      <td>0</td>\n",
              "      <td>0</td>\n",
              "      <td>0</td>\n",
              "      <td>1</td>\n",
              "      <td>0</td>\n",
              "      <td>0</td>\n",
              "      <td>0</td>\n",
              "      <td>0</td>\n",
              "      <td>0</td>\n",
              "      <td>0</td>\n",
              "      <td>0</td>\n",
              "      <td>0</td>\n",
              "      <td>1</td>\n",
              "      <td>0</td>\n",
              "    </tr>\n",
              "    <tr>\n",
              "      <th>14</th>\n",
              "      <td>Rooster's Wood Fired Kitchen II</td>\n",
              "      <td>1</td>\n",
              "      <td>0</td>\n",
              "      <td>0</td>\n",
              "      <td>0</td>\n",
              "      <td>0</td>\n",
              "      <td>0</td>\n",
              "      <td>0</td>\n",
              "      <td>0</td>\n",
              "      <td>0</td>\n",
              "      <td>0</td>\n",
              "      <td>0</td>\n",
              "      <td>0</td>\n",
              "      <td>1</td>\n",
              "      <td>0</td>\n",
              "    </tr>\n",
              "    <tr>\n",
              "      <th>25</th>\n",
              "      <td>The King's Kitchen</td>\n",
              "      <td>0</td>\n",
              "      <td>0</td>\n",
              "      <td>0</td>\n",
              "      <td>0</td>\n",
              "      <td>0</td>\n",
              "      <td>0</td>\n",
              "      <td>0</td>\n",
              "      <td>0</td>\n",
              "      <td>1</td>\n",
              "      <td>0</td>\n",
              "      <td>0</td>\n",
              "      <td>0</td>\n",
              "      <td>1</td>\n",
              "      <td>0</td>\n",
              "    </tr>\n",
              "    <tr>\n",
              "      <th>26</th>\n",
              "      <td>Stoke</td>\n",
              "      <td>0</td>\n",
              "      <td>0</td>\n",
              "      <td>0</td>\n",
              "      <td>0</td>\n",
              "      <td>0</td>\n",
              "      <td>0</td>\n",
              "      <td>1</td>\n",
              "      <td>0</td>\n",
              "      <td>0</td>\n",
              "      <td>0</td>\n",
              "      <td>0</td>\n",
              "      <td>1</td>\n",
              "      <td>0</td>\n",
              "      <td>0</td>\n",
              "    </tr>\n",
              "    <tr>\n",
              "      <th>27</th>\n",
              "      <td>The Cellar</td>\n",
              "      <td>0</td>\n",
              "      <td>0</td>\n",
              "      <td>0</td>\n",
              "      <td>0</td>\n",
              "      <td>0</td>\n",
              "      <td>0</td>\n",
              "      <td>1</td>\n",
              "      <td>0</td>\n",
              "      <td>0</td>\n",
              "      <td>0</td>\n",
              "      <td>0</td>\n",
              "      <td>1</td>\n",
              "      <td>0</td>\n",
              "      <td>0</td>\n",
              "    </tr>\n",
              "    <tr>\n",
              "      <th>38</th>\n",
              "      <td>Eddie V's Prime Seafood</td>\n",
              "      <td>0</td>\n",
              "      <td>0</td>\n",
              "      <td>0</td>\n",
              "      <td>0</td>\n",
              "      <td>0</td>\n",
              "      <td>0</td>\n",
              "      <td>0</td>\n",
              "      <td>1</td>\n",
              "      <td>0</td>\n",
              "      <td>0</td>\n",
              "      <td>0</td>\n",
              "      <td>0</td>\n",
              "      <td>0</td>\n",
              "      <td>1</td>\n",
              "    </tr>\n",
              "    <tr>\n",
              "      <th>40</th>\n",
              "      <td>Coco and the Director</td>\n",
              "      <td>0</td>\n",
              "      <td>0</td>\n",
              "      <td>0</td>\n",
              "      <td>0</td>\n",
              "      <td>0</td>\n",
              "      <td>0</td>\n",
              "      <td>1</td>\n",
              "      <td>0</td>\n",
              "      <td>0</td>\n",
              "      <td>0</td>\n",
              "      <td>0</td>\n",
              "      <td>1</td>\n",
              "      <td>0</td>\n",
              "      <td>0</td>\n",
              "    </tr>\n",
              "    <tr>\n",
              "      <th>44</th>\n",
              "      <td>La Belle Helene</td>\n",
              "      <td>0</td>\n",
              "      <td>1</td>\n",
              "      <td>0</td>\n",
              "      <td>0</td>\n",
              "      <td>0</td>\n",
              "      <td>0</td>\n",
              "      <td>0</td>\n",
              "      <td>0</td>\n",
              "      <td>0</td>\n",
              "      <td>0</td>\n",
              "      <td>0</td>\n",
              "      <td>0</td>\n",
              "      <td>0</td>\n",
              "      <td>1</td>\n",
              "    </tr>\n",
              "    <tr>\n",
              "      <th>49</th>\n",
              "      <td>Bentley's Restaurant on 27</td>\n",
              "      <td>0</td>\n",
              "      <td>1</td>\n",
              "      <td>0</td>\n",
              "      <td>0</td>\n",
              "      <td>0</td>\n",
              "      <td>0</td>\n",
              "      <td>0</td>\n",
              "      <td>0</td>\n",
              "      <td>0</td>\n",
              "      <td>0</td>\n",
              "      <td>0</td>\n",
              "      <td>0</td>\n",
              "      <td>0</td>\n",
              "      <td>1</td>\n",
              "    </tr>\n",
              "    <tr>\n",
              "      <th>51</th>\n",
              "      <td>Que Onda Tacos + Tequila</td>\n",
              "      <td>0</td>\n",
              "      <td>0</td>\n",
              "      <td>0</td>\n",
              "      <td>0</td>\n",
              "      <td>1</td>\n",
              "      <td>0</td>\n",
              "      <td>0</td>\n",
              "      <td>0</td>\n",
              "      <td>0</td>\n",
              "      <td>0</td>\n",
              "      <td>0</td>\n",
              "      <td>0</td>\n",
              "      <td>0</td>\n",
              "      <td>1</td>\n",
              "    </tr>\n",
              "    <tr>\n",
              "      <th>60</th>\n",
              "      <td>Mert’s Heart &amp; Soul Restaurant</td>\n",
              "      <td>0</td>\n",
              "      <td>0</td>\n",
              "      <td>0</td>\n",
              "      <td>0</td>\n",
              "      <td>0</td>\n",
              "      <td>0</td>\n",
              "      <td>0</td>\n",
              "      <td>0</td>\n",
              "      <td>1</td>\n",
              "      <td>0</td>\n",
              "      <td>0</td>\n",
              "      <td>0</td>\n",
              "      <td>1</td>\n",
              "      <td>0</td>\n",
              "    </tr>\n",
              "    <tr>\n",
              "      <th>63</th>\n",
              "      <td>Malabar</td>\n",
              "      <td>0</td>\n",
              "      <td>0</td>\n",
              "      <td>0</td>\n",
              "      <td>0</td>\n",
              "      <td>0</td>\n",
              "      <td>0</td>\n",
              "      <td>0</td>\n",
              "      <td>0</td>\n",
              "      <td>0</td>\n",
              "      <td>1</td>\n",
              "      <td>0</td>\n",
              "      <td>0</td>\n",
              "      <td>0</td>\n",
              "      <td>1</td>\n",
              "    </tr>\n",
              "    <tr>\n",
              "      <th>65</th>\n",
              "      <td>McCormick &amp; Schmick's</td>\n",
              "      <td>0</td>\n",
              "      <td>0</td>\n",
              "      <td>0</td>\n",
              "      <td>0</td>\n",
              "      <td>0</td>\n",
              "      <td>0</td>\n",
              "      <td>0</td>\n",
              "      <td>1</td>\n",
              "      <td>0</td>\n",
              "      <td>0</td>\n",
              "      <td>1</td>\n",
              "      <td>0</td>\n",
              "      <td>0</td>\n",
              "      <td>0</td>\n",
              "    </tr>\n",
              "    <tr>\n",
              "      <th>75</th>\n",
              "      <td>Duckworth's Grill &amp; Taphouse</td>\n",
              "      <td>0</td>\n",
              "      <td>0</td>\n",
              "      <td>0</td>\n",
              "      <td>0</td>\n",
              "      <td>0</td>\n",
              "      <td>0</td>\n",
              "      <td>1</td>\n",
              "      <td>0</td>\n",
              "      <td>0</td>\n",
              "      <td>0</td>\n",
              "      <td>0</td>\n",
              "      <td>0</td>\n",
              "      <td>1</td>\n",
              "      <td>0</td>\n",
              "    </tr>\n",
              "    <tr>\n",
              "      <th>80</th>\n",
              "      <td>Mimosa Grill</td>\n",
              "      <td>1</td>\n",
              "      <td>0</td>\n",
              "      <td>0</td>\n",
              "      <td>0</td>\n",
              "      <td>0</td>\n",
              "      <td>0</td>\n",
              "      <td>0</td>\n",
              "      <td>0</td>\n",
              "      <td>0</td>\n",
              "      <td>0</td>\n",
              "      <td>0</td>\n",
              "      <td>0</td>\n",
              "      <td>1</td>\n",
              "      <td>0</td>\n",
              "    </tr>\n",
              "    <tr>\n",
              "      <th>82</th>\n",
              "      <td>Little Village Grill</td>\n",
              "      <td>0</td>\n",
              "      <td>0</td>\n",
              "      <td>1</td>\n",
              "      <td>0</td>\n",
              "      <td>0</td>\n",
              "      <td>0</td>\n",
              "      <td>0</td>\n",
              "      <td>0</td>\n",
              "      <td>0</td>\n",
              "      <td>0</td>\n",
              "      <td>0</td>\n",
              "      <td>0</td>\n",
              "      <td>1</td>\n",
              "      <td>0</td>\n",
              "    </tr>\n",
              "    <tr>\n",
              "      <th>93</th>\n",
              "      <td>Alexander Michael's</td>\n",
              "      <td>1</td>\n",
              "      <td>0</td>\n",
              "      <td>0</td>\n",
              "      <td>0</td>\n",
              "      <td>0</td>\n",
              "      <td>0</td>\n",
              "      <td>0</td>\n",
              "      <td>0</td>\n",
              "      <td>0</td>\n",
              "      <td>0</td>\n",
              "      <td>0</td>\n",
              "      <td>0</td>\n",
              "      <td>1</td>\n",
              "      <td>0</td>\n",
              "    </tr>\n",
              "    <tr>\n",
              "      <th>95</th>\n",
              "      <td>Fahrenheit</td>\n",
              "      <td>0</td>\n",
              "      <td>0</td>\n",
              "      <td>0</td>\n",
              "      <td>0</td>\n",
              "      <td>0</td>\n",
              "      <td>1</td>\n",
              "      <td>0</td>\n",
              "      <td>0</td>\n",
              "      <td>0</td>\n",
              "      <td>0</td>\n",
              "      <td>0</td>\n",
              "      <td>0</td>\n",
              "      <td>1</td>\n",
              "      <td>0</td>\n",
              "    </tr>\n",
              "  </tbody>\n",
              "</table>\n",
              "</div>"
            ],
            "text/plain": [
              "                               Name  American Restaurant  French Restaurant  \\\n",
              "2                The Capital Grille                    1                  0   \n",
              "4                  Dandelion Market                    0                  0   \n",
              "5                           Vapiano                    0                  0   \n",
              "7                          5 Church                    0                  0   \n",
              "11                Aria Tuscan Grill                    0                  0   \n",
              "14  Rooster's Wood Fired Kitchen II                    1                  0   \n",
              "25               The King's Kitchen                    0                  0   \n",
              "26                            Stoke                    0                  0   \n",
              "27                       The Cellar                    0                  0   \n",
              "38          Eddie V's Prime Seafood                    0                  0   \n",
              "40            Coco and the Director                    0                  0   \n",
              "44                  La Belle Helene                    0                  1   \n",
              "49       Bentley's Restaurant on 27                    0                  1   \n",
              "51         Que Onda Tacos + Tequila                    0                  0   \n",
              "60   Mert’s Heart & Soul Restaurant                    0                  0   \n",
              "63                          Malabar                    0                  0   \n",
              "65            McCormick & Schmick's                    0                  0   \n",
              "75     Duckworth's Grill & Taphouse                    0                  0   \n",
              "80                     Mimosa Grill                    1                  0   \n",
              "82             Little Village Grill                    0                  0   \n",
              "93              Alexander Michael's                    1                  0   \n",
              "95                       Fahrenheit                    0                  0   \n",
              "\n",
              "    Greek Restaurant  Italian Restaurant  Mexican Restaurant  \\\n",
              "2                  0                   0                   0   \n",
              "4                  0                   0                   0   \n",
              "5                  0                   1                   0   \n",
              "7                  0                   0                   0   \n",
              "11                 0                   1                   0   \n",
              "14                 0                   0                   0   \n",
              "25                 0                   0                   0   \n",
              "26                 0                   0                   0   \n",
              "27                 0                   0                   0   \n",
              "38                 0                   0                   0   \n",
              "40                 0                   0                   0   \n",
              "44                 0                   0                   0   \n",
              "49                 0                   0                   0   \n",
              "51                 0                   0                   1   \n",
              "60                 0                   0                   0   \n",
              "63                 0                   0                   0   \n",
              "65                 0                   0                   0   \n",
              "75                 0                   0                   0   \n",
              "80                 0                   0                   0   \n",
              "82                 1                   0                   0   \n",
              "93                 0                   0                   0   \n",
              "95                 0                   0                   0   \n",
              "\n",
              "    New American Restaurant  Restaurant  Seafood Restaurant  \\\n",
              "2                         0           0                   0   \n",
              "4                         0           0                   0   \n",
              "5                         0           0                   0   \n",
              "7                         1           0                   0   \n",
              "11                        0           0                   0   \n",
              "14                        0           0                   0   \n",
              "25                        0           0                   0   \n",
              "26                        0           1                   0   \n",
              "27                        0           1                   0   \n",
              "38                        0           0                   1   \n",
              "40                        0           1                   0   \n",
              "44                        0           0                   0   \n",
              "49                        0           0                   0   \n",
              "51                        0           0                   0   \n",
              "60                        0           0                   0   \n",
              "63                        0           0                   0   \n",
              "65                        0           0                   1   \n",
              "75                        0           1                   0   \n",
              "80                        0           0                   0   \n",
              "82                        0           0                   0   \n",
              "93                        0           0                   0   \n",
              "95                        1           0                   0   \n",
              "\n",
              "    Southern / Soul Food Restaurant  Tapas Restaurant  above avg rated  \\\n",
              "2                                 0                 0                0   \n",
              "4                                 0                 1                0   \n",
              "5                                 0                 0                0   \n",
              "7                                 0                 0                0   \n",
              "11                                0                 0                0   \n",
              "14                                0                 0                0   \n",
              "25                                1                 0                0   \n",
              "26                                0                 0                0   \n",
              "27                                0                 0                0   \n",
              "38                                0                 0                0   \n",
              "40                                0                 0                0   \n",
              "44                                0                 0                0   \n",
              "49                                0                 0                0   \n",
              "51                                0                 0                0   \n",
              "60                                1                 0                0   \n",
              "63                                0                 1                0   \n",
              "65                                0                 0                1   \n",
              "75                                0                 0                0   \n",
              "80                                0                 0                0   \n",
              "82                                0                 0                0   \n",
              "93                                0                 0                0   \n",
              "95                                0                 0                0   \n",
              "\n",
              "    below avg rated  high rated  poor rated  \n",
              "2                 0           1           0  \n",
              "4                 0           1           0  \n",
              "5                 0           1           0  \n",
              "7                 0           1           0  \n",
              "11                0           1           0  \n",
              "14                0           1           0  \n",
              "25                0           1           0  \n",
              "26                1           0           0  \n",
              "27                1           0           0  \n",
              "38                0           0           1  \n",
              "40                1           0           0  \n",
              "44                0           0           1  \n",
              "49                0           0           1  \n",
              "51                0           0           1  \n",
              "60                0           1           0  \n",
              "63                0           0           1  \n",
              "65                0           0           0  \n",
              "75                0           1           0  \n",
              "80                0           1           0  \n",
              "82                0           1           0  \n",
              "93                0           1           0  \n",
              "95                0           1           0  "
            ]
          },
          "metadata": {
            "tags": []
          },
          "execution_count": 36
        }
      ]
    },
    {
      "cell_type": "markdown",
      "metadata": {
        "id": "SWN3Ak5f0Gpz",
        "colab_type": "text"
      },
      "source": [
        "Performing **K-means clustering** to classify both data"
      ]
    },
    {
      "cell_type": "code",
      "metadata": {
        "id": "3bYZm9Op0Gpz",
        "colab_type": "code",
        "colab": {},
        "outputId": "d650e7d6-4ad0-4c9e-c7e1-ca3e99d5c859"
      },
      "source": [
        "cluster_char = Char_onehot.drop('Name', axis=1)\n",
        "\n",
        "k_clusters = 4\n",
        "\n",
        "\n",
        "kmeansC = KMeans(n_clusters=k_clusters, random_state=0).fit(cluster_char)\n",
        "\n",
        "\n",
        "kmeansC.labels_"
      ],
      "execution_count": 0,
      "outputs": [
        {
          "output_type": "execute_result",
          "data": {
            "text/plain": [
              "array([2, 1, 1, 1, 1, 2, 1, 3, 3, 0, 3, 0, 0, 0, 1, 0, 0, 1, 2, 1, 2, 1],\n",
              "      dtype=int32)"
            ]
          },
          "metadata": {
            "tags": []
          },
          "execution_count": 37
        }
      ]
    },
    {
      "cell_type": "code",
      "metadata": {
        "id": "_XEpVADR0Gp0",
        "colab_type": "code",
        "colab": {},
        "outputId": "830d1243-d5f4-4080-8969-48a9dc8b6f93"
      },
      "source": [
        "nearby_venues_char['label'] = kmeansC.labels_\n",
        "nearby_venues_char"
      ],
      "execution_count": 0,
      "outputs": [
        {
          "output_type": "execute_result",
          "data": {
            "text/html": [
              "<div>\n",
              "<style scoped>\n",
              "    .dataframe tbody tr th:only-of-type {\n",
              "        vertical-align: middle;\n",
              "    }\n",
              "\n",
              "    .dataframe tbody tr th {\n",
              "        vertical-align: top;\n",
              "    }\n",
              "\n",
              "    .dataframe thead th {\n",
              "        text-align: right;\n",
              "    }\n",
              "</style>\n",
              "<table border=\"1\" class=\"dataframe\">\n",
              "  <thead>\n",
              "    <tr style=\"text-align: right;\">\n",
              "      <th></th>\n",
              "      <th>name</th>\n",
              "      <th>id</th>\n",
              "      <th>categories</th>\n",
              "      <th>lat</th>\n",
              "      <th>lng</th>\n",
              "      <th>total likes</th>\n",
              "      <th>Rating</th>\n",
              "      <th>label</th>\n",
              "    </tr>\n",
              "  </thead>\n",
              "  <tbody>\n",
              "    <tr>\n",
              "      <th>2</th>\n",
              "      <td>The Capital Grille</td>\n",
              "      <td>4b05863ef964a520f45922e3</td>\n",
              "      <td>American Restaurant</td>\n",
              "      <td>35.228216</td>\n",
              "      <td>-80.841974</td>\n",
              "      <td>96</td>\n",
              "      <td>high rated</td>\n",
              "      <td>2</td>\n",
              "    </tr>\n",
              "    <tr>\n",
              "      <th>4</th>\n",
              "      <td>Dandelion Market</td>\n",
              "      <td>4b466381f964a5206f1f26e3</td>\n",
              "      <td>Tapas Restaurant</td>\n",
              "      <td>35.228656</td>\n",
              "      <td>-80.842479</td>\n",
              "      <td>236</td>\n",
              "      <td>high rated</td>\n",
              "      <td>1</td>\n",
              "    </tr>\n",
              "    <tr>\n",
              "      <th>5</th>\n",
              "      <td>Vapiano</td>\n",
              "      <td>4e2ffb921838f1c552ca5f70</td>\n",
              "      <td>Italian Restaurant</td>\n",
              "      <td>35.226234</td>\n",
              "      <td>-80.844124</td>\n",
              "      <td>208</td>\n",
              "      <td>high rated</td>\n",
              "      <td>1</td>\n",
              "    </tr>\n",
              "    <tr>\n",
              "      <th>7</th>\n",
              "      <td>5 Church</td>\n",
              "      <td>4f8b5454e4b00a6263a38774</td>\n",
              "      <td>New American Restaurant</td>\n",
              "      <td>35.228548</td>\n",
              "      <td>-80.843054</td>\n",
              "      <td>212</td>\n",
              "      <td>high rated</td>\n",
              "      <td>1</td>\n",
              "    </tr>\n",
              "    <tr>\n",
              "      <th>11</th>\n",
              "      <td>Aria Tuscan Grill</td>\n",
              "      <td>4bb14a46f964a520fa893ce3</td>\n",
              "      <td>Italian Restaurant</td>\n",
              "      <td>35.226615</td>\n",
              "      <td>-80.842317</td>\n",
              "      <td>85</td>\n",
              "      <td>high rated</td>\n",
              "      <td>1</td>\n",
              "    </tr>\n",
              "    <tr>\n",
              "      <th>14</th>\n",
              "      <td>Rooster's Wood Fired Kitchen II</td>\n",
              "      <td>4f516ba8e4b063296bf04765</td>\n",
              "      <td>American Restaurant</td>\n",
              "      <td>35.226856</td>\n",
              "      <td>-80.841229</td>\n",
              "      <td>90</td>\n",
              "      <td>high rated</td>\n",
              "      <td>2</td>\n",
              "    </tr>\n",
              "    <tr>\n",
              "      <th>25</th>\n",
              "      <td>The King's Kitchen</td>\n",
              "      <td>4bd07af1caff952185dfcef0</td>\n",
              "      <td>Southern / Soul Food Restaurant</td>\n",
              "      <td>35.228093</td>\n",
              "      <td>-80.844206</td>\n",
              "      <td>98</td>\n",
              "      <td>high rated</td>\n",
              "      <td>1</td>\n",
              "    </tr>\n",
              "    <tr>\n",
              "      <th>26</th>\n",
              "      <td>Stoke</td>\n",
              "      <td>57a56d1f498e5952a14f86f4</td>\n",
              "      <td>Restaurant</td>\n",
              "      <td>35.228057</td>\n",
              "      <td>-80.843475</td>\n",
              "      <td>33</td>\n",
              "      <td>below avg rated</td>\n",
              "      <td>3</td>\n",
              "    </tr>\n",
              "    <tr>\n",
              "      <th>27</th>\n",
              "      <td>The Cellar</td>\n",
              "      <td>55a42c96498e793e0e13b18c</td>\n",
              "      <td>Restaurant</td>\n",
              "      <td>35.229240</td>\n",
              "      <td>-80.839710</td>\n",
              "      <td>44</td>\n",
              "      <td>below avg rated</td>\n",
              "      <td>3</td>\n",
              "    </tr>\n",
              "    <tr>\n",
              "      <th>38</th>\n",
              "      <td>Eddie V's Prime Seafood</td>\n",
              "      <td>5ae7e6746bdee6002c84ed22</td>\n",
              "      <td>Seafood Restaurant</td>\n",
              "      <td>35.226875</td>\n",
              "      <td>-80.843260</td>\n",
              "      <td>9</td>\n",
              "      <td>poor rated</td>\n",
              "      <td>0</td>\n",
              "    </tr>\n",
              "    <tr>\n",
              "      <th>40</th>\n",
              "      <td>Coco and the Director</td>\n",
              "      <td>57a85cb7498ebb2205737e6d</td>\n",
              "      <td>Restaurant</td>\n",
              "      <td>35.227684</td>\n",
              "      <td>-80.843548</td>\n",
              "      <td>37</td>\n",
              "      <td>below avg rated</td>\n",
              "      <td>3</td>\n",
              "    </tr>\n",
              "    <tr>\n",
              "      <th>44</th>\n",
              "      <td>La Belle Helene</td>\n",
              "      <td>5b639c99cabcff002cbe11b1</td>\n",
              "      <td>French Restaurant</td>\n",
              "      <td>35.225283</td>\n",
              "      <td>-80.845659</td>\n",
              "      <td>18</td>\n",
              "      <td>poor rated</td>\n",
              "      <td>0</td>\n",
              "    </tr>\n",
              "    <tr>\n",
              "      <th>49</th>\n",
              "      <td>Bentley's Restaurant on 27</td>\n",
              "      <td>4b05863ef964a520e95922e3</td>\n",
              "      <td>French Restaurant</td>\n",
              "      <td>35.224956</td>\n",
              "      <td>-80.843364</td>\n",
              "      <td>24</td>\n",
              "      <td>poor rated</td>\n",
              "      <td>0</td>\n",
              "    </tr>\n",
              "    <tr>\n",
              "      <th>51</th>\n",
              "      <td>Que Onda Tacos + Tequila</td>\n",
              "      <td>584365c79850a03d8398144e</td>\n",
              "      <td>Mexican Restaurant</td>\n",
              "      <td>35.229213</td>\n",
              "      <td>-80.845517</td>\n",
              "      <td>16</td>\n",
              "      <td>poor rated</td>\n",
              "      <td>0</td>\n",
              "    </tr>\n",
              "    <tr>\n",
              "      <th>60</th>\n",
              "      <td>Mert’s Heart &amp; Soul Restaurant</td>\n",
              "      <td>4b05863ff964a520345a22e3</td>\n",
              "      <td>Southern / Soul Food Restaurant</td>\n",
              "      <td>35.227318</td>\n",
              "      <td>-80.840130</td>\n",
              "      <td>168</td>\n",
              "      <td>high rated</td>\n",
              "      <td>1</td>\n",
              "    </tr>\n",
              "    <tr>\n",
              "      <th>63</th>\n",
              "      <td>Malabar</td>\n",
              "      <td>4f02453e30f899233495e903</td>\n",
              "      <td>Tapas Restaurant</td>\n",
              "      <td>35.228324</td>\n",
              "      <td>-80.841404</td>\n",
              "      <td>24</td>\n",
              "      <td>poor rated</td>\n",
              "      <td>0</td>\n",
              "    </tr>\n",
              "    <tr>\n",
              "      <th>65</th>\n",
              "      <td>McCormick &amp; Schmick's</td>\n",
              "      <td>4b2ac7a6f964a52079af24e3</td>\n",
              "      <td>Seafood Restaurant</td>\n",
              "      <td>35.226437</td>\n",
              "      <td>-80.844560</td>\n",
              "      <td>67</td>\n",
              "      <td>above avg rated</td>\n",
              "      <td>0</td>\n",
              "    </tr>\n",
              "    <tr>\n",
              "      <th>75</th>\n",
              "      <td>Duckworth's Grill &amp; Taphouse</td>\n",
              "      <td>54ecae87498ec256aee9450d</td>\n",
              "      <td>Restaurant</td>\n",
              "      <td>35.229240</td>\n",
              "      <td>-80.839710</td>\n",
              "      <td>121</td>\n",
              "      <td>high rated</td>\n",
              "      <td>1</td>\n",
              "    </tr>\n",
              "    <tr>\n",
              "      <th>80</th>\n",
              "      <td>Mimosa Grill</td>\n",
              "      <td>4b05863bf964a520775922e3</td>\n",
              "      <td>American Restaurant</td>\n",
              "      <td>35.224981</td>\n",
              "      <td>-80.845958</td>\n",
              "      <td>101</td>\n",
              "      <td>high rated</td>\n",
              "      <td>2</td>\n",
              "    </tr>\n",
              "    <tr>\n",
              "      <th>82</th>\n",
              "      <td>Little Village Grill</td>\n",
              "      <td>4b21405cf964a520033924e3</td>\n",
              "      <td>Greek Restaurant</td>\n",
              "      <td>35.232023</td>\n",
              "      <td>-80.848767</td>\n",
              "      <td>82</td>\n",
              "      <td>high rated</td>\n",
              "      <td>1</td>\n",
              "    </tr>\n",
              "    <tr>\n",
              "      <th>93</th>\n",
              "      <td>Alexander Michael's</td>\n",
              "      <td>4b05863ef964a520f35922e3</td>\n",
              "      <td>American Restaurant</td>\n",
              "      <td>35.233657</td>\n",
              "      <td>-80.840755</td>\n",
              "      <td>110</td>\n",
              "      <td>high rated</td>\n",
              "      <td>2</td>\n",
              "    </tr>\n",
              "    <tr>\n",
              "      <th>95</th>\n",
              "      <td>Fahrenheit</td>\n",
              "      <td>53113efb498e59275ccb1fdd</td>\n",
              "      <td>New American Restaurant</td>\n",
              "      <td>35.222547</td>\n",
              "      <td>-80.841022</td>\n",
              "      <td>178</td>\n",
              "      <td>high rated</td>\n",
              "      <td>1</td>\n",
              "    </tr>\n",
              "  </tbody>\n",
              "</table>\n",
              "</div>"
            ],
            "text/plain": [
              "                               name                        id  \\\n",
              "2                The Capital Grille  4b05863ef964a520f45922e3   \n",
              "4                  Dandelion Market  4b466381f964a5206f1f26e3   \n",
              "5                           Vapiano  4e2ffb921838f1c552ca5f70   \n",
              "7                          5 Church  4f8b5454e4b00a6263a38774   \n",
              "11                Aria Tuscan Grill  4bb14a46f964a520fa893ce3   \n",
              "14  Rooster's Wood Fired Kitchen II  4f516ba8e4b063296bf04765   \n",
              "25               The King's Kitchen  4bd07af1caff952185dfcef0   \n",
              "26                            Stoke  57a56d1f498e5952a14f86f4   \n",
              "27                       The Cellar  55a42c96498e793e0e13b18c   \n",
              "38          Eddie V's Prime Seafood  5ae7e6746bdee6002c84ed22   \n",
              "40            Coco and the Director  57a85cb7498ebb2205737e6d   \n",
              "44                  La Belle Helene  5b639c99cabcff002cbe11b1   \n",
              "49       Bentley's Restaurant on 27  4b05863ef964a520e95922e3   \n",
              "51         Que Onda Tacos + Tequila  584365c79850a03d8398144e   \n",
              "60   Mert’s Heart & Soul Restaurant  4b05863ff964a520345a22e3   \n",
              "63                          Malabar  4f02453e30f899233495e903   \n",
              "65            McCormick & Schmick's  4b2ac7a6f964a52079af24e3   \n",
              "75     Duckworth's Grill & Taphouse  54ecae87498ec256aee9450d   \n",
              "80                     Mimosa Grill  4b05863bf964a520775922e3   \n",
              "82             Little Village Grill  4b21405cf964a520033924e3   \n",
              "93              Alexander Michael's  4b05863ef964a520f35922e3   \n",
              "95                       Fahrenheit  53113efb498e59275ccb1fdd   \n",
              "\n",
              "                         categories        lat        lng  total likes  \\\n",
              "2               American Restaurant  35.228216 -80.841974           96   \n",
              "4                  Tapas Restaurant  35.228656 -80.842479          236   \n",
              "5                Italian Restaurant  35.226234 -80.844124          208   \n",
              "7           New American Restaurant  35.228548 -80.843054          212   \n",
              "11               Italian Restaurant  35.226615 -80.842317           85   \n",
              "14              American Restaurant  35.226856 -80.841229           90   \n",
              "25  Southern / Soul Food Restaurant  35.228093 -80.844206           98   \n",
              "26                       Restaurant  35.228057 -80.843475           33   \n",
              "27                       Restaurant  35.229240 -80.839710           44   \n",
              "38               Seafood Restaurant  35.226875 -80.843260            9   \n",
              "40                       Restaurant  35.227684 -80.843548           37   \n",
              "44                French Restaurant  35.225283 -80.845659           18   \n",
              "49                French Restaurant  35.224956 -80.843364           24   \n",
              "51               Mexican Restaurant  35.229213 -80.845517           16   \n",
              "60  Southern / Soul Food Restaurant  35.227318 -80.840130          168   \n",
              "63                 Tapas Restaurant  35.228324 -80.841404           24   \n",
              "65               Seafood Restaurant  35.226437 -80.844560           67   \n",
              "75                       Restaurant  35.229240 -80.839710          121   \n",
              "80              American Restaurant  35.224981 -80.845958          101   \n",
              "82                 Greek Restaurant  35.232023 -80.848767           82   \n",
              "93              American Restaurant  35.233657 -80.840755          110   \n",
              "95          New American Restaurant  35.222547 -80.841022          178   \n",
              "\n",
              "             Rating  label  \n",
              "2        high rated      2  \n",
              "4        high rated      1  \n",
              "5        high rated      1  \n",
              "7        high rated      1  \n",
              "11       high rated      1  \n",
              "14       high rated      2  \n",
              "25       high rated      1  \n",
              "26  below avg rated      3  \n",
              "27  below avg rated      3  \n",
              "38       poor rated      0  \n",
              "40  below avg rated      3  \n",
              "44       poor rated      0  \n",
              "49       poor rated      0  \n",
              "51       poor rated      0  \n",
              "60       high rated      1  \n",
              "63       poor rated      0  \n",
              "65  above avg rated      0  \n",
              "75       high rated      1  \n",
              "80       high rated      2  \n",
              "82       high rated      1  \n",
              "93       high rated      2  \n",
              "95       high rated      1  "
            ]
          },
          "metadata": {
            "tags": []
          },
          "execution_count": 38
        }
      ]
    },
    {
      "cell_type": "markdown",
      "metadata": {
        "id": "s-kNErID0Gp1",
        "colab_type": "text"
      },
      "source": [
        "## **Seeing clusters on Map using folium library**"
      ]
    },
    {
      "cell_type": "code",
      "metadata": {
        "scrolled": true,
        "id": "6z8ye7wp0Gp2",
        "colab_type": "code",
        "colab": {},
        "outputId": "94f4f1c7-dea2-4d71-cdce-6bd79fc5d842"
      },
      "source": [
        "map_clusters1 = folium.Map(location=[latitude_c, longitude_c], zoom_start=11)\n",
        "\n",
        "# set color scheme for the clusters\n",
        "x = np.arange(k_clusters)\n",
        "ys = [i+x+(i*x)**2 for i in range(k_clusters)]\n",
        "colors_array = cm.rainbow(np.linspace(0, 1, len(ys)))\n",
        "rainbow = [colors.rgb2hex(i) for i in colors_array]\n",
        "\n",
        "# add markers to the map\n",
        "markers_colors = []\n",
        "for lat, lon, poi, cluster in zip(nearby_venues_char['lat'], nearby_venues_char['lng'], nearby_venues_char['name'], nearby_venues_char['label']):\n",
        "    label = folium.Popup(str(poi) + ' Cluster ' + str(cluster), parse_html=True)\n",
        "    folium.CircleMarker(\n",
        "        [lat, lon],\n",
        "        radius=5,\n",
        "        popup=label,\n",
        "        color=rainbow[cluster-1],\n",
        "        fill=True,\n",
        "        fill_color=rainbow[cluster-1],\n",
        "        fill_opacity=0.7).add_to(map_clusters1)\n",
        "       \n",
        "map_clusters1\n",
        "# Map for Charlotte city"
      ],
      "execution_count": 0,
      "outputs": [
        {
          "output_type": "execute_result",
          "data": {
            "text/html": [
              "<div style=\"width:100%;\"><div style=\"position:relative;width:100%;height:0;padding-bottom:60%;\"><span style=\"color:#565656\">Make this Notebook Trusted to load map: File -> Trust Notebook</span><iframe src=\"about:blank\" style=\"position:absolute;width:100%;height:100%;left:0;top:0;border:none !important;\" data-html=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 onload=\"this.contentDocument.open();this.contentDocument.write(atob(this.getAttribute('data-html')));this.contentDocument.close();\" allowfullscreen webkitallowfullscreen mozallowfullscreen></iframe></div></div>"
            ],
            "text/plain": [
              "<folium.folium.Map at 0x1a1eb87bd0>"
            ]
          },
          "metadata": {
            "tags": []
          },
          "execution_count": 39
        }
      ]
    },
    {
      "cell_type": "markdown",
      "metadata": {
        "id": "3WXpBA9B0Gp3",
        "colab_type": "text"
      },
      "source": [
        "Cluster 0 and 3 represents High rated Restaurants in Charlotte"
      ]
    },
    {
      "cell_type": "code",
      "metadata": {
        "id": "EkCdw9QR0Gp3",
        "colab_type": "code",
        "colab": {},
        "outputId": "155aeb52-4ff4-446e-9e86-7a60326157e2"
      },
      "source": [
        "nearby_venues_char.loc[ (nearby_venues_char['label']==0)|  (nearby_venues_char['label']==3) ]"
      ],
      "execution_count": 0,
      "outputs": [
        {
          "output_type": "execute_result",
          "data": {
            "text/html": [
              "<div>\n",
              "<style scoped>\n",
              "    .dataframe tbody tr th:only-of-type {\n",
              "        vertical-align: middle;\n",
              "    }\n",
              "\n",
              "    .dataframe tbody tr th {\n",
              "        vertical-align: top;\n",
              "    }\n",
              "\n",
              "    .dataframe thead th {\n",
              "        text-align: right;\n",
              "    }\n",
              "</style>\n",
              "<table border=\"1\" class=\"dataframe\">\n",
              "  <thead>\n",
              "    <tr style=\"text-align: right;\">\n",
              "      <th></th>\n",
              "      <th>name</th>\n",
              "      <th>id</th>\n",
              "      <th>categories</th>\n",
              "      <th>lat</th>\n",
              "      <th>lng</th>\n",
              "      <th>total likes</th>\n",
              "      <th>Rating</th>\n",
              "      <th>label</th>\n",
              "    </tr>\n",
              "  </thead>\n",
              "  <tbody>\n",
              "    <tr>\n",
              "      <th>26</th>\n",
              "      <td>Stoke</td>\n",
              "      <td>57a56d1f498e5952a14f86f4</td>\n",
              "      <td>Restaurant</td>\n",
              "      <td>35.228057</td>\n",
              "      <td>-80.843475</td>\n",
              "      <td>33</td>\n",
              "      <td>below avg rated</td>\n",
              "      <td>3</td>\n",
              "    </tr>\n",
              "    <tr>\n",
              "      <th>27</th>\n",
              "      <td>The Cellar</td>\n",
              "      <td>55a42c96498e793e0e13b18c</td>\n",
              "      <td>Restaurant</td>\n",
              "      <td>35.229240</td>\n",
              "      <td>-80.839710</td>\n",
              "      <td>44</td>\n",
              "      <td>below avg rated</td>\n",
              "      <td>3</td>\n",
              "    </tr>\n",
              "    <tr>\n",
              "      <th>38</th>\n",
              "      <td>Eddie V's Prime Seafood</td>\n",
              "      <td>5ae7e6746bdee6002c84ed22</td>\n",
              "      <td>Seafood Restaurant</td>\n",
              "      <td>35.226875</td>\n",
              "      <td>-80.843260</td>\n",
              "      <td>9</td>\n",
              "      <td>poor rated</td>\n",
              "      <td>0</td>\n",
              "    </tr>\n",
              "    <tr>\n",
              "      <th>40</th>\n",
              "      <td>Coco and the Director</td>\n",
              "      <td>57a85cb7498ebb2205737e6d</td>\n",
              "      <td>Restaurant</td>\n",
              "      <td>35.227684</td>\n",
              "      <td>-80.843548</td>\n",
              "      <td>37</td>\n",
              "      <td>below avg rated</td>\n",
              "      <td>3</td>\n",
              "    </tr>\n",
              "    <tr>\n",
              "      <th>44</th>\n",
              "      <td>La Belle Helene</td>\n",
              "      <td>5b639c99cabcff002cbe11b1</td>\n",
              "      <td>French Restaurant</td>\n",
              "      <td>35.225283</td>\n",
              "      <td>-80.845659</td>\n",
              "      <td>18</td>\n",
              "      <td>poor rated</td>\n",
              "      <td>0</td>\n",
              "    </tr>\n",
              "    <tr>\n",
              "      <th>49</th>\n",
              "      <td>Bentley's Restaurant on 27</td>\n",
              "      <td>4b05863ef964a520e95922e3</td>\n",
              "      <td>French Restaurant</td>\n",
              "      <td>35.224956</td>\n",
              "      <td>-80.843364</td>\n",
              "      <td>24</td>\n",
              "      <td>poor rated</td>\n",
              "      <td>0</td>\n",
              "    </tr>\n",
              "    <tr>\n",
              "      <th>51</th>\n",
              "      <td>Que Onda Tacos + Tequila</td>\n",
              "      <td>584365c79850a03d8398144e</td>\n",
              "      <td>Mexican Restaurant</td>\n",
              "      <td>35.229213</td>\n",
              "      <td>-80.845517</td>\n",
              "      <td>16</td>\n",
              "      <td>poor rated</td>\n",
              "      <td>0</td>\n",
              "    </tr>\n",
              "    <tr>\n",
              "      <th>63</th>\n",
              "      <td>Malabar</td>\n",
              "      <td>4f02453e30f899233495e903</td>\n",
              "      <td>Tapas Restaurant</td>\n",
              "      <td>35.228324</td>\n",
              "      <td>-80.841404</td>\n",
              "      <td>24</td>\n",
              "      <td>poor rated</td>\n",
              "      <td>0</td>\n",
              "    </tr>\n",
              "    <tr>\n",
              "      <th>65</th>\n",
              "      <td>McCormick &amp; Schmick's</td>\n",
              "      <td>4b2ac7a6f964a52079af24e3</td>\n",
              "      <td>Seafood Restaurant</td>\n",
              "      <td>35.226437</td>\n",
              "      <td>-80.844560</td>\n",
              "      <td>67</td>\n",
              "      <td>above avg rated</td>\n",
              "      <td>0</td>\n",
              "    </tr>\n",
              "  </tbody>\n",
              "</table>\n",
              "</div>"
            ],
            "text/plain": [
              "                          name                        id          categories  \\\n",
              "26                       Stoke  57a56d1f498e5952a14f86f4          Restaurant   \n",
              "27                  The Cellar  55a42c96498e793e0e13b18c          Restaurant   \n",
              "38     Eddie V's Prime Seafood  5ae7e6746bdee6002c84ed22  Seafood Restaurant   \n",
              "40       Coco and the Director  57a85cb7498ebb2205737e6d          Restaurant   \n",
              "44             La Belle Helene  5b639c99cabcff002cbe11b1   French Restaurant   \n",
              "49  Bentley's Restaurant on 27  4b05863ef964a520e95922e3   French Restaurant   \n",
              "51    Que Onda Tacos + Tequila  584365c79850a03d8398144e  Mexican Restaurant   \n",
              "63                     Malabar  4f02453e30f899233495e903    Tapas Restaurant   \n",
              "65       McCormick & Schmick's  4b2ac7a6f964a52079af24e3  Seafood Restaurant   \n",
              "\n",
              "          lat        lng  total likes           Rating  label  \n",
              "26  35.228057 -80.843475           33  below avg rated      3  \n",
              "27  35.229240 -80.839710           44  below avg rated      3  \n",
              "38  35.226875 -80.843260            9       poor rated      0  \n",
              "40  35.227684 -80.843548           37  below avg rated      3  \n",
              "44  35.225283 -80.845659           18       poor rated      0  \n",
              "49  35.224956 -80.843364           24       poor rated      0  \n",
              "51  35.229213 -80.845517           16       poor rated      0  \n",
              "63  35.228324 -80.841404           24       poor rated      0  \n",
              "65  35.226437 -80.844560           67  above avg rated      0  "
            ]
          },
          "metadata": {
            "tags": []
          },
          "execution_count": 40
        }
      ]
    },
    {
      "cell_type": "markdown",
      "metadata": {
        "id": "uPHEtZuw0Gp4",
        "colab_type": "text"
      },
      "source": [
        "Cluster 2 represents Poor-rated restaurants in Charlotte "
      ]
    },
    {
      "cell_type": "code",
      "metadata": {
        "id": "eCUJYzR90Gp4",
        "colab_type": "code",
        "colab": {},
        "outputId": "6350181b-dc8f-4178-8168-08c0886e5b75"
      },
      "source": [
        "nearby_venues_char.loc[nearby_venues_char['label']==2]"
      ],
      "execution_count": 0,
      "outputs": [
        {
          "output_type": "execute_result",
          "data": {
            "text/html": [
              "<div>\n",
              "<style scoped>\n",
              "    .dataframe tbody tr th:only-of-type {\n",
              "        vertical-align: middle;\n",
              "    }\n",
              "\n",
              "    .dataframe tbody tr th {\n",
              "        vertical-align: top;\n",
              "    }\n",
              "\n",
              "    .dataframe thead th {\n",
              "        text-align: right;\n",
              "    }\n",
              "</style>\n",
              "<table border=\"1\" class=\"dataframe\">\n",
              "  <thead>\n",
              "    <tr style=\"text-align: right;\">\n",
              "      <th></th>\n",
              "      <th>name</th>\n",
              "      <th>id</th>\n",
              "      <th>categories</th>\n",
              "      <th>lat</th>\n",
              "      <th>lng</th>\n",
              "      <th>total likes</th>\n",
              "      <th>Rating</th>\n",
              "      <th>label</th>\n",
              "    </tr>\n",
              "  </thead>\n",
              "  <tbody>\n",
              "    <tr>\n",
              "      <th>2</th>\n",
              "      <td>The Capital Grille</td>\n",
              "      <td>4b05863ef964a520f45922e3</td>\n",
              "      <td>American Restaurant</td>\n",
              "      <td>35.228216</td>\n",
              "      <td>-80.841974</td>\n",
              "      <td>96</td>\n",
              "      <td>high rated</td>\n",
              "      <td>2</td>\n",
              "    </tr>\n",
              "    <tr>\n",
              "      <th>14</th>\n",
              "      <td>Rooster's Wood Fired Kitchen II</td>\n",
              "      <td>4f516ba8e4b063296bf04765</td>\n",
              "      <td>American Restaurant</td>\n",
              "      <td>35.226856</td>\n",
              "      <td>-80.841229</td>\n",
              "      <td>90</td>\n",
              "      <td>high rated</td>\n",
              "      <td>2</td>\n",
              "    </tr>\n",
              "    <tr>\n",
              "      <th>80</th>\n",
              "      <td>Mimosa Grill</td>\n",
              "      <td>4b05863bf964a520775922e3</td>\n",
              "      <td>American Restaurant</td>\n",
              "      <td>35.224981</td>\n",
              "      <td>-80.845958</td>\n",
              "      <td>101</td>\n",
              "      <td>high rated</td>\n",
              "      <td>2</td>\n",
              "    </tr>\n",
              "    <tr>\n",
              "      <th>93</th>\n",
              "      <td>Alexander Michael's</td>\n",
              "      <td>4b05863ef964a520f35922e3</td>\n",
              "      <td>American Restaurant</td>\n",
              "      <td>35.233657</td>\n",
              "      <td>-80.840755</td>\n",
              "      <td>110</td>\n",
              "      <td>high rated</td>\n",
              "      <td>2</td>\n",
              "    </tr>\n",
              "  </tbody>\n",
              "</table>\n",
              "</div>"
            ],
            "text/plain": [
              "                               name                        id  \\\n",
              "2                The Capital Grille  4b05863ef964a520f45922e3   \n",
              "14  Rooster's Wood Fired Kitchen II  4f516ba8e4b063296bf04765   \n",
              "80                     Mimosa Grill  4b05863bf964a520775922e3   \n",
              "93              Alexander Michael's  4b05863ef964a520f35922e3   \n",
              "\n",
              "             categories        lat        lng  total likes      Rating  label  \n",
              "2   American Restaurant  35.228216 -80.841974           96  high rated      2  \n",
              "14  American Restaurant  35.226856 -80.841229           90  high rated      2  \n",
              "80  American Restaurant  35.224981 -80.845958          101  high rated      2  \n",
              "93  American Restaurant  35.233657 -80.840755          110  high rated      2  "
            ]
          },
          "metadata": {
            "tags": []
          },
          "execution_count": 41
        }
      ]
    },
    {
      "cell_type": "markdown",
      "metadata": {
        "id": "k4FlUk7-0Gp6",
        "colab_type": "text"
      },
      "source": [
        "Cluster 1 represents below average rated restaurants in Charlotte"
      ]
    },
    {
      "cell_type": "code",
      "metadata": {
        "id": "phZiyT-E0Gp6",
        "colab_type": "code",
        "colab": {},
        "outputId": "97f14bb0-2380-4165-f087-ff371469c35c"
      },
      "source": [
        "nearby_venues_char.loc[nearby_venues_char['label']==1]"
      ],
      "execution_count": 0,
      "outputs": [
        {
          "output_type": "execute_result",
          "data": {
            "text/html": [
              "<div>\n",
              "<style scoped>\n",
              "    .dataframe tbody tr th:only-of-type {\n",
              "        vertical-align: middle;\n",
              "    }\n",
              "\n",
              "    .dataframe tbody tr th {\n",
              "        vertical-align: top;\n",
              "    }\n",
              "\n",
              "    .dataframe thead th {\n",
              "        text-align: right;\n",
              "    }\n",
              "</style>\n",
              "<table border=\"1\" class=\"dataframe\">\n",
              "  <thead>\n",
              "    <tr style=\"text-align: right;\">\n",
              "      <th></th>\n",
              "      <th>name</th>\n",
              "      <th>id</th>\n",
              "      <th>categories</th>\n",
              "      <th>lat</th>\n",
              "      <th>lng</th>\n",
              "      <th>total likes</th>\n",
              "      <th>Rating</th>\n",
              "      <th>label</th>\n",
              "    </tr>\n",
              "  </thead>\n",
              "  <tbody>\n",
              "    <tr>\n",
              "      <th>4</th>\n",
              "      <td>Dandelion Market</td>\n",
              "      <td>4b466381f964a5206f1f26e3</td>\n",
              "      <td>Tapas Restaurant</td>\n",
              "      <td>35.228656</td>\n",
              "      <td>-80.842479</td>\n",
              "      <td>236</td>\n",
              "      <td>high rated</td>\n",
              "      <td>1</td>\n",
              "    </tr>\n",
              "    <tr>\n",
              "      <th>5</th>\n",
              "      <td>Vapiano</td>\n",
              "      <td>4e2ffb921838f1c552ca5f70</td>\n",
              "      <td>Italian Restaurant</td>\n",
              "      <td>35.226234</td>\n",
              "      <td>-80.844124</td>\n",
              "      <td>208</td>\n",
              "      <td>high rated</td>\n",
              "      <td>1</td>\n",
              "    </tr>\n",
              "    <tr>\n",
              "      <th>7</th>\n",
              "      <td>5 Church</td>\n",
              "      <td>4f8b5454e4b00a6263a38774</td>\n",
              "      <td>New American Restaurant</td>\n",
              "      <td>35.228548</td>\n",
              "      <td>-80.843054</td>\n",
              "      <td>212</td>\n",
              "      <td>high rated</td>\n",
              "      <td>1</td>\n",
              "    </tr>\n",
              "    <tr>\n",
              "      <th>11</th>\n",
              "      <td>Aria Tuscan Grill</td>\n",
              "      <td>4bb14a46f964a520fa893ce3</td>\n",
              "      <td>Italian Restaurant</td>\n",
              "      <td>35.226615</td>\n",
              "      <td>-80.842317</td>\n",
              "      <td>85</td>\n",
              "      <td>high rated</td>\n",
              "      <td>1</td>\n",
              "    </tr>\n",
              "    <tr>\n",
              "      <th>25</th>\n",
              "      <td>The King's Kitchen</td>\n",
              "      <td>4bd07af1caff952185dfcef0</td>\n",
              "      <td>Southern / Soul Food Restaurant</td>\n",
              "      <td>35.228093</td>\n",
              "      <td>-80.844206</td>\n",
              "      <td>98</td>\n",
              "      <td>high rated</td>\n",
              "      <td>1</td>\n",
              "    </tr>\n",
              "    <tr>\n",
              "      <th>60</th>\n",
              "      <td>Mert’s Heart &amp; Soul Restaurant</td>\n",
              "      <td>4b05863ff964a520345a22e3</td>\n",
              "      <td>Southern / Soul Food Restaurant</td>\n",
              "      <td>35.227318</td>\n",
              "      <td>-80.840130</td>\n",
              "      <td>168</td>\n",
              "      <td>high rated</td>\n",
              "      <td>1</td>\n",
              "    </tr>\n",
              "    <tr>\n",
              "      <th>75</th>\n",
              "      <td>Duckworth's Grill &amp; Taphouse</td>\n",
              "      <td>54ecae87498ec256aee9450d</td>\n",
              "      <td>Restaurant</td>\n",
              "      <td>35.229240</td>\n",
              "      <td>-80.839710</td>\n",
              "      <td>121</td>\n",
              "      <td>high rated</td>\n",
              "      <td>1</td>\n",
              "    </tr>\n",
              "    <tr>\n",
              "      <th>82</th>\n",
              "      <td>Little Village Grill</td>\n",
              "      <td>4b21405cf964a520033924e3</td>\n",
              "      <td>Greek Restaurant</td>\n",
              "      <td>35.232023</td>\n",
              "      <td>-80.848767</td>\n",
              "      <td>82</td>\n",
              "      <td>high rated</td>\n",
              "      <td>1</td>\n",
              "    </tr>\n",
              "    <tr>\n",
              "      <th>95</th>\n",
              "      <td>Fahrenheit</td>\n",
              "      <td>53113efb498e59275ccb1fdd</td>\n",
              "      <td>New American Restaurant</td>\n",
              "      <td>35.222547</td>\n",
              "      <td>-80.841022</td>\n",
              "      <td>178</td>\n",
              "      <td>high rated</td>\n",
              "      <td>1</td>\n",
              "    </tr>\n",
              "  </tbody>\n",
              "</table>\n",
              "</div>"
            ],
            "text/plain": [
              "                              name                        id  \\\n",
              "4                 Dandelion Market  4b466381f964a5206f1f26e3   \n",
              "5                          Vapiano  4e2ffb921838f1c552ca5f70   \n",
              "7                         5 Church  4f8b5454e4b00a6263a38774   \n",
              "11               Aria Tuscan Grill  4bb14a46f964a520fa893ce3   \n",
              "25              The King's Kitchen  4bd07af1caff952185dfcef0   \n",
              "60  Mert’s Heart & Soul Restaurant  4b05863ff964a520345a22e3   \n",
              "75    Duckworth's Grill & Taphouse  54ecae87498ec256aee9450d   \n",
              "82            Little Village Grill  4b21405cf964a520033924e3   \n",
              "95                      Fahrenheit  53113efb498e59275ccb1fdd   \n",
              "\n",
              "                         categories        lat        lng  total likes  \\\n",
              "4                  Tapas Restaurant  35.228656 -80.842479          236   \n",
              "5                Italian Restaurant  35.226234 -80.844124          208   \n",
              "7           New American Restaurant  35.228548 -80.843054          212   \n",
              "11               Italian Restaurant  35.226615 -80.842317           85   \n",
              "25  Southern / Soul Food Restaurant  35.228093 -80.844206           98   \n",
              "60  Southern / Soul Food Restaurant  35.227318 -80.840130          168   \n",
              "75                       Restaurant  35.229240 -80.839710          121   \n",
              "82                 Greek Restaurant  35.232023 -80.848767           82   \n",
              "95          New American Restaurant  35.222547 -80.841022          178   \n",
              "\n",
              "        Rating  label  \n",
              "4   high rated      1  \n",
              "5   high rated      1  \n",
              "7   high rated      1  \n",
              "11  high rated      1  \n",
              "25  high rated      1  \n",
              "60  high rated      1  \n",
              "75  high rated      1  \n",
              "82  high rated      1  \n",
              "95  high rated      1  "
            ]
          },
          "metadata": {
            "tags": []
          },
          "execution_count": 42
        }
      ]
    },
    {
      "cell_type": "code",
      "metadata": {
        "id": "lHEYAz800Gp7",
        "colab_type": "code",
        "colab": {},
        "outputId": "e779665a-e5d1-4ef5-f574-860daf0a830b"
      },
      "source": [
        "cluster_Raleigh = Raleigh_onehot.drop('Name', axis=1)\n",
        "\n",
        "k_clusters = 4\n",
        "\n",
        "\n",
        "kmeansR = KMeans(n_clusters=k_clusters, random_state=0).fit(cluster_Raleigh)\n",
        "\n",
        "\n",
        "kmeansR.labels_"
      ],
      "execution_count": 0,
      "outputs": [
        {
          "output_type": "execute_result",
          "data": {
            "text/plain": [
              "array([0, 0, 0, 3, 0, 0, 1, 0, 3, 1, 2, 0, 2, 3, 1, 0, 0, 0, 3, 1, 0, 0,\n",
              "       0, 0], dtype=int32)"
            ]
          },
          "metadata": {
            "tags": []
          },
          "execution_count": 43
        }
      ]
    },
    {
      "cell_type": "code",
      "metadata": {
        "id": "PnYVGcWy0Gp8",
        "colab_type": "code",
        "colab": {},
        "outputId": "0db0377e-d008-4765-c4fa-ebd8ea2e0a97"
      },
      "source": [
        "nearby_venues_raleigh['label'] = kmeansR.labels_\n",
        "nearby_venues_raleigh.head()"
      ],
      "execution_count": 0,
      "outputs": [
        {
          "output_type": "execute_result",
          "data": {
            "text/html": [
              "<div>\n",
              "<style scoped>\n",
              "    .dataframe tbody tr th:only-of-type {\n",
              "        vertical-align: middle;\n",
              "    }\n",
              "\n",
              "    .dataframe tbody tr th {\n",
              "        vertical-align: top;\n",
              "    }\n",
              "\n",
              "    .dataframe thead th {\n",
              "        text-align: right;\n",
              "    }\n",
              "</style>\n",
              "<table border=\"1\" class=\"dataframe\">\n",
              "  <thead>\n",
              "    <tr style=\"text-align: right;\">\n",
              "      <th></th>\n",
              "      <th>name</th>\n",
              "      <th>id</th>\n",
              "      <th>categories</th>\n",
              "      <th>lat</th>\n",
              "      <th>lng</th>\n",
              "      <th>total likes</th>\n",
              "      <th>Rating</th>\n",
              "      <th>label</th>\n",
              "    </tr>\n",
              "  </thead>\n",
              "  <tbody>\n",
              "    <tr>\n",
              "      <th>5</th>\n",
              "      <td>Sitti</td>\n",
              "      <td>4ad93789f964a520261921e3</td>\n",
              "      <td>Mediterranean Restaurant</td>\n",
              "      <td>35.778237</td>\n",
              "      <td>-78.638266</td>\n",
              "      <td>231</td>\n",
              "      <td>high rated</td>\n",
              "      <td>0</td>\n",
              "    </tr>\n",
              "    <tr>\n",
              "      <th>7</th>\n",
              "      <td>Centro</td>\n",
              "      <td>4ad90386f964a5201d1721e3</td>\n",
              "      <td>Mexican Restaurant</td>\n",
              "      <td>35.779236</td>\n",
              "      <td>-78.638264</td>\n",
              "      <td>125</td>\n",
              "      <td>high rated</td>\n",
              "      <td>0</td>\n",
              "    </tr>\n",
              "    <tr>\n",
              "      <th>8</th>\n",
              "      <td>Gravy</td>\n",
              "      <td>4a592915f964a520d6b81fe3</td>\n",
              "      <td>Italian Restaurant</td>\n",
              "      <td>35.778482</td>\n",
              "      <td>-78.638143</td>\n",
              "      <td>139</td>\n",
              "      <td>high rated</td>\n",
              "      <td>0</td>\n",
              "    </tr>\n",
              "    <tr>\n",
              "      <th>10</th>\n",
              "      <td>Death &amp; Taxes</td>\n",
              "      <td>54a1adbe498e54b4407ce331</td>\n",
              "      <td>American Restaurant</td>\n",
              "      <td>35.778245</td>\n",
              "      <td>-78.640375</td>\n",
              "      <td>64</td>\n",
              "      <td>above avg rated</td>\n",
              "      <td>3</td>\n",
              "    </tr>\n",
              "    <tr>\n",
              "      <th>14</th>\n",
              "      <td>Bida Manda Laotian Restaurant and Bar</td>\n",
              "      <td>4ee404309911944900b07ad5</td>\n",
              "      <td>Asian Restaurant</td>\n",
              "      <td>35.777227</td>\n",
              "      <td>-78.636812</td>\n",
              "      <td>262</td>\n",
              "      <td>high rated</td>\n",
              "      <td>0</td>\n",
              "    </tr>\n",
              "  </tbody>\n",
              "</table>\n",
              "</div>"
            ],
            "text/plain": [
              "                                     name                        id  \\\n",
              "5                                   Sitti  4ad93789f964a520261921e3   \n",
              "7                                  Centro  4ad90386f964a5201d1721e3   \n",
              "8                                   Gravy  4a592915f964a520d6b81fe3   \n",
              "10                          Death & Taxes  54a1adbe498e54b4407ce331   \n",
              "14  Bida Manda Laotian Restaurant and Bar  4ee404309911944900b07ad5   \n",
              "\n",
              "                  categories        lat        lng  total likes  \\\n",
              "5   Mediterranean Restaurant  35.778237 -78.638266          231   \n",
              "7         Mexican Restaurant  35.779236 -78.638264          125   \n",
              "8         Italian Restaurant  35.778482 -78.638143          139   \n",
              "10       American Restaurant  35.778245 -78.640375           64   \n",
              "14          Asian Restaurant  35.777227 -78.636812          262   \n",
              "\n",
              "             Rating  label  \n",
              "5        high rated      0  \n",
              "7        high rated      0  \n",
              "8        high rated      0  \n",
              "10  above avg rated      3  \n",
              "14       high rated      0  "
            ]
          },
          "metadata": {
            "tags": []
          },
          "execution_count": 44
        }
      ]
    },
    {
      "cell_type": "code",
      "metadata": {
        "scrolled": true,
        "id": "lmxaYbAp0Gp-",
        "colab_type": "code",
        "colab": {},
        "outputId": "f763620b-f142-42d6-f598-4fb5d75e1add"
      },
      "source": [
        "map_clusters2 = folium.Map(location=[latitude_r, longitude_r], zoom_start=11)\n",
        "\n",
        "# set color scheme for the clusters\n",
        "x = np.arange(k_clusters)\n",
        "ys = [i+x+(i*x)**2 for i in range(k_clusters)]\n",
        "colors_array = cm.rainbow(np.linspace(0, 1, len(ys)))\n",
        "rainbow = [colors.rgb2hex(i) for i in colors_array]\n",
        "\n",
        "# add markers to the map\n",
        "markers_colors = []\n",
        "for lat, lon, poi, cluster in zip(nearby_venues_raleigh['lat'], nearby_venues_raleigh['lng'], nearby_venues_raleigh['name'], nearby_venues_raleigh['label']):\n",
        "    label = folium.Popup(str(poi) + ' Cluster ' + str(cluster), parse_html=True)\n",
        "    folium.CircleMarker(\n",
        "        [lat, lon],\n",
        "        radius=5,\n",
        "        popup=label,\n",
        "        color=rainbow[cluster-1],\n",
        "        fill=True,\n",
        "        fill_color=rainbow[cluster-1],\n",
        "        fill_opacity=0.7).add_to(map_clusters2)\n",
        "       \n",
        "map_clusters2\n",
        "#Map for Raleigh"
      ],
      "execution_count": 0,
      "outputs": [
        {
          "output_type": "execute_result",
          "data": {
            "text/html": [
              "<div style=\"width:100%;\"><div style=\"position:relative;width:100%;height:0;padding-bottom:60%;\"><span style=\"color:#565656\">Make this Notebook Trusted to load map: File -> Trust Notebook</span><iframe src=\"about:blank\" style=\"position:absolute;width:100%;height:100%;left:0;top:0;border:none !important;\" data-html=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 onload=\"this.contentDocument.open();this.contentDocument.write(atob(this.getAttribute('data-html')));this.contentDocument.close();\" allowfullscreen webkitallowfullscreen mozallowfullscreen></iframe></div></div>"
            ],
            "text/plain": [
              "<folium.folium.Map at 0x1a1eff19d0>"
            ]
          },
          "metadata": {
            "tags": []
          },
          "execution_count": 45
        }
      ]
    },
    {
      "cell_type": "markdown",
      "metadata": {
        "id": "VeqVTP6v0Gp_",
        "colab_type": "text"
      },
      "source": [
        "Cluster 0 represents high rated restaurants in Raleigh"
      ]
    },
    {
      "cell_type": "code",
      "metadata": {
        "id": "8EIie4Ad0Gp_",
        "colab_type": "code",
        "colab": {},
        "outputId": "31c50ab8-b25b-4447-a520-5192798d8138"
      },
      "source": [
        "nearby_venues_raleigh.loc[ nearby_venues_raleigh['label']==0 ]"
      ],
      "execution_count": 0,
      "outputs": [
        {
          "output_type": "execute_result",
          "data": {
            "text/html": [
              "<div>\n",
              "<style scoped>\n",
              "    .dataframe tbody tr th:only-of-type {\n",
              "        vertical-align: middle;\n",
              "    }\n",
              "\n",
              "    .dataframe tbody tr th {\n",
              "        vertical-align: top;\n",
              "    }\n",
              "\n",
              "    .dataframe thead th {\n",
              "        text-align: right;\n",
              "    }\n",
              "</style>\n",
              "<table border=\"1\" class=\"dataframe\">\n",
              "  <thead>\n",
              "    <tr style=\"text-align: right;\">\n",
              "      <th></th>\n",
              "      <th>name</th>\n",
              "      <th>id</th>\n",
              "      <th>categories</th>\n",
              "      <th>lat</th>\n",
              "      <th>lng</th>\n",
              "      <th>total likes</th>\n",
              "      <th>Rating</th>\n",
              "      <th>label</th>\n",
              "    </tr>\n",
              "  </thead>\n",
              "  <tbody>\n",
              "    <tr>\n",
              "      <th>5</th>\n",
              "      <td>Sitti</td>\n",
              "      <td>4ad93789f964a520261921e3</td>\n",
              "      <td>Mediterranean Restaurant</td>\n",
              "      <td>35.778237</td>\n",
              "      <td>-78.638266</td>\n",
              "      <td>231</td>\n",
              "      <td>high rated</td>\n",
              "      <td>0</td>\n",
              "    </tr>\n",
              "    <tr>\n",
              "      <th>7</th>\n",
              "      <td>Centro</td>\n",
              "      <td>4ad90386f964a5201d1721e3</td>\n",
              "      <td>Mexican Restaurant</td>\n",
              "      <td>35.779236</td>\n",
              "      <td>-78.638264</td>\n",
              "      <td>125</td>\n",
              "      <td>high rated</td>\n",
              "      <td>0</td>\n",
              "    </tr>\n",
              "    <tr>\n",
              "      <th>8</th>\n",
              "      <td>Gravy</td>\n",
              "      <td>4a592915f964a520d6b81fe3</td>\n",
              "      <td>Italian Restaurant</td>\n",
              "      <td>35.778482</td>\n",
              "      <td>-78.638143</td>\n",
              "      <td>139</td>\n",
              "      <td>high rated</td>\n",
              "      <td>0</td>\n",
              "    </tr>\n",
              "    <tr>\n",
              "      <th>14</th>\n",
              "      <td>Bida Manda Laotian Restaurant and Bar</td>\n",
              "      <td>4ee404309911944900b07ad5</td>\n",
              "      <td>Asian Restaurant</td>\n",
              "      <td>35.777227</td>\n",
              "      <td>-78.636812</td>\n",
              "      <td>262</td>\n",
              "      <td>high rated</td>\n",
              "      <td>0</td>\n",
              "    </tr>\n",
              "    <tr>\n",
              "      <th>19</th>\n",
              "      <td>Beasley's Chicken + Honey</td>\n",
              "      <td>4e091acc1f6e21103396e069</td>\n",
              "      <td>Southern / Soul Food Restaurant</td>\n",
              "      <td>35.776968</td>\n",
              "      <td>-78.638175</td>\n",
              "      <td>453</td>\n",
              "      <td>high rated</td>\n",
              "      <td>0</td>\n",
              "    </tr>\n",
              "    <tr>\n",
              "      <th>27</th>\n",
              "      <td>Sono</td>\n",
              "      <td>4ad90968f964a520651721e3</td>\n",
              "      <td>Sushi Restaurant</td>\n",
              "      <td>35.775919</td>\n",
              "      <td>-78.638562</td>\n",
              "      <td>146</td>\n",
              "      <td>high rated</td>\n",
              "      <td>0</td>\n",
              "    </tr>\n",
              "    <tr>\n",
              "      <th>34</th>\n",
              "      <td>Taverna Agora</td>\n",
              "      <td>5577a05f498e75efda31c6a9</td>\n",
              "      <td>Greek Restaurant</td>\n",
              "      <td>35.780776</td>\n",
              "      <td>-78.644406</td>\n",
              "      <td>93</td>\n",
              "      <td>high rated</td>\n",
              "      <td>0</td>\n",
              "    </tr>\n",
              "    <tr>\n",
              "      <th>54</th>\n",
              "      <td>Oak City Meatball Shoppe</td>\n",
              "      <td>516798e0e4b0cda68217b5ed</td>\n",
              "      <td>Italian Restaurant</td>\n",
              "      <td>35.775520</td>\n",
              "      <td>-78.637234</td>\n",
              "      <td>126</td>\n",
              "      <td>high rated</td>\n",
              "      <td>0</td>\n",
              "    </tr>\n",
              "    <tr>\n",
              "      <th>55</th>\n",
              "      <td>Whiskey Kitchen</td>\n",
              "      <td>57a7bf38498ea30d9431bde1</td>\n",
              "      <td>Southern / Soul Food Restaurant</td>\n",
              "      <td>35.776861</td>\n",
              "      <td>-78.642111</td>\n",
              "      <td>89</td>\n",
              "      <td>high rated</td>\n",
              "      <td>0</td>\n",
              "    </tr>\n",
              "    <tr>\n",
              "      <th>56</th>\n",
              "      <td>42nd St Oyster Bar</td>\n",
              "      <td>4ae6edcaf964a5208ea721e3</td>\n",
              "      <td>Seafood Restaurant</td>\n",
              "      <td>35.782864</td>\n",
              "      <td>-78.646165</td>\n",
              "      <td>202</td>\n",
              "      <td>high rated</td>\n",
              "      <td>0</td>\n",
              "    </tr>\n",
              "    <tr>\n",
              "      <th>74</th>\n",
              "      <td>Fiction Kitchen</td>\n",
              "      <td>50a5647be4b079eb079361fa</td>\n",
              "      <td>Vegetarian / Vegan Restaurant</td>\n",
              "      <td>35.774581</td>\n",
              "      <td>-78.643745</td>\n",
              "      <td>123</td>\n",
              "      <td>high rated</td>\n",
              "      <td>0</td>\n",
              "    </tr>\n",
              "    <tr>\n",
              "      <th>77</th>\n",
              "      <td>José and Sons</td>\n",
              "      <td>52251fd611d21c8d037f3127</td>\n",
              "      <td>Mexican Restaurant</td>\n",
              "      <td>35.775410</td>\n",
              "      <td>-78.644782</td>\n",
              "      <td>149</td>\n",
              "      <td>high rated</td>\n",
              "      <td>0</td>\n",
              "    </tr>\n",
              "    <tr>\n",
              "      <th>93</th>\n",
              "      <td>Five Star Restaurant</td>\n",
              "      <td>4ad4c008f964a520c4ec20e3</td>\n",
              "      <td>Asian Restaurant</td>\n",
              "      <td>35.778525</td>\n",
              "      <td>-78.646640</td>\n",
              "      <td>123</td>\n",
              "      <td>high rated</td>\n",
              "      <td>0</td>\n",
              "    </tr>\n",
              "    <tr>\n",
              "      <th>99</th>\n",
              "      <td>Humble Pie</td>\n",
              "      <td>4ae0fa5df964a5203f8421e3</td>\n",
              "      <td>Tapas Restaurant</td>\n",
              "      <td>35.776369</td>\n",
              "      <td>-78.644994</td>\n",
              "      <td>87</td>\n",
              "      <td>high rated</td>\n",
              "      <td>0</td>\n",
              "    </tr>\n",
              "  </tbody>\n",
              "</table>\n",
              "</div>"
            ],
            "text/plain": [
              "                                     name                        id  \\\n",
              "5                                   Sitti  4ad93789f964a520261921e3   \n",
              "7                                  Centro  4ad90386f964a5201d1721e3   \n",
              "8                                   Gravy  4a592915f964a520d6b81fe3   \n",
              "14  Bida Manda Laotian Restaurant and Bar  4ee404309911944900b07ad5   \n",
              "19              Beasley's Chicken + Honey  4e091acc1f6e21103396e069   \n",
              "27                                   Sono  4ad90968f964a520651721e3   \n",
              "34                          Taverna Agora  5577a05f498e75efda31c6a9   \n",
              "54               Oak City Meatball Shoppe  516798e0e4b0cda68217b5ed   \n",
              "55                        Whiskey Kitchen  57a7bf38498ea30d9431bde1   \n",
              "56                     42nd St Oyster Bar  4ae6edcaf964a5208ea721e3   \n",
              "74                        Fiction Kitchen  50a5647be4b079eb079361fa   \n",
              "77                          José and Sons  52251fd611d21c8d037f3127   \n",
              "93                   Five Star Restaurant  4ad4c008f964a520c4ec20e3   \n",
              "99                             Humble Pie  4ae0fa5df964a5203f8421e3   \n",
              "\n",
              "                         categories        lat        lng  total likes  \\\n",
              "5          Mediterranean Restaurant  35.778237 -78.638266          231   \n",
              "7                Mexican Restaurant  35.779236 -78.638264          125   \n",
              "8                Italian Restaurant  35.778482 -78.638143          139   \n",
              "14                 Asian Restaurant  35.777227 -78.636812          262   \n",
              "19  Southern / Soul Food Restaurant  35.776968 -78.638175          453   \n",
              "27                 Sushi Restaurant  35.775919 -78.638562          146   \n",
              "34                 Greek Restaurant  35.780776 -78.644406           93   \n",
              "54               Italian Restaurant  35.775520 -78.637234          126   \n",
              "55  Southern / Soul Food Restaurant  35.776861 -78.642111           89   \n",
              "56               Seafood Restaurant  35.782864 -78.646165          202   \n",
              "74    Vegetarian / Vegan Restaurant  35.774581 -78.643745          123   \n",
              "77               Mexican Restaurant  35.775410 -78.644782          149   \n",
              "93                 Asian Restaurant  35.778525 -78.646640          123   \n",
              "99                 Tapas Restaurant  35.776369 -78.644994           87   \n",
              "\n",
              "        Rating  label  \n",
              "5   high rated      0  \n",
              "7   high rated      0  \n",
              "8   high rated      0  \n",
              "14  high rated      0  \n",
              "19  high rated      0  \n",
              "27  high rated      0  \n",
              "34  high rated      0  \n",
              "54  high rated      0  \n",
              "55  high rated      0  \n",
              "56  high rated      0  \n",
              "74  high rated      0  \n",
              "77  high rated      0  \n",
              "93  high rated      0  \n",
              "99  high rated      0  "
            ]
          },
          "metadata": {
            "tags": []
          },
          "execution_count": 46
        }
      ]
    },
    {
      "cell_type": "markdown",
      "metadata": {
        "id": "lneKz7x40GqB",
        "colab_type": "text"
      },
      "source": [
        "Cluster 1 represents above average rated restaurants in Raleigh"
      ]
    },
    {
      "cell_type": "code",
      "metadata": {
        "id": "W6jeXIHn0GqB",
        "colab_type": "code",
        "colab": {},
        "outputId": "f2f3a221-3519-4e12-c75f-829b599a9b38"
      },
      "source": [
        "nearby_venues_raleigh.loc[ nearby_venues_raleigh['label']==1 ]"
      ],
      "execution_count": 0,
      "outputs": [
        {
          "output_type": "execute_result",
          "data": {
            "text/html": [
              "<div>\n",
              "<style scoped>\n",
              "    .dataframe tbody tr th:only-of-type {\n",
              "        vertical-align: middle;\n",
              "    }\n",
              "\n",
              "    .dataframe tbody tr th {\n",
              "        vertical-align: top;\n",
              "    }\n",
              "\n",
              "    .dataframe thead th {\n",
              "        text-align: right;\n",
              "    }\n",
              "</style>\n",
              "<table border=\"1\" class=\"dataframe\">\n",
              "  <thead>\n",
              "    <tr style=\"text-align: right;\">\n",
              "      <th></th>\n",
              "      <th>name</th>\n",
              "      <th>id</th>\n",
              "      <th>categories</th>\n",
              "      <th>lat</th>\n",
              "      <th>lng</th>\n",
              "      <th>total likes</th>\n",
              "      <th>Rating</th>\n",
              "      <th>label</th>\n",
              "    </tr>\n",
              "  </thead>\n",
              "  <tbody>\n",
              "    <tr>\n",
              "      <th>23</th>\n",
              "      <td>Trophy Tap &amp; Table</td>\n",
              "      <td>588663ddd60c8b2e0e1b1527</td>\n",
              "      <td>American Restaurant</td>\n",
              "      <td>35.777417</td>\n",
              "      <td>-78.638184</td>\n",
              "      <td>46</td>\n",
              "      <td>below avg rated</td>\n",
              "      <td>1</td>\n",
              "    </tr>\n",
              "    <tr>\n",
              "      <th>32</th>\n",
              "      <td>St. Roch Fine Oysters + Bar</td>\n",
              "      <td>590a66230f013c70e0a0c5f1</td>\n",
              "      <td>Seafood Restaurant</td>\n",
              "      <td>35.777494</td>\n",
              "      <td>-78.638153</td>\n",
              "      <td>16</td>\n",
              "      <td>poor rated</td>\n",
              "      <td>1</td>\n",
              "    </tr>\n",
              "    <tr>\n",
              "      <th>46</th>\n",
              "      <td>The District</td>\n",
              "      <td>57f2d3e8498e33363fc556f5</td>\n",
              "      <td>American Restaurant</td>\n",
              "      <td>35.779788</td>\n",
              "      <td>-78.643572</td>\n",
              "      <td>23</td>\n",
              "      <td>poor rated</td>\n",
              "      <td>1</td>\n",
              "    </tr>\n",
              "    <tr>\n",
              "      <th>65</th>\n",
              "      <td>Mofu Shoppe</td>\n",
              "      <td>5916326a396de017a362ff17</td>\n",
              "      <td>Korean Restaurant</td>\n",
              "      <td>35.775916</td>\n",
              "      <td>-78.636603</td>\n",
              "      <td>22</td>\n",
              "      <td>poor rated</td>\n",
              "      <td>1</td>\n",
              "    </tr>\n",
              "  </tbody>\n",
              "</table>\n",
              "</div>"
            ],
            "text/plain": [
              "                           name                        id  \\\n",
              "23           Trophy Tap & Table  588663ddd60c8b2e0e1b1527   \n",
              "32  St. Roch Fine Oysters + Bar  590a66230f013c70e0a0c5f1   \n",
              "46                 The District  57f2d3e8498e33363fc556f5   \n",
              "65                  Mofu Shoppe  5916326a396de017a362ff17   \n",
              "\n",
              "             categories        lat        lng  total likes           Rating  \\\n",
              "23  American Restaurant  35.777417 -78.638184           46  below avg rated   \n",
              "32   Seafood Restaurant  35.777494 -78.638153           16       poor rated   \n",
              "46  American Restaurant  35.779788 -78.643572           23       poor rated   \n",
              "65    Korean Restaurant  35.775916 -78.636603           22       poor rated   \n",
              "\n",
              "    label  \n",
              "23      1  \n",
              "32      1  \n",
              "46      1  \n",
              "65      1  "
            ]
          },
          "metadata": {
            "tags": []
          },
          "execution_count": 47
        }
      ]
    },
    {
      "cell_type": "markdown",
      "metadata": {
        "id": "4mSY9z010GqC",
        "colab_type": "text"
      },
      "source": [
        "Cluster 2 represents below average rated restaurants in Raleigh"
      ]
    },
    {
      "cell_type": "code",
      "metadata": {
        "id": "ZKBacfim0GqD",
        "colab_type": "code",
        "colab": {},
        "outputId": "e6902d18-e945-499e-fa0b-ffe3612f1b5c"
      },
      "source": [
        "nearby_venues_raleigh.loc[ nearby_venues_raleigh['label']==2 ]"
      ],
      "execution_count": 0,
      "outputs": [
        {
          "output_type": "execute_result",
          "data": {
            "text/html": [
              "<div>\n",
              "<style scoped>\n",
              "    .dataframe tbody tr th:only-of-type {\n",
              "        vertical-align: middle;\n",
              "    }\n",
              "\n",
              "    .dataframe tbody tr th {\n",
              "        vertical-align: top;\n",
              "    }\n",
              "\n",
              "    .dataframe thead th {\n",
              "        text-align: right;\n",
              "    }\n",
              "</style>\n",
              "<table border=\"1\" class=\"dataframe\">\n",
              "  <thead>\n",
              "    <tr style=\"text-align: right;\">\n",
              "      <th></th>\n",
              "      <th>name</th>\n",
              "      <th>id</th>\n",
              "      <th>categories</th>\n",
              "      <th>lat</th>\n",
              "      <th>lng</th>\n",
              "      <th>total likes</th>\n",
              "      <th>Rating</th>\n",
              "      <th>label</th>\n",
              "    </tr>\n",
              "  </thead>\n",
              "  <tbody>\n",
              "    <tr>\n",
              "      <th>33</th>\n",
              "      <td>City Market Sushi</td>\n",
              "      <td>58581f96076be1032aaa07f4</td>\n",
              "      <td>Sushi Restaurant</td>\n",
              "      <td>35.776276</td>\n",
              "      <td>-78.635776</td>\n",
              "      <td>31</td>\n",
              "      <td>below avg rated</td>\n",
              "      <td>2</td>\n",
              "    </tr>\n",
              "    <tr>\n",
              "      <th>36</th>\n",
              "      <td>Gringo A Go Go</td>\n",
              "      <td>527e482c498e9cdc1c97aefc</td>\n",
              "      <td>Mexican Restaurant</td>\n",
              "      <td>35.781287</td>\n",
              "      <td>-78.634479</td>\n",
              "      <td>39</td>\n",
              "      <td>below avg rated</td>\n",
              "      <td>2</td>\n",
              "    </tr>\n",
              "  </tbody>\n",
              "</table>\n",
              "</div>"
            ],
            "text/plain": [
              "                 name                        id          categories  \\\n",
              "33  City Market Sushi  58581f96076be1032aaa07f4    Sushi Restaurant   \n",
              "36     Gringo A Go Go  527e482c498e9cdc1c97aefc  Mexican Restaurant   \n",
              "\n",
              "          lat        lng  total likes           Rating  label  \n",
              "33  35.776276 -78.635776           31  below avg rated      2  \n",
              "36  35.781287 -78.634479           39  below avg rated      2  "
            ]
          },
          "metadata": {
            "tags": []
          },
          "execution_count": 48
        }
      ]
    },
    {
      "cell_type": "markdown",
      "metadata": {
        "id": "uh1zUoQt0GqE",
        "colab_type": "text"
      },
      "source": [
        "Cluster 3 represents poor rated restaurants in Raleigh"
      ]
    },
    {
      "cell_type": "code",
      "metadata": {
        "id": "IhV2scUk0GqE",
        "colab_type": "code",
        "colab": {},
        "outputId": "4adcca6d-830e-469c-d7f8-4e5d22dc01ca"
      },
      "source": [
        "nearby_venues_raleigh.loc[ nearby_venues_raleigh['label']==3 ]"
      ],
      "execution_count": 0,
      "outputs": [
        {
          "output_type": "execute_result",
          "data": {
            "text/html": [
              "<div>\n",
              "<style scoped>\n",
              "    .dataframe tbody tr th:only-of-type {\n",
              "        vertical-align: middle;\n",
              "    }\n",
              "\n",
              "    .dataframe tbody tr th {\n",
              "        vertical-align: top;\n",
              "    }\n",
              "\n",
              "    .dataframe thead th {\n",
              "        text-align: right;\n",
              "    }\n",
              "</style>\n",
              "<table border=\"1\" class=\"dataframe\">\n",
              "  <thead>\n",
              "    <tr style=\"text-align: right;\">\n",
              "      <th></th>\n",
              "      <th>name</th>\n",
              "      <th>id</th>\n",
              "      <th>categories</th>\n",
              "      <th>lat</th>\n",
              "      <th>lng</th>\n",
              "      <th>total likes</th>\n",
              "      <th>Rating</th>\n",
              "      <th>label</th>\n",
              "    </tr>\n",
              "  </thead>\n",
              "  <tbody>\n",
              "    <tr>\n",
              "      <th>10</th>\n",
              "      <td>Death &amp; Taxes</td>\n",
              "      <td>54a1adbe498e54b4407ce331</td>\n",
              "      <td>American Restaurant</td>\n",
              "      <td>35.778245</td>\n",
              "      <td>-78.640375</td>\n",
              "      <td>64</td>\n",
              "      <td>above avg rated</td>\n",
              "      <td>3</td>\n",
              "    </tr>\n",
              "    <tr>\n",
              "      <th>29</th>\n",
              "      <td>Garland</td>\n",
              "      <td>51940a5d498e9111bc706456</td>\n",
              "      <td>Asian Restaurant</td>\n",
              "      <td>35.776947</td>\n",
              "      <td>-78.639887</td>\n",
              "      <td>64</td>\n",
              "      <td>above avg rated</td>\n",
              "      <td>3</td>\n",
              "    </tr>\n",
              "    <tr>\n",
              "      <th>45</th>\n",
              "      <td>Second Empire Restaurant &amp; Tavern</td>\n",
              "      <td>4aeb2a4cf964a52033bf21e3</td>\n",
              "      <td>American Restaurant</td>\n",
              "      <td>35.781020</td>\n",
              "      <td>-78.644680</td>\n",
              "      <td>54</td>\n",
              "      <td>above avg rated</td>\n",
              "      <td>3</td>\n",
              "    </tr>\n",
              "    <tr>\n",
              "      <th>60</th>\n",
              "      <td>Caffé Luna</td>\n",
              "      <td>4ad9fa9af964a520ab1c21e3</td>\n",
              "      <td>Italian Restaurant</td>\n",
              "      <td>35.778086</td>\n",
              "      <td>-78.636749</td>\n",
              "      <td>55</td>\n",
              "      <td>above avg rated</td>\n",
              "      <td>3</td>\n",
              "    </tr>\n",
              "  </tbody>\n",
              "</table>\n",
              "</div>"
            ],
            "text/plain": [
              "                                 name                        id  \\\n",
              "10                      Death & Taxes  54a1adbe498e54b4407ce331   \n",
              "29                            Garland  51940a5d498e9111bc706456   \n",
              "45  Second Empire Restaurant & Tavern  4aeb2a4cf964a52033bf21e3   \n",
              "60                         Caffé Luna  4ad9fa9af964a520ab1c21e3   \n",
              "\n",
              "             categories        lat        lng  total likes           Rating  \\\n",
              "10  American Restaurant  35.778245 -78.640375           64  above avg rated   \n",
              "29     Asian Restaurant  35.776947 -78.639887           64  above avg rated   \n",
              "45  American Restaurant  35.781020 -78.644680           54  above avg rated   \n",
              "60   Italian Restaurant  35.778086 -78.636749           55  above avg rated   \n",
              "\n",
              "    label  \n",
              "10      3  \n",
              "29      3  \n",
              "45      3  \n",
              "60      3  "
            ]
          },
          "metadata": {
            "tags": []
          },
          "execution_count": 49
        }
      ]
    },
    {
      "cell_type": "markdown",
      "metadata": {
        "id": "bXI2r9oh0GqG",
        "colab_type": "text"
      },
      "source": [
        "# Enriching Data with Yelp Reviews by procession JSON file"
      ]
    },
    {
      "cell_type": "code",
      "metadata": {
        "id": "JHhmpXXA0GqH",
        "colab_type": "code",
        "colab": {},
        "outputId": "1f1a79ad-1e65-4981-ff76-0ffae7b963c9"
      },
      "source": [
        "import gc\n",
        "from collections import Counter # for counting commong words\n",
        "plt.style.use('fivethirtyeight') # use ggplot ploting style\n",
        "import seaborn as sns # visualization \n",
        "from wordcloud import WordCloud, STOPWORDS # this module is for making wordcloud in python\n",
        "import re # regular expression\n",
        "import string # for finding punctuation in text\n",
        "import nltk # preprocessing text\n",
        "from textblob import TextBlob\n",
        "import plotly\n",
        "import plotly.offline as py # make offline \n",
        "py.init_notebook_mode(connected=True)\n",
        "import plotly.tools as tls\n",
        "import plotly.graph_objs as go\n",
        "from plotly.graph_objs import *\n",
        "import plotly.tools as tls\n",
        "import plotly.figure_factory as fig_fact\n",
        "# remove war\n",
        "import warnings\n",
        "warnings.filterwarnings('ignore')\n",
        "# this will allow ploting inside the notebook\n",
        "%matplotlib inline\n",
        "import numpy as np\n",
        "import pandas as pd\n",
        "import os\n",
        "import json\n",
        "import matplotlib as mpl\n",
        "import seaborn as sns\n",
        "import missingno as msno\n",
        "from sklearn.decomposition import PCA\n",
        "inline_rc = dict(mpl.rcParams)"
      ],
      "execution_count": 0,
      "outputs": [
        {
          "output_type": "display_data",
          "data": {
            "text/html": [
              "        <script type=\"text/javascript\">\n",
              "        window.PlotlyConfig = {MathJaxConfig: 'local'};\n",
              "        if (window.MathJax) {MathJax.Hub.Config({SVG: {font: \"STIX-Web\"}});}\n",
              "        if (typeof require !== 'undefined') {\n",
              "        require.undef(\"plotly\");\n",
              "        requirejs.config({\n",
              "            paths: {\n",
              "                'plotly': ['https://cdn.plot.ly/plotly-latest.min']\n",
              "            }\n",
              "        });\n",
              "        require(['plotly'], function(Plotly) {\n",
              "            window._Plotly = Plotly;\n",
              "        });\n",
              "        }\n",
              "        </script>\n",
              "        "
            ]
          },
          "metadata": {
            "tags": []
          }
        }
      ]
    },
    {
      "cell_type": "code",
      "metadata": {
        "id": "uVGRqBFw0GqI",
        "colab_type": "code",
        "colab": {},
        "outputId": "a9253a85-3d84-4f5b-b59a-63357ef8ace4"
      },
      "source": [
        "print(os.listdir(\"/Users/yashbajoria/Downloads/yelp-dataset\"))"
      ],
      "execution_count": 0,
      "outputs": [
        {
          "output_type": "stream",
          "text": [
            "['yelp_academic_dataset_checkin.json', 'yelp_academic_dataset_tip.json', 'Dataset_Agreement.pdf', 'yelp_academic_dataset_review.json', 'yelp_academic_dataset_business.json', 'yelp_academic_dataset_user.json']\n"
          ],
          "name": "stdout"
        }
      ]
    },
    {
      "cell_type": "markdown",
      "metadata": {
        "id": "jRJ_-kwm0GqJ",
        "colab_type": "text"
      },
      "source": [
        "## Reading Data"
      ]
    },
    {
      "cell_type": "code",
      "metadata": {
        "id": "T4RLAZDE0GqK",
        "colab_type": "code",
        "colab": {},
        "outputId": "16bb172e-a0c1-4f22-974a-0adb4d497335"
      },
      "source": [
        "\n",
        "users = []\n",
        "with open('/Users/yashbajoria/Downloads/yelp-dataset/yelp_academic_dataset_business.json') as fl:\n",
        "    for i, line in enumerate(fl):\n",
        "        users.append(json.loads(line))\n",
        "        \n",
        "df = pd.DataFrame(users)\n",
        "df.head()"
      ],
      "execution_count": 0,
      "outputs": [
        {
          "output_type": "execute_result",
          "data": {
            "text/html": [
              "<div>\n",
              "<style scoped>\n",
              "    .dataframe tbody tr th:only-of-type {\n",
              "        vertical-align: middle;\n",
              "    }\n",
              "\n",
              "    .dataframe tbody tr th {\n",
              "        vertical-align: top;\n",
              "    }\n",
              "\n",
              "    .dataframe thead th {\n",
              "        text-align: right;\n",
              "    }\n",
              "</style>\n",
              "<table border=\"1\" class=\"dataframe\">\n",
              "  <thead>\n",
              "    <tr style=\"text-align: right;\">\n",
              "      <th></th>\n",
              "      <th>business_id</th>\n",
              "      <th>name</th>\n",
              "      <th>address</th>\n",
              "      <th>city</th>\n",
              "      <th>state</th>\n",
              "      <th>postal_code</th>\n",
              "      <th>latitude</th>\n",
              "      <th>longitude</th>\n",
              "      <th>stars</th>\n",
              "      <th>review_count</th>\n",
              "      <th>is_open</th>\n",
              "      <th>attributes</th>\n",
              "      <th>categories</th>\n",
              "      <th>hours</th>\n",
              "    </tr>\n",
              "  </thead>\n",
              "  <tbody>\n",
              "    <tr>\n",
              "      <th>0</th>\n",
              "      <td>f9NumwFMBDn751xgFiRbNA</td>\n",
              "      <td>The Range At Lake Norman</td>\n",
              "      <td>10913 Bailey Rd</td>\n",
              "      <td>Cornelius</td>\n",
              "      <td>NC</td>\n",
              "      <td>28031</td>\n",
              "      <td>35.462724</td>\n",
              "      <td>-80.852612</td>\n",
              "      <td>3.5</td>\n",
              "      <td>36</td>\n",
              "      <td>1</td>\n",
              "      <td>{'BusinessAcceptsCreditCards': 'True', 'BikePa...</td>\n",
              "      <td>Active Life, Gun/Rifle Ranges, Guns &amp; Ammo, Sh...</td>\n",
              "      <td>{'Monday': '10:0-18:0', 'Tuesday': '11:0-20:0'...</td>\n",
              "    </tr>\n",
              "    <tr>\n",
              "      <th>1</th>\n",
              "      <td>Yzvjg0SayhoZgCljUJRF9Q</td>\n",
              "      <td>Carlos Santo, NMD</td>\n",
              "      <td>8880 E Via Linda, Ste 107</td>\n",
              "      <td>Scottsdale</td>\n",
              "      <td>AZ</td>\n",
              "      <td>85258</td>\n",
              "      <td>33.569404</td>\n",
              "      <td>-111.890264</td>\n",
              "      <td>5.0</td>\n",
              "      <td>4</td>\n",
              "      <td>1</td>\n",
              "      <td>{'GoodForKids': 'True', 'ByAppointmentOnly': '...</td>\n",
              "      <td>Health &amp; Medical, Fitness &amp; Instruction, Yoga,...</td>\n",
              "      <td>None</td>\n",
              "    </tr>\n",
              "    <tr>\n",
              "      <th>2</th>\n",
              "      <td>XNoUzKckATkOD1hP6vghZg</td>\n",
              "      <td>Felinus</td>\n",
              "      <td>3554 Rue Notre-Dame O</td>\n",
              "      <td>Montreal</td>\n",
              "      <td>QC</td>\n",
              "      <td>H4C 1P4</td>\n",
              "      <td>45.479984</td>\n",
              "      <td>-73.580070</td>\n",
              "      <td>5.0</td>\n",
              "      <td>5</td>\n",
              "      <td>1</td>\n",
              "      <td>None</td>\n",
              "      <td>Pets, Pet Services, Pet Groomers</td>\n",
              "      <td>None</td>\n",
              "    </tr>\n",
              "    <tr>\n",
              "      <th>3</th>\n",
              "      <td>6OAZjbxqM5ol29BuHsil3w</td>\n",
              "      <td>Nevada House of Hose</td>\n",
              "      <td>1015 Sharp Cir</td>\n",
              "      <td>North Las Vegas</td>\n",
              "      <td>NV</td>\n",
              "      <td>89030</td>\n",
              "      <td>36.219728</td>\n",
              "      <td>-115.127725</td>\n",
              "      <td>2.5</td>\n",
              "      <td>3</td>\n",
              "      <td>0</td>\n",
              "      <td>{'BusinessAcceptsCreditCards': 'True', 'ByAppo...</td>\n",
              "      <td>Hardware Stores, Home Services, Building Suppl...</td>\n",
              "      <td>{'Monday': '7:0-16:0', 'Tuesday': '7:0-16:0', ...</td>\n",
              "    </tr>\n",
              "    <tr>\n",
              "      <th>4</th>\n",
              "      <td>51M2Kk903DFYI6gnB5I6SQ</td>\n",
              "      <td>USE MY GUY SERVICES LLC</td>\n",
              "      <td>4827 E Downing Cir</td>\n",
              "      <td>Mesa</td>\n",
              "      <td>AZ</td>\n",
              "      <td>85205</td>\n",
              "      <td>33.428065</td>\n",
              "      <td>-111.726648</td>\n",
              "      <td>4.5</td>\n",
              "      <td>26</td>\n",
              "      <td>1</td>\n",
              "      <td>{'BusinessAcceptsCreditCards': 'True', 'ByAppo...</td>\n",
              "      <td>Home Services, Plumbing, Electricians, Handyma...</td>\n",
              "      <td>{'Monday': '0:0-0:0', 'Tuesday': '9:0-16:0', '...</td>\n",
              "    </tr>\n",
              "  </tbody>\n",
              "</table>\n",
              "</div>"
            ],
            "text/plain": [
              "              business_id                      name  \\\n",
              "0  f9NumwFMBDn751xgFiRbNA  The Range At Lake Norman   \n",
              "1  Yzvjg0SayhoZgCljUJRF9Q         Carlos Santo, NMD   \n",
              "2  XNoUzKckATkOD1hP6vghZg                   Felinus   \n",
              "3  6OAZjbxqM5ol29BuHsil3w      Nevada House of Hose   \n",
              "4  51M2Kk903DFYI6gnB5I6SQ   USE MY GUY SERVICES LLC   \n",
              "\n",
              "                     address             city state postal_code   latitude  \\\n",
              "0            10913 Bailey Rd        Cornelius    NC       28031  35.462724   \n",
              "1  8880 E Via Linda, Ste 107       Scottsdale    AZ       85258  33.569404   \n",
              "2      3554 Rue Notre-Dame O         Montreal    QC     H4C 1P4  45.479984   \n",
              "3             1015 Sharp Cir  North Las Vegas    NV       89030  36.219728   \n",
              "4         4827 E Downing Cir             Mesa    AZ       85205  33.428065   \n",
              "\n",
              "    longitude  stars  review_count  is_open  \\\n",
              "0  -80.852612    3.5            36        1   \n",
              "1 -111.890264    5.0             4        1   \n",
              "2  -73.580070    5.0             5        1   \n",
              "3 -115.127725    2.5             3        0   \n",
              "4 -111.726648    4.5            26        1   \n",
              "\n",
              "                                          attributes  \\\n",
              "0  {'BusinessAcceptsCreditCards': 'True', 'BikePa...   \n",
              "1  {'GoodForKids': 'True', 'ByAppointmentOnly': '...   \n",
              "2                                               None   \n",
              "3  {'BusinessAcceptsCreditCards': 'True', 'ByAppo...   \n",
              "4  {'BusinessAcceptsCreditCards': 'True', 'ByAppo...   \n",
              "\n",
              "                                          categories  \\\n",
              "0  Active Life, Gun/Rifle Ranges, Guns & Ammo, Sh...   \n",
              "1  Health & Medical, Fitness & Instruction, Yoga,...   \n",
              "2                   Pets, Pet Services, Pet Groomers   \n",
              "3  Hardware Stores, Home Services, Building Suppl...   \n",
              "4  Home Services, Plumbing, Electricians, Handyma...   \n",
              "\n",
              "                                               hours  \n",
              "0  {'Monday': '10:0-18:0', 'Tuesday': '11:0-20:0'...  \n",
              "1                                               None  \n",
              "2                                               None  \n",
              "3  {'Monday': '7:0-16:0', 'Tuesday': '7:0-16:0', ...  \n",
              "4  {'Monday': '0:0-0:0', 'Tuesday': '9:0-16:0', '...  "
            ]
          },
          "metadata": {
            "tags": []
          },
          "execution_count": 52
        }
      ]
    },
    {
      "cell_type": "markdown",
      "metadata": {
        "id": "1Q-ZIEl60GqL",
        "colab_type": "text"
      },
      "source": [
        "## Visualizing top business categories in the dataframe"
      ]
    },
    {
      "cell_type": "code",
      "metadata": {
        "id": "mFcr3Mdo0GqL",
        "colab_type": "code",
        "colab": {},
        "outputId": "954916d9-f732-4b00-a8ab-89ae061f411e"
      },
      "source": [
        "business_categories = ''.join(df['categories'].astype('str'))\n",
        "\n",
        "cats=pd.DataFrame(business_categories.split(','),columns=['categories'])\n",
        "\n",
        "#prep for chart\n",
        "x=cats.categories.value_counts()\n",
        "\n",
        "x=x.sort_values(ascending=False)\n",
        "x=x.iloc[0:20]\n",
        "\n",
        "#chart\n",
        "plt.figure(figsize=(16,4))\n",
        "ax = sns.barplot(x.index, x.values, alpha=0.8)\n",
        "plt.title(\"The Top Categories\",fontsize=25)\n",
        "locs, labels = plt.xticks()\n",
        "plt.setp(labels, rotation=80)\n",
        "plt.ylabel('businesses', fontsize=12)\n",
        "plt.xlabel('Category', fontsize=12)\n",
        "\n",
        "#adding the text labels\n",
        "rects = ax.patches\n",
        "labels = x.values\n",
        "for rect, label in zip(rects, labels):\n",
        "    height = rect.get_height()\n",
        "    ax.text(rect.get_x() + rect.get_width()/2, height + 5, label, ha='center', va='bottom')\n",
        "\n",
        "plt.show()"
      ],
      "execution_count": 0,
      "outputs": [
        {
          "output_type": "display_data",
          "data": {
            "image/png": "[encoded data removed]",
            "text/plain": [
              "<Figure size 1152x288 with 1 Axes>"
            ]
          },
          "metadata": {
            "tags": [],
            "needs_background": "light"
          }
        }
      ]
    },
    {
      "cell_type": "markdown",
      "metadata": {
        "id": "RetsVGWd0GqM",
        "colab_type": "text"
      },
      "source": [
        "## Filtering data to extract restaurants related data only "
      ]
    },
    {
      "cell_type": "code",
      "metadata": {
        "id": "9Kfr_kaM0GqM",
        "colab_type": "code",
        "colab": {}
      },
      "source": [
        "food_cat= ['Restaurants', 'Food','Bars','Sandwiches','Coffee&Tea','Fast Food']\n",
        "restaurants = df[df['categories'].isin(food_cat)]"
      ],
      "execution_count": 0,
      "outputs": []
    },
    {
      "cell_type": "markdown",
      "metadata": {
        "id": "aYLbTIfL0GqN",
        "colab_type": "text"
      },
      "source": [
        "## Filtering data to extract data of North Carolina State then specifically Charlotte"
      ]
    },
    {
      "cell_type": "code",
      "metadata": {
        "id": "svomqcGx0GqN",
        "colab_type": "code",
        "colab": {},
        "outputId": "9be4d1d2-78c2-42f3-ab69-251d2d546184"
      },
      "source": [
        "restaurants_nc= restaurants[restaurants['state']=='NC']\n",
        "restaurants_char= restaurants_nc[restaurants_nc['city']=='Charlotte']\n",
        "colname= ['business_id','name','latitude','longitude','stars','review_count','categories']\n",
        "restaurants_char=restaurants_char.filter(colname)\n",
        "restaurants_char"
      ],
      "execution_count": 0,
      "outputs": [
        {
          "output_type": "execute_result",
          "data": {
            "text/html": [
              "<div>\n",
              "<style scoped>\n",
              "    .dataframe tbody tr th:only-of-type {\n",
              "        vertical-align: middle;\n",
              "    }\n",
              "\n",
              "    .dataframe tbody tr th {\n",
              "        vertical-align: top;\n",
              "    }\n",
              "\n",
              "    .dataframe thead th {\n",
              "        text-align: right;\n",
              "    }\n",
              "</style>\n",
              "<table border=\"1\" class=\"dataframe\">\n",
              "  <thead>\n",
              "    <tr style=\"text-align: right;\">\n",
              "      <th></th>\n",
              "      <th>business_id</th>\n",
              "      <th>name</th>\n",
              "      <th>latitude</th>\n",
              "      <th>longitude</th>\n",
              "      <th>stars</th>\n",
              "      <th>review_count</th>\n",
              "      <th>categories</th>\n",
              "    </tr>\n",
              "  </thead>\n",
              "  <tbody>\n",
              "    <tr>\n",
              "      <th>11623</th>\n",
              "      <td>iDdDQDyvjYJ-YxeUjBMFsg</td>\n",
              "      <td>City Tavern</td>\n",
              "      <td>35.199979</td>\n",
              "      <td>-80.842334</td>\n",
              "      <td>3.5</td>\n",
              "      <td>4</td>\n",
              "      <td>Restaurants</td>\n",
              "    </tr>\n",
              "    <tr>\n",
              "      <th>12245</th>\n",
              "      <td>jGC-7KSSr4a6kceTehcSpA</td>\n",
              "      <td>SouthEast Crab Feast</td>\n",
              "      <td>35.150282</td>\n",
              "      <td>-80.850352</td>\n",
              "      <td>2.0</td>\n",
              "      <td>12</td>\n",
              "      <td>Food</td>\n",
              "    </tr>\n",
              "    <tr>\n",
              "      <th>34031</th>\n",
              "      <td>xxJMwfmcRFdQXbJJetntlw</td>\n",
              "      <td>Sub Station II</td>\n",
              "      <td>35.135719</td>\n",
              "      <td>-80.878744</td>\n",
              "      <td>3.5</td>\n",
              "      <td>3</td>\n",
              "      <td>Restaurants</td>\n",
              "    </tr>\n",
              "    <tr>\n",
              "      <th>77077</th>\n",
              "      <td>LAswzVTnT3uCvnKr-SwxEg</td>\n",
              "      <td>Hmshost</td>\n",
              "      <td>35.220559</td>\n",
              "      <td>-80.943874</td>\n",
              "      <td>2.0</td>\n",
              "      <td>5</td>\n",
              "      <td>Restaurants</td>\n",
              "    </tr>\n",
              "    <tr>\n",
              "      <th>135526</th>\n",
              "      <td>lRkmUoo9gEcDq6_GZkdlrg</td>\n",
              "      <td>Havana Cuban Cuisine</td>\n",
              "      <td>35.227966</td>\n",
              "      <td>-80.844061</td>\n",
              "      <td>2.5</td>\n",
              "      <td>6</td>\n",
              "      <td>Food</td>\n",
              "    </tr>\n",
              "    <tr>\n",
              "      <th>140953</th>\n",
              "      <td>dlt1ugrobTjdjX6U73gbsw</td>\n",
              "      <td>Carolina Grill</td>\n",
              "      <td>35.137223</td>\n",
              "      <td>-80.734594</td>\n",
              "      <td>3.5</td>\n",
              "      <td>4</td>\n",
              "      <td>Restaurants</td>\n",
              "    </tr>\n",
              "    <tr>\n",
              "      <th>146464</th>\n",
              "      <td>liLRXHaS5x4vy8EJq5fh9g</td>\n",
              "      <td>Arthurs's At Wachovia</td>\n",
              "      <td>35.223805</td>\n",
              "      <td>-80.844616</td>\n",
              "      <td>3.0</td>\n",
              "      <td>5</td>\n",
              "      <td>Restaurants</td>\n",
              "    </tr>\n",
              "    <tr>\n",
              "      <th>176261</th>\n",
              "      <td>r7S7Dbq6AqSrne2WgoXohQ</td>\n",
              "      <td>Harper's Restaurant</td>\n",
              "      <td>35.208801</td>\n",
              "      <td>-80.840503</td>\n",
              "      <td>4.5</td>\n",
              "      <td>3</td>\n",
              "      <td>Restaurants</td>\n",
              "    </tr>\n",
              "    <tr>\n",
              "      <th>202429</th>\n",
              "      <td>htukE-iB6K8Yn2q5W4bI_A</td>\n",
              "      <td>Cheese Mo'z Coal Fired Pizza</td>\n",
              "      <td>35.053554</td>\n",
              "      <td>-80.811620</td>\n",
              "      <td>2.5</td>\n",
              "      <td>7</td>\n",
              "      <td>Restaurants</td>\n",
              "    </tr>\n",
              "  </tbody>\n",
              "</table>\n",
              "</div>"
            ],
            "text/plain": [
              "                   business_id                          name   latitude  \\\n",
              "11623   iDdDQDyvjYJ-YxeUjBMFsg                   City Tavern  35.199979   \n",
              "12245   jGC-7KSSr4a6kceTehcSpA          SouthEast Crab Feast  35.150282   \n",
              "34031   xxJMwfmcRFdQXbJJetntlw                Sub Station II  35.135719   \n",
              "77077   LAswzVTnT3uCvnKr-SwxEg                       Hmshost  35.220559   \n",
              "135526  lRkmUoo9gEcDq6_GZkdlrg          Havana Cuban Cuisine  35.227966   \n",
              "140953  dlt1ugrobTjdjX6U73gbsw                Carolina Grill  35.137223   \n",
              "146464  liLRXHaS5x4vy8EJq5fh9g         Arthurs's At Wachovia  35.223805   \n",
              "176261  r7S7Dbq6AqSrne2WgoXohQ           Harper's Restaurant  35.208801   \n",
              "202429  htukE-iB6K8Yn2q5W4bI_A  Cheese Mo'z Coal Fired Pizza  35.053554   \n",
              "\n",
              "        longitude  stars  review_count   categories  \n",
              "11623  -80.842334    3.5             4  Restaurants  \n",
              "12245  -80.850352    2.0            12         Food  \n",
              "34031  -80.878744    3.5             3  Restaurants  \n",
              "77077  -80.943874    2.0             5  Restaurants  \n",
              "135526 -80.844061    2.5             6         Food  \n",
              "140953 -80.734594    3.5             4  Restaurants  \n",
              "146464 -80.844616    3.0             5  Restaurants  \n",
              "176261 -80.840503    4.5             3  Restaurants  \n",
              "202429 -80.811620    2.5             7  Restaurants  "
            ]
          },
          "metadata": {
            "tags": []
          },
          "execution_count": 55
        }
      ]
    },
    {
      "cell_type": "markdown",
      "metadata": {
        "id": "NRpEG1Lk0GqO",
        "colab_type": "text"
      },
      "source": [
        "We see there is no data of Raleigh in yelp review dataset"
      ]
    },
    {
      "cell_type": "markdown",
      "metadata": {
        "id": "8ww67KEY0GqP",
        "colab_type": "text"
      },
      "source": [
        "## Adding Rating as new feature similar as above"
      ]
    },
    {
      "cell_type": "code",
      "metadata": {
        "id": "Lce9VDGO0GqP",
        "colab_type": "code",
        "colab": {},
        "outputId": "48430d25-4d50-4ab7-f599-42e0ad81f968"
      },
      "source": [
        "def conditions(s):\n",
        "    if s['stars']<=2:\n",
        "        return 'poor rated'\n",
        "    if (s['stars']<=2.5) & (s['stars'] > 2):\n",
        "        return 'below avg rated'\n",
        "    if s['stars']<=3.5:\n",
        "        return 'above avg rated'\n",
        "    if s['stars']>=4:\n",
        "        return 'high rated'\n",
        "\n",
        "restaurants_char['Rating']=restaurants_char.apply(conditions, axis=1)\n",
        "restaurants_char=restaurants_char.rename(columns={\"business_id\": \"id\", \"latitude\": \"lat\", 'longitude':'lng'})\n",
        "restaurants_char"
      ],
      "execution_count": 0,
      "outputs": [
        {
          "output_type": "execute_result",
          "data": {
            "text/html": [
              "<div>\n",
              "<style scoped>\n",
              "    .dataframe tbody tr th:only-of-type {\n",
              "        vertical-align: middle;\n",
              "    }\n",
              "\n",
              "    .dataframe tbody tr th {\n",
              "        vertical-align: top;\n",
              "    }\n",
              "\n",
              "    .dataframe thead th {\n",
              "        text-align: right;\n",
              "    }\n",
              "</style>\n",
              "<table border=\"1\" class=\"dataframe\">\n",
              "  <thead>\n",
              "    <tr style=\"text-align: right;\">\n",
              "      <th></th>\n",
              "      <th>id</th>\n",
              "      <th>name</th>\n",
              "      <th>lat</th>\n",
              "      <th>lng</th>\n",
              "      <th>stars</th>\n",
              "      <th>review_count</th>\n",
              "      <th>categories</th>\n",
              "      <th>Rating</th>\n",
              "    </tr>\n",
              "  </thead>\n",
              "  <tbody>\n",
              "    <tr>\n",
              "      <th>11623</th>\n",
              "      <td>iDdDQDyvjYJ-YxeUjBMFsg</td>\n",
              "      <td>City Tavern</td>\n",
              "      <td>35.199979</td>\n",
              "      <td>-80.842334</td>\n",
              "      <td>3.5</td>\n",
              "      <td>4</td>\n",
              "      <td>Restaurants</td>\n",
              "      <td>above avg rated</td>\n",
              "    </tr>\n",
              "    <tr>\n",
              "      <th>12245</th>\n",
              "      <td>jGC-7KSSr4a6kceTehcSpA</td>\n",
              "      <td>SouthEast Crab Feast</td>\n",
              "      <td>35.150282</td>\n",
              "      <td>-80.850352</td>\n",
              "      <td>2.0</td>\n",
              "      <td>12</td>\n",
              "      <td>Food</td>\n",
              "      <td>poor rated</td>\n",
              "    </tr>\n",
              "    <tr>\n",
              "      <th>34031</th>\n",
              "      <td>xxJMwfmcRFdQXbJJetntlw</td>\n",
              "      <td>Sub Station II</td>\n",
              "      <td>35.135719</td>\n",
              "      <td>-80.878744</td>\n",
              "      <td>3.5</td>\n",
              "      <td>3</td>\n",
              "      <td>Restaurants</td>\n",
              "      <td>above avg rated</td>\n",
              "    </tr>\n",
              "    <tr>\n",
              "      <th>77077</th>\n",
              "      <td>LAswzVTnT3uCvnKr-SwxEg</td>\n",
              "      <td>Hmshost</td>\n",
              "      <td>35.220559</td>\n",
              "      <td>-80.943874</td>\n",
              "      <td>2.0</td>\n",
              "      <td>5</td>\n",
              "      <td>Restaurants</td>\n",
              "      <td>poor rated</td>\n",
              "    </tr>\n",
              "    <tr>\n",
              "      <th>135526</th>\n",
              "      <td>lRkmUoo9gEcDq6_GZkdlrg</td>\n",
              "      <td>Havana Cuban Cuisine</td>\n",
              "      <td>35.227966</td>\n",
              "      <td>-80.844061</td>\n",
              "      <td>2.5</td>\n",
              "      <td>6</td>\n",
              "      <td>Food</td>\n",
              "      <td>below avg rated</td>\n",
              "    </tr>\n",
              "    <tr>\n",
              "      <th>140953</th>\n",
              "      <td>dlt1ugrobTjdjX6U73gbsw</td>\n",
              "      <td>Carolina Grill</td>\n",
              "      <td>35.137223</td>\n",
              "      <td>-80.734594</td>\n",
              "      <td>3.5</td>\n",
              "      <td>4</td>\n",
              "      <td>Restaurants</td>\n",
              "      <td>above avg rated</td>\n",
              "    </tr>\n",
              "    <tr>\n",
              "      <th>146464</th>\n",
              "      <td>liLRXHaS5x4vy8EJq5fh9g</td>\n",
              "      <td>Arthurs's At Wachovia</td>\n",
              "      <td>35.223805</td>\n",
              "      <td>-80.844616</td>\n",
              "      <td>3.0</td>\n",
              "      <td>5</td>\n",
              "      <td>Restaurants</td>\n",
              "      <td>above avg rated</td>\n",
              "    </tr>\n",
              "    <tr>\n",
              "      <th>176261</th>\n",
              "      <td>r7S7Dbq6AqSrne2WgoXohQ</td>\n",
              "      <td>Harper's Restaurant</td>\n",
              "      <td>35.208801</td>\n",
              "      <td>-80.840503</td>\n",
              "      <td>4.5</td>\n",
              "      <td>3</td>\n",
              "      <td>Restaurants</td>\n",
              "      <td>high rated</td>\n",
              "    </tr>\n",
              "    <tr>\n",
              "      <th>202429</th>\n",
              "      <td>htukE-iB6K8Yn2q5W4bI_A</td>\n",
              "      <td>Cheese Mo'z Coal Fired Pizza</td>\n",
              "      <td>35.053554</td>\n",
              "      <td>-80.811620</td>\n",
              "      <td>2.5</td>\n",
              "      <td>7</td>\n",
              "      <td>Restaurants</td>\n",
              "      <td>below avg rated</td>\n",
              "    </tr>\n",
              "  </tbody>\n",
              "</table>\n",
              "</div>"
            ],
            "text/plain": [
              "                            id                          name        lat  \\\n",
              "11623   iDdDQDyvjYJ-YxeUjBMFsg                   City Tavern  35.199979   \n",
              "12245   jGC-7KSSr4a6kceTehcSpA          SouthEast Crab Feast  35.150282   \n",
              "34031   xxJMwfmcRFdQXbJJetntlw                Sub Station II  35.135719   \n",
              "77077   LAswzVTnT3uCvnKr-SwxEg                       Hmshost  35.220559   \n",
              "135526  lRkmUoo9gEcDq6_GZkdlrg          Havana Cuban Cuisine  35.227966   \n",
              "140953  dlt1ugrobTjdjX6U73gbsw                Carolina Grill  35.137223   \n",
              "146464  liLRXHaS5x4vy8EJq5fh9g         Arthurs's At Wachovia  35.223805   \n",
              "176261  r7S7Dbq6AqSrne2WgoXohQ           Harper's Restaurant  35.208801   \n",
              "202429  htukE-iB6K8Yn2q5W4bI_A  Cheese Mo'z Coal Fired Pizza  35.053554   \n",
              "\n",
              "              lng  stars  review_count   categories           Rating  \n",
              "11623  -80.842334    3.5             4  Restaurants  above avg rated  \n",
              "12245  -80.850352    2.0            12         Food       poor rated  \n",
              "34031  -80.878744    3.5             3  Restaurants  above avg rated  \n",
              "77077  -80.943874    2.0             5  Restaurants       poor rated  \n",
              "135526 -80.844061    2.5             6         Food  below avg rated  \n",
              "140953 -80.734594    3.5             4  Restaurants  above avg rated  \n",
              "146464 -80.844616    3.0             5  Restaurants  above avg rated  \n",
              "176261 -80.840503    4.5             3  Restaurants       high rated  \n",
              "202429 -80.811620    2.5             7  Restaurants  below avg rated  "
            ]
          },
          "metadata": {
            "tags": []
          },
          "execution_count": 56
        }
      ]
    },
    {
      "cell_type": "markdown",
      "metadata": {
        "id": "gQqtDqWs0GqQ",
        "colab_type": "text"
      },
      "source": [
        "**I performed data formatting in order to match the columns of previous charlotte dataset so that we can merge both dataframes.**"
      ]
    },
    {
      "cell_type": "markdown",
      "metadata": {
        "id": "RkqKz3eW0GqQ",
        "colab_type": "text"
      },
      "source": [
        "## One hot encoding to perform unsuperivised machine learning classification"
      ]
    },
    {
      "cell_type": "code",
      "metadata": {
        "id": "eZNK685D0GqQ",
        "colab_type": "code",
        "colab": {},
        "outputId": "a912fca3-bd96-4090-fdcf-4d9ba8c64ff6"
      },
      "source": [
        "# one hot encoding\n",
        "Charonehot = pd.get_dummies(restaurants_char[['categories', 'Rating']], prefix=\"\", prefix_sep=\"\")\n",
        "\n",
        "# adding neighborhood column back to dataframe\n",
        "Charonehot['Name'] = restaurants_char['name'] \n",
        "\n",
        "# moving neighborhood column to the first column\n",
        "fixed_columns2 = [Charonehot.columns[-1]] + list(Charonehot.columns[:-1])\n",
        "Charonehot = Charonehot[fixed_columns2]\n",
        "\n",
        "cluster_charl = Charonehot.drop('Name', axis=1)\n",
        "\n",
        "k_clusters = 4\n",
        "\n",
        "## Performing k mean clustering and adding clusters as new feature to dataset to visualize on map\n",
        "kmeansCh = KMeans(n_clusters=k_clusters, random_state=0).fit(cluster_charl)\n",
        "kmeansCh.labels_\n",
        "\n",
        "restaurants_char['label'] = kmeansCh.labels_\n",
        "restaurants_char.shape"
      ],
      "execution_count": 0,
      "outputs": [
        {
          "output_type": "execute_result",
          "data": {
            "text/plain": [
              "(9, 9)"
            ]
          },
          "metadata": {
            "tags": []
          },
          "execution_count": 57
        }
      ]
    },
    {
      "cell_type": "markdown",
      "metadata": {
        "id": "TM8wGmkY0GqR",
        "colab_type": "text"
      },
      "source": [
        "**Merging both dataframes**"
      ]
    },
    {
      "cell_type": "code",
      "metadata": {
        "id": "LvJ585aX0GqS",
        "colab_type": "code",
        "colab": {}
      },
      "source": [
        "combined_char= pd.concat([nearby_venues_char, restaurants_char], axis=0)"
      ],
      "execution_count": 0,
      "outputs": []
    },
    {
      "cell_type": "code",
      "metadata": {
        "id": "pH89bh9V0GqT",
        "colab_type": "code",
        "colab": {}
      },
      "source": [
        "combined_char=combined_char.drop(['total likes', 'stars','review_count'], axis=1)"
      ],
      "execution_count": 0,
      "outputs": []
    },
    {
      "cell_type": "code",
      "metadata": {
        "id": "kQjuex9O0GqT",
        "colab_type": "code",
        "colab": {}
      },
      "source": [
        "combined_char=combined_char.reset_index()\n",
        "combined_char=combined_char.drop(['index'], axis=1)"
      ],
      "execution_count": 0,
      "outputs": []
    },
    {
      "cell_type": "markdown",
      "metadata": {
        "id": "RPSSsxMN0GqU",
        "colab_type": "text"
      },
      "source": [
        "**Transforming latitude and longitude data as Coordinates(X,Y) for further querying data**"
      ]
    },
    {
      "cell_type": "code",
      "metadata": {
        "id": "QcRG019r0GqU",
        "colab_type": "code",
        "colab": {}
      },
      "source": [
        "restaurants_coord= []\n",
        "for i in combined_char.index:\n",
        "    point = (combined_char.lat[i],combined_char.lng[i])\n",
        "    restaurants_coord.append(point)\n",
        "combined_char['Coordinates'] = restaurants_coord \n",
        "\n"
      ],
      "execution_count": 0,
      "outputs": []
    },
    {
      "cell_type": "code",
      "metadata": {
        "id": "DlnY21920GqV",
        "colab_type": "code",
        "colab": {}
      },
      "source": [
        "restaurants_coords= []\n",
        "for i in nearby_venues_raleigh.index:\n",
        "    points = (nearby_venues_raleigh.loc[i,'lat'],nearby_venues_raleigh.loc[i,'lng'])\n",
        "    restaurants_coords.append(points)\n",
        "nearby_venues_raleigh['Coordinates'] = restaurants_coords \n",
        "nearby_venues_raleigh=nearby_venues_raleigh.reset_index()\n",
        "nearby_venues_raleigh=nearby_venues_raleigh.drop(['index'], axis=1)"
      ],
      "execution_count": 0,
      "outputs": []
    },
    {
      "cell_type": "code",
      "metadata": {
        "id": "ardwNdXQ0GqW",
        "colab_type": "code",
        "colab": {}
      },
      "source": [
        "nearby_venues_raleigh= pd.concat([nearby_venues_raleigh, combined_char], axis=0)"
      ],
      "execution_count": 0,
      "outputs": []
    },
    {
      "cell_type": "markdown",
      "metadata": {
        "id": "BhOjMJas0GqX",
        "colab_type": "text"
      },
      "source": [
        "## Creating search query"
      ]
    },
    {
      "cell_type": "markdown",
      "metadata": {
        "id": "yiTtFZg40GqX",
        "colab_type": "text"
      },
      "source": [
        "**In this restaurant query, one can search for restaurants in both cities by querying the data giving specific cuisine type and rating desired and this will automatically search your current location and filter restaurants based on your choices and return their name, cuisine type, distance from your loaction and map visualizing the restaurants recommended on map.**"
      ]
    },
    {
      "cell_type": "code",
      "metadata": {
        "id": "XUZhVcrZ0GqX",
        "colab_type": "code",
        "colab": {}
      },
      "source": [
        "import geocoder\n",
        "from scipy import spatial"
      ],
      "execution_count": 0,
      "outputs": []
    },
    {
      "cell_type": "code",
      "metadata": {
        "id": "k3prvOuK0GqZ",
        "colab_type": "code",
        "colab": {}
      },
      "source": [
        "def restaurant_query(Category, Rating):\n",
        "    #extracting coordinates of current location using geocoder\n",
        "    g = geocoder.ip('me')\n",
        "    #using scipy spatial KD trees to query the KD tree to find nearest restaurants to current location\n",
        "    tree = spatial.KDTree(nearby_venues_raleigh['Coordinates'].tolist())\n",
        "    distance= tree.query(g.latlng)[0] # distance from current location\n",
        "    location= tree.query(g.latlng)[1] # location in dataset\n",
        "    #filtering dataframe with location extracted by kd query\n",
        "    selected_restaurantR = nearby_venues_raleigh.iloc[location]\n",
        "    selected_restaurantR=selected_restaurantR.to_frame()\n",
        "    selected_restaurantR=selected_restaurantR.T\n",
        "    # Condition to extract restaurants of desired type\n",
        "    if (Category in selected_restaurantR['categories'].tolist()) & (Rating in selected_restaurantR['Rating'].tolist()): \n",
        "        selected_restaurantR['Distance'] = distance\n",
        "        \n",
        "        \n",
        "    # Visualizing on Map\n",
        "        map_clustersR = folium.Map(location=g.latlng, zoom_start=15)\n",
        "\n",
        "        # set color scheme for the clusters\n",
        "        x = np.arange(k_clusters)\n",
        "        ys = [i+x+(i*x)**2 for i in range(k_clusters)]\n",
        "        colors_array = cm.rainbow(np.linspace(0, 1, len(ys)))\n",
        "        rainbow = [colors.rgb2hex(i) for i in colors_array]\n",
        "\n",
        "        # add markers to the map\n",
        "        markers_colors = []\n",
        "        for lat, lon, poi, cluster in zip(selected_restaurantR['lat'], selected_restaurantR['lng'], selected_restaurantR['name'], selected_restaurantR['label']):\n",
        "            label = folium.Popup(str(poi) + ' Cluster ' + str(cluster), parse_html=True)\n",
        "            folium.CircleMarker(\n",
        "                [lat, lon],\n",
        "                radius=5,\n",
        "                popup=label,\n",
        "                color=rainbow[cluster-1],\n",
        "                fill=True,\n",
        "                fill_color=rainbow[cluster-1],\n",
        "                fill_opacity=0.7).add_to(map_clustersR)\n",
        "\n",
        "        print(selected_restaurantR[['name','categories','Distance']])\n",
        "        return map_clustersR\n",
        "    else : \n",
        "        print('no match')\n",
        "    "
      ],
      "execution_count": 0,
      "outputs": []
    },
    {
      "cell_type": "code",
      "metadata": {
        "id": "c9zar6xb0Gqa",
        "colab_type": "code",
        "colab": {},
        "outputId": "325658c5-d86d-4227-a081-9eced5c2c26e"
      },
      "source": [
        "restaurant_query('Italian Restaurant', 'high rated')"
      ],
      "execution_count": 0,
      "outputs": [
        {
          "output_type": "stream",
          "text": [
            "                        name          categories  Distance\n",
            "15  Oak City Meatball Shoppe  Italian Restaurant  0.003682\n"
          ],
          "name": "stdout"
        },
        {
          "output_type": "execute_result",
          "data": {
            "text/html": [
              "<div style=\"width:100%;\"><div style=\"position:relative;width:100%;height:0;padding-bottom:60%;\"><span style=\"color:#565656\">Make this Notebook Trusted to load map: File -> Trust Notebook</span><iframe src=\"about:blank\" style=\"position:absolute;width:100%;height:100%;left:0;top:0;border:none !important;\" data-html=PCFET0NUWVBFIGh0bWw+CjxoZWFkPiAgICAKICAgIDxtZXRhIGh0dHAtZXF1aXY9ImNvbnRlbnQtdHlwZSIgY29udGVudD0idGV4dC9odG1sOyBjaGFyc2V0PVVURi04IiAvPgogICAgCiAgICAgICAgPHNjcmlwdD4KICAgICAgICAgICAgTF9OT19UT1VDSCA9IGZhbHNlOwogICAgICAgICAgICBMX0RJU0FCTEVfM0QgPSBmYWxzZTsKICAgICAgICA8L3NjcmlwdD4KICAgIAogICAgPHNjcmlwdCBzcmM9Imh0dHBzOi8vY2RuLmpzZGVsaXZyLm5ldC9ucG0vbGVhZmxldEAxLjYuMC9kaXN0L2xlYWZsZXQuanMiPjwvc2NyaXB0PgogICAgPHNjcmlwdCBzcmM9Imh0dHBzOi8vY29kZS5qcXVlcnkuY29tL2pxdWVyeS0xLjEyLjQubWluLmpzIj48L3NjcmlwdD4KICAgIDxzY3JpcHQgc3JjPSJodHRwczovL21heGNkbi5ib290c3RyYXBjZG4uY29tL2Jvb3RzdHJhcC8zLjIuMC9qcy9ib290c3RyYXAubWluLmpzIj48L3NjcmlwdD4KICAgIDxzY3JpcHQgc3JjPSJodHRwczovL2NkbmpzLmNsb3VkZmxhcmUuY29tL2FqYXgvbGlicy9MZWFmbGV0LmF3ZXNvbWUtbWFya2Vycy8yLjAuMi9sZWFmbGV0LmF3ZXNvbWUtbWFya2Vycy5qcyI+PC9zY3JpcHQ+CiAgICA8bGluayByZWw9InN0eWxlc2hlZXQiIGhyZWY9Imh0dHBzOi8vY2RuLmpzZGVsaXZyLm5ldC9ucG0vbGVhZmxldEAxLjYuMC9kaXN0L2xlYWZsZXQuY3NzIi8+CiAgICA8bGluayByZWw9InN0eWxlc2hlZXQiIGhyZWY9Imh0dHBzOi8vbWF4Y2RuLmJvb3RzdHJhcGNkbi5jb20vYm9vdHN0cmFwLzMuMi4wL2Nzcy9ib290c3RyYXAubWluLmNzcyIvPgogICAgPGxpbmsgcmVsPSJzdHlsZXNoZWV0IiBocmVmPSJodHRwczovL21heGNkbi5ib290c3RyYXBjZG4uY29tL2Jvb3RzdHJhcC8zLjIuMC9jc3MvYm9vdHN0cmFwLXRoZW1lLm1pbi5jc3MiLz4KICAgIDxsaW5rIHJlbD0ic3R5bGVzaGVldCIgaHJlZj0iaHR0cHM6Ly9tYXhjZG4uYm9vdHN0cmFwY2RuLmNvbS9mb250LWF3ZXNvbWUvNC42LjMvY3NzL2ZvbnQtYXdlc29tZS5taW4uY3NzIi8+CiAgICA8bGluayByZWw9InN0eWxlc2hlZXQiIGhyZWY9Imh0dHBzOi8vY2RuanMuY2xvdWRmbGFyZS5jb20vYWpheC9saWJzL0xlYWZsZXQuYXdlc29tZS1tYXJrZXJzLzIuMC4yL2xlYWZsZXQuYXdlc29tZS1tYXJrZXJzLmNzcyIvPgogICAgPGxpbmsgcmVsPSJzdHlsZXNoZWV0IiBocmVmPSJodHRwczovL3Jhd2Nkbi5naXRoYWNrLmNvbS9weXRob24tdmlzdWFsaXphdGlvbi9mb2xpdW0vbWFzdGVyL2ZvbGl1bS90ZW1wbGF0ZXMvbGVhZmxldC5hd2Vzb21lLnJvdGF0ZS5jc3MiLz4KICAgIDxzdHlsZT5odG1sLCBib2R5IHt3aWR0aDogMTAwJTtoZWlnaHQ6IDEwMCU7bWFyZ2luOiAwO3BhZGRpbmc6IDA7fTwvc3R5bGU+CiAgICA8c3R5bGU+I21hcCB7cG9zaXRpb246YWJzb2x1dGU7dG9wOjA7Ym90dG9tOjA7cmlnaHQ6MDtsZWZ0OjA7fTwvc3R5bGU+CiAgICAKICAgICAgICAgICAgPG1ldGEgbmFtZT0idmlld3BvcnQiIGNvbnRlbnQ9IndpZHRoPWRldmljZS13aWR0aCwKICAgICAgICAgICAgICAgIGluaXRpYWwtc2NhbGU9MS4wLCBtYXhpbXVtLXNjYWxlPTEuMCwgdXNlci1zY2FsYWJsZT1ubyIgLz4KICAgICAgICAgICAgPHN0eWxlPgogICAgICAgICAgICAgICAgI21hcF8yMTI3OTU4MDdhNmU0OGM4ODFkOTA5M2U0OTcwZWMxNiB7CiAgICAgICAgICAgICAgICAgICAgcG9zaXRpb246IHJlbGF0aXZlOwogICAgICAgICAgICAgICAgICAgIHdpZHRoOiAxMDAuMCU7CiAgICAgICAgICAgICAgICAgICAgaGVpZ2h0OiAxMDAuMCU7CiAgICAgICAgICAgICAgICAgICAgbGVmdDogMC4wJTsKICAgICAgICAgICAgICAgICAgICB0b3A6IDAuMCU7CiAgICAgICAgICAgICAgICB9CiAgICAgICAgICAgIDwvc3R5bGU+CiAgICAgICAgCjwvaGVhZD4KPGJvZHk+ICAgIAogICAgCiAgICAgICAgICAgIDxkaXYgY2xhc3M9ImZvbGl1bS1tYXAiIGlkPSJtYXBfMjEyNzk1ODA3YTZlNDhjODgxZDkwOTNlNDk3MGVjMTYiID48L2Rpdj4KICAgICAgICAKPC9ib2R5Pgo8c2NyaXB0PiAgICAKICAgIAogICAgICAgICAgICB2YXIgbWFwXzIxMjc5NTgwN2E2ZTQ4Yzg4MWQ5MDkzZTQ5NzBlYzE2ID0gTC5tYXAoCiAgICAgICAgICAgICAgICAibWFwXzIxMjc5NTgwN2E2ZTQ4Yzg4MWQ5MDkzZTQ5NzBlYzE2IiwKICAgICAgICAgICAgICAgIHsKICAgICAgICAgICAgICAgICAgICBjZW50ZXI6IFszNS43NzIxLCAtNzguNjM4Nl0sCiAgICAgICAgICAgICAgICAgICAgY3JzOiBMLkNSUy5FUFNHMzg1NywKICAgICAgICAgICAgICAgICAgICB6b29tOiAxNSwKICAgICAgICAgICAgICAgICAgICB6b29tQ29udHJvbDogdHJ1ZSwKICAgICAgICAgICAgICAgICAgICBwcmVmZXJDYW52YXM6IGZhbHNlLAogICAgICAgICAgICAgICAgfQogICAgICAgICAgICApOwoKICAgICAgICAgICAgCgogICAgICAgIAogICAgCiAgICAgICAgICAgIHZhciB0aWxlX2xheWVyXzQ5MmNjYmU4OWY2ZjQ4Yzk4Y2RjMjcwMjM4MDE5NThlID0gTC50aWxlTGF5ZXIoCiAgICAgICAgICAgICAgICAiaHR0cHM6Ly97c30udGlsZS5vcGVuc3RyZWV0bWFwLm9yZy97en0ve3h9L3t5fS5wbmciLAogICAgICAgICAgICAgICAgeyJhdHRyaWJ1dGlvbiI6ICJEYXRhIGJ5IFx1MDAyNmNvcHk7IFx1MDAzY2EgaHJlZj1cImh0dHA6Ly9vcGVuc3RyZWV0bWFwLm9yZ1wiXHUwMDNlT3BlblN0cmVldE1hcFx1MDAzYy9hXHUwMDNlLCB1bmRlciBcdTAwM2NhIGhyZWY9XCJodHRwOi8vd3d3Lm9wZW5zdHJlZXRtYXAub3JnL2NvcHlyaWdodFwiXHUwMDNlT0RiTFx1MDAzYy9hXHUwMDNlLiIsICJkZXRlY3RSZXRpbmEiOiBmYWxzZSwgIm1heE5hdGl2ZVpvb20iOiAxOCwgIm1heFpvb20iOiAxOCwgIm1pblpvb20iOiAwLCAibm9XcmFwIjogZmFsc2UsICJvcGFjaXR5IjogMSwgInN1YmRvbWFpbnMiOiAiYWJjIiwgInRtcyI6IGZhbHNlfQogICAgICAgICAgICApLmFkZFRvKG1hcF8yMTI3OTU4MDdhNmU0OGM4ODFkOTA5M2U0OTcwZWMxNik7CiAgICAgICAgCiAgICAKICAgICAgICAgICAgdmFyIGNpcmNsZV9tYXJrZXJfMDZmMWMwOGNkYjEyNDU4ZjgxZTc3N2ZkNTBmZTQ0ODUgPSBMLmNpcmNsZU1hcmtlcigKICAgICAgICAgICAgICAgIFszNS43NzU1MTk2ODQ1ODgxNSwgLTc4LjYzNzIzNDA0NDU1Mjk3XSwKICAgICAgICAgICAgICAgIHsiYnViYmxpbmdNb3VzZUV2ZW50cyI6IHRydWUsICJjb2xvciI6ICIjZmYwMDAwIiwgImRhc2hBcnJheSI6IG51bGwsICJkYXNoT2Zmc2V0IjogbnVsbCwgImZpbGwiOiB0cnVlLCAiZmlsbENvbG9yIjogIiNmZjAwMDAiLCAiZmlsbE9wYWNpdHkiOiAwLjcsICJmaWxsUnVsZSI6ICJldmVub2RkIiwgImxpbmVDYXAiOiAicm91bmQiLCAibGluZUpvaW4iOiAicm91bmQiLCAib3BhY2l0eSI6IDEuMCwgInJhZGl1cyI6IDUsICJzdHJva2UiOiB0cnVlLCAid2VpZ2h0IjogM30KICAgICAgICAgICAgKS5hZGRUbyhtYXBfMjEyNzk1ODA3YTZlNDhjODgxZDkwOTNlNDk3MGVjMTYpOwogICAgICAgIAogICAgCiAgICAgICAgdmFyIHBvcHVwX2M0NDM0ZDQ1MWRhNzQyY2U4MjhlMmNlZjg0ZmQzNmRjID0gTC5wb3B1cCh7Im1heFdpZHRoIjogIjEwMCUifSk7CgogICAgICAgIAogICAgICAgICAgICB2YXIgaHRtbF8wOTI0MzM3ZWQ3YmI0MDE3OWZkMDQ0NGViMWQ5Y2EyOCA9ICQoYDxkaXYgaWQ9Imh0bWxfMDkyNDMzN2VkN2JiNDAxNzlmZDA0NDRlYjFkOWNhMjgiIHN0eWxlPSJ3aWR0aDogMTAwLjAlOyBoZWlnaHQ6IDEwMC4wJTsiPk9hayBDaXR5IE1lYXRiYWxsIFNob3BwZSBDbHVzdGVyIDA8L2Rpdj5gKVswXTsKICAgICAgICAgICAgcG9wdXBfYzQ0MzRkNDUxZGE3NDJjZTgyOGUyY2VmODRmZDM2ZGMuc2V0Q29udGVudChodG1sXzA5MjQzMzdlZDdiYjQwMTc5ZmQwNDQ0ZWIxZDljYTI4KTsKICAgICAgICAKCiAgICAgICAgY2lyY2xlX21hcmtlcl8wNmYxYzA4Y2RiMTI0NThmODFlNzc3ZmQ1MGZlNDQ4NS5iaW5kUG9wdXAocG9wdXBfYzQ0MzRkNDUxZGE3NDJjZTgyOGUyY2VmODRmZDM2ZGMpCiAgICAgICAgOwoKICAgICAgICAKICAgIAo8L3NjcmlwdD4= onload=\"this.contentDocument.open();this.contentDocument.write(atob(this.getAttribute('data-html')));this.contentDocument.close();\" allowfullscreen webkitallowfullscreen mozallowfullscreen></iframe></div></div>"
            ],
            "text/plain": [
              "<folium.folium.Map at 0x1a210ab4d0>"
            ]
          },
          "metadata": {
            "tags": []
          },
          "execution_count": 66
        }
      ]
    },
    {
      "cell_type": "code",
      "metadata": {
        "id": "uI6L0OUh0Gqb",
        "colab_type": "code",
        "colab": {}
      },
      "source": [
        ""
      ],
      "execution_count": 0,
      "outputs": []
    }
  ]
}