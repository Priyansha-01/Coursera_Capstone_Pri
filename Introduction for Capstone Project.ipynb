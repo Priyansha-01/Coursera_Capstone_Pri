{
 "cells": [
  {
   "cell_type": "markdown",
   "metadata": {},
   "source": [
    "# Comparison of High-rated Restaurants in Raleigh and Charlotte"
   ]
  },
  {
   "cell_type": "markdown",
   "metadata": {},
   "source": [
    "## **Introduction**:\n",
    "The city of Raleigh, NC and Charlotte, NC has amazing restaurants of different types. These cities are major cities of NC. Comparison between these two cities is being made to see best places to go to in both cities and what type of restaurant are popular in both cities. \n",
    "\n",
    "\n",
    "## **Business Problem**:\n",
    "Analysis is done based on Foursquare likes, restaurant category and geographic location data for restaurants in Charlotte and Raleigh. Then with the help of visualization and cluster analysis will discover category popularity in both cities and their specialities based on Foursquare user feedback."
   ]
  },
  {
   "cell_type": "markdown",
   "metadata": {},
   "source": [
    "## **About Data**\n",
    "The Foursquare API is used to pull the following location data on restaurants in Raleigh, NC and Charlotte, NC:\n",
    "- Venue Name\n",
    "- Venue ID\n",
    "- Venue Location\n",
    "- Venue Category\n",
    "- No. of Likes\n",
    "\n",
    "## **Data Acquisition Approach**\n",
    "\n",
    "For Data Acquisition, Geolocator latitude and longitude coordinates for Raleigh, NC and Charlotte, NC is used. Then with the help of Foursquare API I extracted list of all venues in Raleigh, NC and Charlotte, NC and filtered for venues of category Restaurant.\n",
    "\n",
    "**Algorithm Used:**\n",
    "\n",
    "Used gathered data to create a k-means clustering that groups restaurants into different clusters so that comparison can be made to see which type is pouplar and which restaurants are the best to eat at in Raleigh and Charlotte. "
   ]
  },
  {
   "cell_type": "code",
   "execution_count": null,
   "metadata": {},
   "outputs": [],
   "source": []
  }
 ],
 "metadata": {
  "kernelspec": {
   "display_name": "Python 3",
   "language": "python",
   "name": "python3"
  },
  "language_info": {
   "codemirror_mode": {
    "name": "ipython",
    "version": 3
   },
   "file_extension": ".py",
   "mimetype": "text/x-python",
   "name": "python",
   "nbconvert_exporter": "python",
   "pygments_lexer": "ipython3",
   "version": "3.6.9"
  }
 },
 "nbformat": 4,
 "nbformat_minor": 2
}
