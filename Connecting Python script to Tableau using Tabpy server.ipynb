{
 "cells": [
  {
   "cell_type": "code",
   "execution_count": 2,
   "metadata": {},
   "outputs": [
    {
     "name": "stderr",
     "output_type": "stream",
     "text": [
      "/opt/anaconda3/lib/python3.7/site-packages/sklearn/externals/joblib/__init__.py:15: FutureWarning: sklearn.externals.joblib is deprecated in 0.21 and will be removed in 0.23. Please import this functionality directly from joblib, which can be installed with: pip install joblib. If this warning is raised when loading pickled models, you may need to re-serialize those models with scikit-learn 0.21+.\n",
      "  warnings.warn(msg, category=FutureWarning)\n"
     ]
    }
   ],
   "source": [
    "# import needed libraries\n",
    "from sklearn.externals import joblib\n",
    "import tabpy_client"
   ]
  },
  {
   "cell_type": "code",
   "execution_count": 3,
   "metadata": {},
   "outputs": [],
   "source": [
    "loadRFCmodel = joblib.load( '/Users/..../Downloads/436025-853067-bundle-archive/JupyterRandForest.pkl')"
   ]
  },
  {
   "cell_type": "code",
   "execution_count": 4,
   "metadata": {},
   "outputs": [],
   "source": [
    "# Connect to TabPy server using the client library\n",
    "from tabpy.tabpy_tools.client import Client\n",
    "connection = Client('http://localhost:9004/')"
   ]
  },
  {
   "cell_type": "code",
   "execution_count": 5,
   "metadata": {},
   "outputs": [],
   "source": [
    "def encoding(x):\n",
    "    import numpy as np\n",
    "    from sklearn import preprocessing\n",
    "    le = preprocessing.LabelEncoder()\n",
    "    le.fit(x)\n",
    "    x=le.transform(x)\n",
    "    return x.tolist()\n",
    "\n",
    "connection.deploy('Encoding', encoding, 'Encode Categorical Variable' , override= True) "
   ]
  },
  {
   "cell_type": "code",
   "execution_count": 6,
   "metadata": {},
   "outputs": [],
   "source": [
    "def DescriptiveStatistics(_arg1, _arg2, _arg3, _arg4, _arg5, _arg6, _arg7, _arg8,_arg9, _arg10):\n",
    "    import pandas as pd\n",
    "    import numpy as np\n",
    "    from pandas import DataFrame\n",
    "    d = {\"Age\":_arg1,\"Campaign\":_arg2,\"ConfigIndex\":_arg3,\"Duration\":_arg4,\"PriceIndex\":_arg5,\"NrEmployed\":_arg6,\"Previous\":_arg7,\"Euribor3m\":_arg8,\n",
    "               \"pdays\":_arg9,\"Rate\":_arg10}\n",
    "    X = pd.DataFrame(data=d)\n",
    "    descriptiveStat=X.describe()\n",
    "    return descriptiveStat.values.tolist()\n",
    "connection.deploy('Descriptive Statistics',DescriptiveStatistics,'Return Summary Statistics ', override= True)   "
   ]
  },
  {
   "cell_type": "code",
   "execution_count": 7,
   "metadata": {},
   "outputs": [],
   "source": [
    "def correlation(_arg1, _arg2, _arg3, _arg4, _arg5, _arg6, _arg7, _arg8,_arg9, _arg10, _arg11, _arg12, _arg13, _arg14, _arg15, _arg16,_arg17, _arg18, _arg19,_arg20,_arg21):\n",
    "    import pandas as pd\n",
    "    import numpy as np\n",
    "    from pandas import DataFrame\n",
    "    d = {\"Age\":_arg1,\"Campaign\":_arg2,\"ConfigIndex\":_arg3,\"Duration\":_arg4,\"PriceIndex\":_arg5,\"Contact_Enc\":_arg6,\"Day_of_Week_Enc\":_arg7,\"Default\":_arg8,\n",
    "               \"Education\":_arg9,\"Rate\":_arg10,\"Euribor3m\":_arg11,\"Housing\":_arg12,\"Job\":_arg13,\"Loan\":_arg14,\"Marital\":_arg15,\n",
    "               \"Month\":_arg16,\"NrEmployed\":_arg17,\"Pdays\":_arg18,\"Poutcome\":_arg19,\"Previous\":_arg20, \"Target_y\":_arg21}\n",
    "    X = pd.DataFrame(data=d)\n",
    "    corrmatrix = data.corr()\n",
    "    return corrmatrix.values.tolist()\n",
    "connection.deploy('Correlation',correlation,'Return Correlation Matrix', override= True)"
   ]
  },
  {
   "cell_type": "code",
   "execution_count": 8,
   "metadata": {},
   "outputs": [],
   "source": [
    "def classifier(_arg1, _arg2, _arg3, _arg4, _arg5, _arg6, _arg7, _arg8,_arg9, _arg10, _arg11, _arg12, _arg13, _arg14, _arg15, _arg16,_arg17, _arg18, _arg19,_arg20):\n",
    "    import numpy as np\n",
    "    import pandas as pd\n",
    "    from pandas import DataFrame\n",
    "    from sklearn.preprocessing import StandardScaler\n",
    "    d = {\"Age\":_arg1,\"Campaign\":_arg2,\"ConfigIndex\":_arg3,\"Duration\":_arg4,\"PriceIndex\":_arg5,\"Contact_Enc\":_arg6,\"Day_of_Week_Enc\":_arg7,\"Default\":_arg8,\n",
    "               \"Education\":_arg9,\"Rate\":_arg10,\"Euribor3m\":_arg11,\"Housing\":_arg12,\"Job\":_arg13,\"Loan\":_arg14,\"Marital\":_arg15,\n",
    "               \"Month\":_arg16,\"NrEmployed\":_arg17,\"Pdays\":_arg18,\"Poutcome\":_arg19,\"Previous\":_arg20}\n",
    "    X = pd.DataFrame(data=d)\n",
    "    X = StandardScaler().fit_transform(X)\n",
    "    prediction = loadRFCmodel.predict(X)\n",
    "    return prediction.values.tolist()\n",
    "\n",
    "connection.deploy('Classifier',classifier,'Predict Term Deposit Subscription', override= True)"
   ]
  },
  {
   "cell_type": "code",
   "execution_count": 9,
   "metadata": {},
   "outputs": [],
   "source": [
    "def performance(_arg1,_arg2):\n",
    "    from sklearn import ensemble\n",
    "    from sklearn import metrics\n",
    "    import pandas as pd\n",
    "    from pandas import DataFrame\n",
    "    f1_rfc = metrics.f1_score(y_true=_arg1,y_pred=_arg2)\n",
    "    acc_rfc = metrics.accuracy_score(y_true=_arg1,y_pred=_arg2)\n",
    "    pres_rfc = metrics.precision_score(y_true=_arg1,y_pred=_arg2)\n",
    "    recall_rfc = metrics.recall_score(y_true=_arg1,y_pred=_arg2)\n",
    "    d= {\"F1\": f1_rfc,\"Accuracy\":acc_rfc,\"Precision\":pres_rfc,\"Recall\":recall_rfc}\n",
    "    X = pd.DataFrame(data=d)\n",
    "    return X.values.tolist()\n",
    "connection.deploy('Performance',performance,'Return Performance Score of ML model', override= True)"
   ]
  }
 ],
 "metadata": {
  "kernelspec": {
   "display_name": "Python 3",
   "language": "python",
   "name": "python3"
  },
  "language_info": {
   "codemirror_mode": {
    "name": "ipython",
    "version": 3
   },
   "file_extension": ".py",
   "mimetype": "text/x-python",
   "name": "python",
   "nbconvert_exporter": "python",
   "pygments_lexer": "ipython3",
   "version": "3.7.6"
  }
 },
 "nbformat": 4,
 "nbformat_minor": 4
}
